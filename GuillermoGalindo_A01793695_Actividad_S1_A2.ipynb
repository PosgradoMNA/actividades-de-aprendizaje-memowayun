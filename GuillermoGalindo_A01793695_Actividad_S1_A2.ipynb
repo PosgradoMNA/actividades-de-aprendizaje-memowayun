{
  "nbformat": 4,
  "nbformat_minor": 0,
  "metadata": {
    "colab": {
      "provenance": []
    },
    "kernelspec": {
      "name": "python3",
      "display_name": "Python 3"
    },
    "language_info": {
      "name": "python"
    }
  },
  "cells": [
    {
      "cell_type": "markdown",
      "source": [
        "Miguel Guillermo Galindo Orozco\n",
        "A01793695"
      ],
      "metadata": {
        "id": "BR0pXfSWd5he"
      }
    },
    {
      "cell_type": "markdown",
      "source": [
        "# Curso IBM Python For Data Science"
      ],
      "metadata": {
        "id": "PxzjBgckKsHm"
      }
    },
    {
      "cell_type": "markdown",
      "source": [
        "Módulo 1, 2 y 3"
      ],
      "metadata": {
        "id": "g0B9lksud7u_"
      }
    },
    {
      "cell_type": "code",
      "source": [
        "# Check the Python Version\n",
        "\n",
        "import sys\n",
        "print(sys.version)\n",
        "import matplotlib.pyplot as plt"
      ],
      "metadata": {
        "colab": {
          "base_uri": "https://localhost:8080/"
        },
        "id": "qiA9nv02IojO",
        "outputId": "1a01fba8-40a1-43b8-dfe8-6bc8a4fcbe4c"
      },
      "execution_count": 243,
      "outputs": [
        {
          "output_type": "stream",
          "name": "stdout",
          "text": [
            "3.7.14 (default, Sep  8 2022, 00:06:44) \n",
            "[GCC 7.5.0]\n"
          ]
        }
      ]
    },
    {
      "cell_type": "markdown",
      "source": [
        "## Módulo 1"
      ],
      "metadata": {
        "id": "pTwyMsgd-1p6"
      }
    },
    {
      "cell_type": "markdown",
      "source": [
        "#### Your First Program"
      ],
      "metadata": {
        "id": "gkt8hyiKBCFr"
      }
    },
    {
      "cell_type": "code",
      "source": [
        "# Print \"Hello Python 101\"\n",
        "print('Hello Python 101')"
      ],
      "metadata": {
        "colab": {
          "base_uri": "https://localhost:8080/"
        },
        "id": "u3N-FXlBBGF3",
        "outputId": "50976e98-a308-43cf-8a40-4cded810048d"
      },
      "execution_count": 5,
      "outputs": [
        {
          "output_type": "stream",
          "name": "stdout",
          "text": [
            "Hello Python 101\n"
          ]
        }
      ]
    },
    {
      "cell_type": "code",
      "source": [
        "print(\"Hello\\nWorld!\")"
      ],
      "metadata": {
        "colab": {
          "base_uri": "https://localhost:8080/"
        },
        "id": "J3l7tbXJBMto",
        "outputId": "9962c046-b469-464e-ba27-28f79f2dd7f6"
      },
      "execution_count": 6,
      "outputs": [
        {
          "output_type": "stream",
          "name": "stdout",
          "text": [
            "Hello\n",
            "World!\n"
          ]
        }
      ]
    },
    {
      "cell_type": "code",
      "source": [
        "\n",
        "frint('hola')"
      ],
      "metadata": {
        "colab": {
          "base_uri": "https://localhost:8080/",
          "height": 169
        },
        "id": "y7PFlSn5IuYu",
        "outputId": "723663e8-9b57-4fe7-e5f9-a98506030bfd"
      },
      "execution_count": 37,
      "outputs": [
        {
          "output_type": "error",
          "ename": "NameError",
          "evalue": "ignored",
          "traceback": [
            "\u001b[0;31m---------------------------------------------------------------------------\u001b[0m",
            "\u001b[0;31mNameError\u001b[0m                                 Traceback (most recent call last)",
            "\u001b[0;32m<ipython-input-37-c75fa23c48ec>\u001b[0m in \u001b[0;36m<module>\u001b[0;34m\u001b[0m\n\u001b[0;32m----> 1\u001b[0;31m \u001b[0mfrint\u001b[0m\u001b[0;34m(\u001b[0m\u001b[0;34m'hola'\u001b[0m\u001b[0;34m)\u001b[0m\u001b[0;34m\u001b[0m\u001b[0;34m\u001b[0m\u001b[0m\n\u001b[0m",
            "\u001b[0;31mNameError\u001b[0m: name 'frint' is not defined"
          ]
        }
      ]
    },
    {
      "cell_type": "markdown",
      "source": [
        "##### Types"
      ],
      "metadata": {
        "id": "zyZLfh1MBsNY"
      }
    },
    {
      "cell_type": "code",
      "source": [
        "type(11)"
      ],
      "metadata": {
        "colab": {
          "base_uri": "https://localhost:8080/"
        },
        "id": "Gn1F-3v0EqFz",
        "outputId": "a7645a44-f206-45b8-a643-7a8ac67be598"
      },
      "execution_count": 48,
      "outputs": [
        {
          "output_type": "execute_result",
          "data": {
            "text/plain": [
              "int"
            ]
          },
          "metadata": {},
          "execution_count": 48
        }
      ]
    },
    {
      "cell_type": "code",
      "source": [
        "type(11.1)"
      ],
      "metadata": {
        "colab": {
          "base_uri": "https://localhost:8080/"
        },
        "id": "WKpOPjp5EsOl",
        "outputId": "39565d80-9c65-43bd-92d7-d5c18019a29a"
      },
      "execution_count": 9,
      "outputs": [
        {
          "output_type": "execute_result",
          "data": {
            "text/plain": [
              "float"
            ]
          },
          "metadata": {},
          "execution_count": 9
        }
      ]
    },
    {
      "cell_type": "code",
      "source": [
        "type('11')"
      ],
      "metadata": {
        "colab": {
          "base_uri": "https://localhost:8080/"
        },
        "id": "TPQ9GuSNEs8b",
        "outputId": "d9b3acfe-efe7-4d5b-bac8-6b7f645d99e8"
      },
      "execution_count": 10,
      "outputs": [
        {
          "output_type": "execute_result",
          "data": {
            "text/plain": [
              "str"
            ]
          },
          "metadata": {},
          "execution_count": 10
        }
      ]
    },
    {
      "cell_type": "code",
      "source": [
        "float(1)"
      ],
      "metadata": {
        "colab": {
          "base_uri": "https://localhost:8080/"
        },
        "id": "X6aQnT2JEugI",
        "outputId": "a92b713a-b64e-4d62-df0d-d8818f97ae75"
      },
      "execution_count": 11,
      "outputs": [
        {
          "output_type": "execute_result",
          "data": {
            "text/plain": [
              "1.0"
            ]
          },
          "metadata": {},
          "execution_count": 11
        }
      ]
    },
    {
      "cell_type": "code",
      "source": [
        "int(2.2)"
      ],
      "metadata": {
        "colab": {
          "base_uri": "https://localhost:8080/"
        },
        "id": "F2nvbgqkFFE5",
        "outputId": "331c6b7c-6589-4a09-f00a-64835a02bbbf"
      },
      "execution_count": 12,
      "outputs": [
        {
          "output_type": "execute_result",
          "data": {
            "text/plain": [
              "2"
            ]
          },
          "metadata": {},
          "execution_count": 12
        }
      ]
    },
    {
      "cell_type": "code",
      "source": [
        "int(2.9)"
      ],
      "metadata": {
        "colab": {
          "base_uri": "https://localhost:8080/"
        },
        "id": "wZjEl46pFGP4",
        "outputId": "d405f2ba-b4e2-4929-d6b8-31a12af5b3b9"
      },
      "execution_count": 13,
      "outputs": [
        {
          "output_type": "execute_result",
          "data": {
            "text/plain": [
              "2"
            ]
          },
          "metadata": {},
          "execution_count": 13
        }
      ]
    },
    {
      "cell_type": "code",
      "source": [
        "int('345')"
      ],
      "metadata": {
        "colab": {
          "base_uri": "https://localhost:8080/"
        },
        "id": "MzrAk66bFIAc",
        "outputId": "3ac49b31-9b03-4e88-fa61-cd2502894c04"
      },
      "execution_count": 14,
      "outputs": [
        {
          "output_type": "execute_result",
          "data": {
            "text/plain": [
              "345"
            ]
          },
          "metadata": {},
          "execution_count": 14
        }
      ]
    },
    {
      "cell_type": "code",
      "source": [
        "int('uno')"
      ],
      "metadata": {
        "colab": {
          "base_uri": "https://localhost:8080/",
          "height": 169
        },
        "id": "2-NwiSizFJ2a",
        "outputId": "612c0bfe-9f81-410e-e3b9-c90cbf64a4a6"
      },
      "execution_count": 15,
      "outputs": [
        {
          "output_type": "error",
          "ename": "ValueError",
          "evalue": "ignored",
          "traceback": [
            "\u001b[0;31m---------------------------------------------------------------------------\u001b[0m",
            "\u001b[0;31mValueError\u001b[0m                                Traceback (most recent call last)",
            "\u001b[0;32m<ipython-input-15-3be0258fb07c>\u001b[0m in \u001b[0;36m<module>\u001b[0;34m\u001b[0m\n\u001b[0;32m----> 1\u001b[0;31m \u001b[0mint\u001b[0m\u001b[0;34m(\u001b[0m\u001b[0;34m'uno'\u001b[0m\u001b[0;34m)\u001b[0m\u001b[0;34m\u001b[0m\u001b[0;34m\u001b[0m\u001b[0m\n\u001b[0m",
            "\u001b[0;31mValueError\u001b[0m: invalid literal for int() with base 10: 'uno'"
          ]
        }
      ]
    },
    {
      "cell_type": "code",
      "source": [
        "int(False)"
      ],
      "metadata": {
        "colab": {
          "base_uri": "https://localhost:8080/"
        },
        "id": "yYez88MrFLjY",
        "outputId": "3f0d60c8-26c1-4212-8463-f2242321d9fb"
      },
      "execution_count": 16,
      "outputs": [
        {
          "output_type": "execute_result",
          "data": {
            "text/plain": [
              "0"
            ]
          },
          "metadata": {},
          "execution_count": 16
        }
      ]
    },
    {
      "cell_type": "code",
      "source": [
        "int(True)"
      ],
      "metadata": {
        "colab": {
          "base_uri": "https://localhost:8080/"
        },
        "id": "uWGfU_IRFYgC",
        "outputId": "d1a4844a-8236-4d7f-d6f4-4d856dd7a59f"
      },
      "execution_count": 17,
      "outputs": [
        {
          "output_type": "execute_result",
          "data": {
            "text/plain": [
              "1"
            ]
          },
          "metadata": {},
          "execution_count": 17
        }
      ]
    },
    {
      "cell_type": "code",
      "source": [
        "bool(1)"
      ],
      "metadata": {
        "colab": {
          "base_uri": "https://localhost:8080/"
        },
        "id": "1wX-3v8dFZJg",
        "outputId": "4b5094b8-1699-4189-d82c-618eebbd5283"
      },
      "execution_count": 18,
      "outputs": [
        {
          "output_type": "execute_result",
          "data": {
            "text/plain": [
              "True"
            ]
          },
          "metadata": {},
          "execution_count": 18
        }
      ]
    },
    {
      "cell_type": "code",
      "source": [
        "bool(0)"
      ],
      "metadata": {
        "colab": {
          "base_uri": "https://localhost:8080/"
        },
        "id": "K88pgYINFarJ",
        "outputId": "1617672a-a6e5-4ddc-8b67-70c9723a598f"
      },
      "execution_count": 19,
      "outputs": [
        {
          "output_type": "execute_result",
          "data": {
            "text/plain": [
              "False"
            ]
          },
          "metadata": {},
          "execution_count": 19
        }
      ]
    },
    {
      "cell_type": "code",
      "source": [
        "bool(2)"
      ],
      "metadata": {
        "colab": {
          "base_uri": "https://localhost:8080/"
        },
        "id": "SxEh2d-ZFbSX",
        "outputId": "7c8f7855-03b7-49b1-80ed-b146efa7a795"
      },
      "execution_count": 20,
      "outputs": [
        {
          "output_type": "execute_result",
          "data": {
            "text/plain": [
              "True"
            ]
          },
          "metadata": {},
          "execution_count": 20
        }
      ]
    },
    {
      "cell_type": "code",
      "source": [
        "str(55)"
      ],
      "metadata": {
        "colab": {
          "base_uri": "https://localhost:8080/",
          "height": 35
        },
        "id": "lK9DK-l3Jqw8",
        "outputId": "253c0724-7c86-4326-9ab0-734f4d25784f"
      },
      "execution_count": 39,
      "outputs": [
        {
          "output_type": "execute_result",
          "data": {
            "text/plain": [
              "'55'"
            ],
            "application/vnd.google.colaboratory.intrinsic+json": {
              "type": "string"
            }
          },
          "metadata": {},
          "execution_count": 39
        }
      ]
    },
    {
      "cell_type": "markdown",
      "source": [
        "##### Expressions "
      ],
      "metadata": {
        "id": "nkRzgxgIFcI2"
      }
    },
    {
      "cell_type": "code",
      "source": [
        "4-87+90"
      ],
      "metadata": {
        "colab": {
          "base_uri": "https://localhost:8080/"
        },
        "id": "vo_vw4WzGyzE",
        "outputId": "c47ce4de-e880-45fb-bf19-20bb8cb11d6a"
      },
      "execution_count": 22,
      "outputs": [
        {
          "output_type": "execute_result",
          "data": {
            "text/plain": [
              "7"
            ]
          },
          "metadata": {},
          "execution_count": 22
        }
      ]
    },
    {
      "cell_type": "code",
      "source": [
        "3*4"
      ],
      "metadata": {
        "colab": {
          "base_uri": "https://localhost:8080/"
        },
        "id": "iMeqEW2WG0e7",
        "outputId": "0a2d227e-1e1b-4e6c-b046-8bd591b12ff0"
      },
      "execution_count": 23,
      "outputs": [
        {
          "output_type": "execute_result",
          "data": {
            "text/plain": [
              "12"
            ]
          },
          "metadata": {},
          "execution_count": 23
        }
      ]
    },
    {
      "cell_type": "code",
      "source": [
        "25/6"
      ],
      "metadata": {
        "colab": {
          "base_uri": "https://localhost:8080/"
        },
        "id": "uYMbOp54G-x5",
        "outputId": "c31cea5b-54dc-49d4-b4d3-003c51069f27"
      },
      "execution_count": 24,
      "outputs": [
        {
          "output_type": "execute_result",
          "data": {
            "text/plain": [
              "4.166666666666667"
            ]
          },
          "metadata": {},
          "execution_count": 24
        }
      ]
    },
    {
      "cell_type": "code",
      "source": [
        "25//6"
      ],
      "metadata": {
        "colab": {
          "base_uri": "https://localhost:8080/"
        },
        "id": "cQHOFEeJHDlv",
        "outputId": "4632a265-d6bf-45ca-a6bd-3021c0cd04d0"
      },
      "execution_count": 25,
      "outputs": [
        {
          "output_type": "execute_result",
          "data": {
            "text/plain": [
              "4"
            ]
          },
          "metadata": {},
          "execution_count": 25
        }
      ]
    },
    {
      "cell_type": "markdown",
      "source": [
        "##### Variables"
      ],
      "metadata": {
        "id": "Hfwcq-t2HFYy"
      }
    },
    {
      "cell_type": "code",
      "source": [
        "var_1 = 1"
      ],
      "metadata": {
        "id": "y0pxZUZsHxvI"
      },
      "execution_count": 27,
      "outputs": []
    },
    {
      "cell_type": "code",
      "source": [
        "x = 11"
      ],
      "metadata": {
        "id": "iF7_O_2AHzGC"
      },
      "execution_count": 32,
      "outputs": []
    },
    {
      "cell_type": "code",
      "source": [
        "x = x*3"
      ],
      "metadata": {
        "id": "yhiYX2tKINBN"
      },
      "execution_count": 33,
      "outputs": []
    },
    {
      "cell_type": "code",
      "source": [
        "y=x/2"
      ],
      "metadata": {
        "id": "mGQ-MGgZIOot"
      },
      "execution_count": 34,
      "outputs": []
    },
    {
      "cell_type": "code",
      "source": [
        "y"
      ],
      "metadata": {
        "colab": {
          "base_uri": "https://localhost:8080/"
        },
        "id": "F1BeFSr6IQtq",
        "outputId": "39b88184-dff2-46d8-8552-75fe34f76db4"
      },
      "execution_count": 35,
      "outputs": [
        {
          "output_type": "execute_result",
          "data": {
            "text/plain": [
              "16.5"
            ]
          },
          "metadata": {},
          "execution_count": 35
        }
      ]
    },
    {
      "cell_type": "markdown",
      "source": [
        "###### EJERCICIOS"
      ],
      "metadata": {
        "id": "BznPH1S0IRIC"
      }
    },
    {
      "cell_type": "code",
      "source": [
        "x = 3+2*2"
      ],
      "metadata": {
        "id": "GEobVKw6J1f8"
      },
      "execution_count": 41,
      "outputs": []
    },
    {
      "cell_type": "code",
      "source": [
        "y = (3+2)*2"
      ],
      "metadata": {
        "id": "hqlgo85_J3_e"
      },
      "execution_count": 42,
      "outputs": []
    },
    {
      "cell_type": "code",
      "source": [
        "z = x+y"
      ],
      "metadata": {
        "id": "ZzoeUr0-J6_z"
      },
      "execution_count": 43,
      "outputs": []
    },
    {
      "cell_type": "code",
      "source": [
        "x"
      ],
      "metadata": {
        "colab": {
          "base_uri": "https://localhost:8080/"
        },
        "id": "vp_WdIfVJ8-1",
        "outputId": "fa3da528-aad8-4348-9b22-91d85034cc2f"
      },
      "execution_count": 44,
      "outputs": [
        {
          "output_type": "execute_result",
          "data": {
            "text/plain": [
              "7"
            ]
          },
          "metadata": {},
          "execution_count": 44
        }
      ]
    },
    {
      "cell_type": "code",
      "source": [
        "y"
      ],
      "metadata": {
        "colab": {
          "base_uri": "https://localhost:8080/"
        },
        "id": "xntFuht8J_WD",
        "outputId": "0f84e9e0-1d01-4ab4-c2ae-21ca7782758b"
      },
      "execution_count": 45,
      "outputs": [
        {
          "output_type": "execute_result",
          "data": {
            "text/plain": [
              "10"
            ]
          },
          "metadata": {},
          "execution_count": 45
        }
      ]
    },
    {
      "cell_type": "code",
      "source": [
        "z"
      ],
      "metadata": {
        "colab": {
          "base_uri": "https://localhost:8080/"
        },
        "id": "wDUpZO94J_og",
        "outputId": "341fce0f-5dc6-495b-d1e7-26cb3b528393"
      },
      "execution_count": 46,
      "outputs": [
        {
          "output_type": "execute_result",
          "data": {
            "text/plain": [
              "17"
            ]
          },
          "metadata": {},
          "execution_count": 46
        }
      ]
    },
    {
      "cell_type": "markdown",
      "source": [
        "##### Strings"
      ],
      "metadata": {
        "id": "ZV-JN1KhLxai"
      }
    },
    {
      "cell_type": "code",
      "source": [
        "'Hola'"
      ],
      "metadata": {
        "colab": {
          "base_uri": "https://localhost:8080/",
          "height": 35
        },
        "id": "GvJJ6AcbLzF8",
        "outputId": "b322ec69-38c9-4f44-a0c7-aab8f9d616be"
      },
      "execution_count": 50,
      "outputs": [
        {
          "output_type": "execute_result",
          "data": {
            "text/plain": [
              "'Hola'"
            ],
            "application/vnd.google.colaboratory.intrinsic+json": {
              "type": "string"
            }
          },
          "metadata": {},
          "execution_count": 50
        }
      ]
    },
    {
      "cell_type": "code",
      "source": [
        "frase = 'quiero escribir'"
      ],
      "metadata": {
        "id": "ZSdtwPatMvNS"
      },
      "execution_count": 51,
      "outputs": []
    },
    {
      "cell_type": "code",
      "source": [
        "frase *2"
      ],
      "metadata": {
        "colab": {
          "base_uri": "https://localhost:8080/",
          "height": 35
        },
        "id": "03Fl3CzIMx_o",
        "outputId": "a28ddc80-1776-4aee-a4d1-867e4abb2eec"
      },
      "execution_count": 52,
      "outputs": [
        {
          "output_type": "execute_result",
          "data": {
            "text/plain": [
              "'quiero escribirquiero escribir'"
            ],
            "application/vnd.google.colaboratory.intrinsic+json": {
              "type": "string"
            }
          },
          "metadata": {},
          "execution_count": 52
        }
      ]
    },
    {
      "cell_type": "code",
      "source": [
        "h = ' hola'"
      ],
      "metadata": {
        "id": "BJzt_bx6M089"
      },
      "execution_count": 55,
      "outputs": []
    },
    {
      "cell_type": "code",
      "source": [
        "frase + h"
      ],
      "metadata": {
        "colab": {
          "base_uri": "https://localhost:8080/",
          "height": 35
        },
        "id": "T0Qyat95M0VA",
        "outputId": "ff093399-fd69-43ef-cdbc-6614d79def26"
      },
      "execution_count": 56,
      "outputs": [
        {
          "output_type": "execute_result",
          "data": {
            "text/plain": [
              "'quiero escribir hola'"
            ],
            "application/vnd.google.colaboratory.intrinsic+json": {
              "type": "string"
            }
          },
          "metadata": {},
          "execution_count": 56
        }
      ]
    },
    {
      "cell_type": "code",
      "source": [
        "h.upper()"
      ],
      "metadata": {
        "colab": {
          "base_uri": "https://localhost:8080/",
          "height": 35
        },
        "id": "LdlRp1lNM7KE",
        "outputId": "4612de8f-72a8-4634-9bc7-46acd8b21671"
      },
      "execution_count": 57,
      "outputs": [
        {
          "output_type": "execute_result",
          "data": {
            "text/plain": [
              "' HOLA'"
            ],
            "application/vnd.google.colaboratory.intrinsic+json": {
              "type": "string"
            }
          },
          "metadata": {},
          "execution_count": 57
        }
      ]
    },
    {
      "cell_type": "code",
      "source": [
        "h.upper()*5"
      ],
      "metadata": {
        "colab": {
          "base_uri": "https://localhost:8080/",
          "height": 35
        },
        "id": "1wFHZ_Y_M9kY",
        "outputId": "ae6f9dae-fa15-4362-c2ba-019255cd3bc2"
      },
      "execution_count": 58,
      "outputs": [
        {
          "output_type": "execute_result",
          "data": {
            "text/plain": [
              "' HOLA HOLA HOLA HOLA HOLA'"
            ],
            "application/vnd.google.colaboratory.intrinsic+json": {
              "type": "string"
            }
          },
          "metadata": {},
          "execution_count": 58
        }
      ]
    },
    {
      "cell_type": "code",
      "source": [
        "Numbers = \"0123456\""
      ],
      "metadata": {
        "id": "IrvoiFopNB85"
      },
      "execution_count": 59,
      "outputs": []
    },
    {
      "cell_type": "code",
      "source": [
        "Numbers[::3]"
      ],
      "metadata": {
        "colab": {
          "base_uri": "https://localhost:8080/",
          "height": 35
        },
        "id": "Xjs1TLEVNDyf",
        "outputId": "a495e469-10fe-41c6-bc03-91eaf1f3e03f"
      },
      "execution_count": 60,
      "outputs": [
        {
          "output_type": "execute_result",
          "data": {
            "text/plain": [
              "'036'"
            ],
            "application/vnd.google.colaboratory.intrinsic+json": {
              "type": "string"
            }
          },
          "metadata": {},
          "execution_count": 60
        }
      ]
    },
    {
      "cell_type": "code",
      "source": [
        "Numbers[::2]"
      ],
      "metadata": {
        "colab": {
          "base_uri": "https://localhost:8080/",
          "height": 35
        },
        "id": "PbpMB7TGNQev",
        "outputId": "2e0bfea3-6b5d-40b9-ad43-d24457747922"
      },
      "execution_count": 61,
      "outputs": [
        {
          "output_type": "execute_result",
          "data": {
            "text/plain": [
              "'0246'"
            ],
            "application/vnd.google.colaboratory.intrinsic+json": {
              "type": "string"
            }
          },
          "metadata": {},
          "execution_count": 61
        }
      ]
    },
    {
      "cell_type": "code",
      "source": [
        "\"probando find\".find('ind')"
      ],
      "metadata": {
        "colab": {
          "base_uri": "https://localhost:8080/"
        },
        "id": "mG5iB1afNZDC",
        "outputId": "17ad596d-564a-47c7-a2d5-9dc6bdaf14b4"
      },
      "execution_count": 62,
      "outputs": [
        {
          "output_type": "execute_result",
          "data": {
            "text/plain": [
              "10"
            ]
          },
          "metadata": {},
          "execution_count": 62
        }
      ]
    },
    {
      "cell_type": "code",
      "source": [
        "name ='Guillermo'"
      ],
      "metadata": {
        "id": "VMypAnlhNyVu"
      },
      "execution_count": 63,
      "outputs": []
    },
    {
      "cell_type": "code",
      "source": [
        "name[0:3]"
      ],
      "metadata": {
        "colab": {
          "base_uri": "https://localhost:8080/",
          "height": 35
        },
        "id": "CsQsCP8INx1i",
        "outputId": "317f1615-2eec-4d34-ae49-f57c0df50779"
      },
      "execution_count": 64,
      "outputs": [
        {
          "output_type": "execute_result",
          "data": {
            "text/plain": [
              "'Gui'"
            ],
            "application/vnd.google.colaboratory.intrinsic+json": {
              "type": "string"
            }
          },
          "metadata": {},
          "execution_count": 64
        }
      ]
    },
    {
      "cell_type": "code",
      "source": [
        "name[-2]"
      ],
      "metadata": {
        "colab": {
          "base_uri": "https://localhost:8080/",
          "height": 35
        },
        "id": "LdZUfLavNxiF",
        "outputId": "a818a580-d9f6-4a1b-acb9-61ff6709e7d1"
      },
      "execution_count": 65,
      "outputs": [
        {
          "output_type": "execute_result",
          "data": {
            "text/plain": [
              "'m'"
            ],
            "application/vnd.google.colaboratory.intrinsic+json": {
              "type": "string"
            }
          },
          "metadata": {},
          "execution_count": 65
        }
      ]
    },
    {
      "cell_type": "code",
      "source": [
        "print(name + '\\n quiero un renglon ' + 'quiero un tab \\t funciona tab')"
      ],
      "metadata": {
        "colab": {
          "base_uri": "https://localhost:8080/"
        },
        "id": "vsey8K_lN89p",
        "outputId": "3f1a45ac-b3a9-4ace-f824-cceb02d618df"
      },
      "execution_count": 67,
      "outputs": [
        {
          "output_type": "stream",
          "name": "stdout",
          "text": [
            "Guillermo\n",
            " quiero un renglon quiero un tab \t funciona tab\n"
          ]
        }
      ]
    },
    {
      "cell_type": "markdown",
      "source": [
        "### Examen módulo 1"
      ],
      "metadata": {
        "id": "JLHgMSxZOTE7"
      }
    },
    {
      "cell_type": "code",
      "source": [
        "3+2*2"
      ],
      "metadata": {
        "colab": {
          "base_uri": "https://localhost:8080/"
        },
        "id": "ukeNWIEFOSZB",
        "outputId": "81e80526-34d7-46ae-db49-b626568cb271"
      },
      "execution_count": 69,
      "outputs": [
        {
          "output_type": "execute_result",
          "data": {
            "text/plain": [
              "7"
            ]
          },
          "metadata": {},
          "execution_count": 69
        }
      ]
    },
    {
      "cell_type": "code",
      "source": [
        "name = 'Lizz'\n",
        "print(name[0:2])"
      ],
      "metadata": {
        "colab": {
          "base_uri": "https://localhost:8080/"
        },
        "id": "kXR_EHyVOSPc",
        "outputId": "86f62a9b-67be-412e-df29-1c74f2840ee6"
      },
      "execution_count": 70,
      "outputs": [
        {
          "output_type": "stream",
          "name": "stdout",
          "text": [
            "Li\n"
          ]
        }
      ]
    },
    {
      "cell_type": "code",
      "source": [
        "var = '01234567'\n",
        "print(var[::2])"
      ],
      "metadata": {
        "colab": {
          "base_uri": "https://localhost:8080/"
        },
        "id": "6pHscJg6OSF8",
        "outputId": "e29ed0d4-34b3-4329-9026-c0a37a7401ec"
      },
      "execution_count": 71,
      "outputs": [
        {
          "output_type": "stream",
          "name": "stdout",
          "text": [
            "0246\n"
          ]
        }
      ]
    },
    {
      "cell_type": "code",
      "source": [
        "'1'+'2'"
      ],
      "metadata": {
        "colab": {
          "base_uri": "https://localhost:8080/",
          "height": 35
        },
        "id": "eZ7WplNzOR5t",
        "outputId": "6c5635c3-cb2b-46ab-877d-3ffa9c163136"
      },
      "execution_count": 72,
      "outputs": [
        {
          "output_type": "execute_result",
          "data": {
            "text/plain": [
              "'12'"
            ],
            "application/vnd.google.colaboratory.intrinsic+json": {
              "type": "string"
            }
          },
          "metadata": {},
          "execution_count": 72
        }
      ]
    },
    {
      "cell_type": "code",
      "source": [],
      "metadata": {
        "id": "Zid1ImDEORen"
      },
      "execution_count": null,
      "outputs": []
    },
    {
      "cell_type": "markdown",
      "source": [
        "## Módulo 2"
      ],
      "metadata": {
        "id": "09480HzlJ_5z"
      }
    },
    {
      "cell_type": "markdown",
      "source": [
        "#### Tuples\n"
      ],
      "metadata": {
        "id": "XVzz5lODNDKy"
      }
    },
    {
      "cell_type": "markdown",
      "source": [
        "Son arreglos ordenados inmutables"
      ],
      "metadata": {
        "id": "S2vn3VmWLYBa"
      }
    },
    {
      "cell_type": "code",
      "source": [
        "t1 = (1,2,3,'4',5.5)"
      ],
      "metadata": {
        "id": "CJpekaTut_-3"
      },
      "execution_count": 87,
      "outputs": []
    },
    {
      "cell_type": "code",
      "source": [
        "t1[1]='nuevo elemento'"
      ],
      "metadata": {
        "colab": {
          "base_uri": "https://localhost:8080/",
          "height": 169
        },
        "id": "crk82J_wuAIy",
        "outputId": "562ca875-f312-4786-c6b5-428a0d7ca82a"
      },
      "execution_count": 88,
      "outputs": [
        {
          "output_type": "error",
          "ename": "TypeError",
          "evalue": "ignored",
          "traceback": [
            "\u001b[0;31m---------------------------------------------------------------------------\u001b[0m",
            "\u001b[0;31mTypeError\u001b[0m                                 Traceback (most recent call last)",
            "\u001b[0;32m<ipython-input-88-4190297b1cd3>\u001b[0m in \u001b[0;36m<module>\u001b[0;34m\u001b[0m\n\u001b[0;32m----> 1\u001b[0;31m \u001b[0mt1\u001b[0m\u001b[0;34m[\u001b[0m\u001b[0;36m1\u001b[0m\u001b[0;34m]\u001b[0m\u001b[0;34m=\u001b[0m\u001b[0;34m'nuevo elemento'\u001b[0m\u001b[0;34m\u001b[0m\u001b[0;34m\u001b[0m\u001b[0m\n\u001b[0m",
            "\u001b[0;31mTypeError\u001b[0m: 'tuple' object does not support item assignment"
          ]
        }
      ]
    },
    {
      "cell_type": "code",
      "source": [
        "#### Marca error porque es inmutable"
      ],
      "metadata": {
        "id": "55HA8fDBuAT4"
      },
      "execution_count": 89,
      "outputs": []
    },
    {
      "cell_type": "code",
      "source": [
        "t2 = (1,6,7,8)"
      ],
      "metadata": {
        "id": "el0BLIN7vF6g"
      },
      "execution_count": 91,
      "outputs": []
    },
    {
      "cell_type": "code",
      "source": [
        "t3 = t1+t2"
      ],
      "metadata": {
        "id": "4jGOtxfevF1w"
      },
      "execution_count": 92,
      "outputs": []
    },
    {
      "cell_type": "code",
      "source": [
        "t3"
      ],
      "metadata": {
        "colab": {
          "base_uri": "https://localhost:8080/"
        },
        "id": "PGMud2R9vFwN",
        "outputId": "9e89959e-d23e-412a-fdde-98c9083cf759"
      },
      "execution_count": 93,
      "outputs": [
        {
          "output_type": "execute_result",
          "data": {
            "text/plain": [
              "(1, 2, 3, '4', 5.5, 1, 6, 7, 8)"
            ]
          },
          "metadata": {},
          "execution_count": 93
        }
      ]
    },
    {
      "cell_type": "code",
      "source": [
        "len(t3)"
      ],
      "metadata": {
        "colab": {
          "base_uri": "https://localhost:8080/"
        },
        "id": "Qixm7TamvFnw",
        "outputId": "e3e8a0ba-cd2f-40c0-c460-e4e400d1ac69"
      },
      "execution_count": 94,
      "outputs": [
        {
          "output_type": "execute_result",
          "data": {
            "text/plain": [
              "9"
            ]
          },
          "metadata": {},
          "execution_count": 94
        }
      ]
    },
    {
      "cell_type": "code",
      "source": [
        "t3[3:6]"
      ],
      "metadata": {
        "colab": {
          "base_uri": "https://localhost:8080/"
        },
        "id": "uMxIOIWVvFYm",
        "outputId": "341bae60-37b0-402e-88fa-88070b2b7384"
      },
      "execution_count": 95,
      "outputs": [
        {
          "output_type": "execute_result",
          "data": {
            "text/plain": [
              "('4', 5.5, 1)"
            ]
          },
          "metadata": {},
          "execution_count": 95
        }
      ]
    },
    {
      "cell_type": "code",
      "source": [
        "NestedT =(1, 2, (\"pop\", \"rock\") ,(3,4),(\"disco\",(1,2)))"
      ],
      "metadata": {
        "id": "3XiXG4dUvU8Y"
      },
      "execution_count": 97,
      "outputs": []
    },
    {
      "cell_type": "code",
      "source": [
        "NestedT[4][1][0]"
      ],
      "metadata": {
        "colab": {
          "base_uri": "https://localhost:8080/"
        },
        "id": "tv6w_2lQvaaY",
        "outputId": "6e1df925-4d96-414a-c7d8-3a836348c194"
      },
      "execution_count": 98,
      "outputs": [
        {
          "output_type": "execute_result",
          "data": {
            "text/plain": [
              "1"
            ]
          },
          "metadata": {},
          "execution_count": 98
        }
      ]
    },
    {
      "cell_type": "markdown",
      "source": [
        "#### Listas"
      ],
      "metadata": {
        "id": "2dLK98pmsJJi"
      }
    },
    {
      "cell_type": "markdown",
      "source": [
        "Son arreglos ordenados mutables"
      ],
      "metadata": {
        "id": "dBB_UYlesK5v"
      }
    },
    {
      "cell_type": "code",
      "source": [
        "A = ['lista',1,5,2.2]"
      ],
      "metadata": {
        "id": "h3QIAdu2sNKS"
      },
      "execution_count": 73,
      "outputs": []
    },
    {
      "cell_type": "code",
      "source": [
        "B=A"
      ],
      "metadata": {
        "id": "EXkmoyyms_OE"
      },
      "execution_count": 74,
      "outputs": []
    },
    {
      "cell_type": "code",
      "source": [
        "A[0]='ve los cambios'"
      ],
      "metadata": {
        "id": "HRk_rg4is_6a"
      },
      "execution_count": 75,
      "outputs": []
    },
    {
      "cell_type": "code",
      "source": [
        "B[0]"
      ],
      "metadata": {
        "colab": {
          "base_uri": "https://localhost:8080/",
          "height": 35
        },
        "id": "Fd485UUvtDbW",
        "outputId": "55337178-c213-4ee6-eddd-d0d46c5d1cd2"
      },
      "execution_count": 76,
      "outputs": [
        {
          "output_type": "execute_result",
          "data": {
            "text/plain": [
              "'ve los cambios'"
            ],
            "application/vnd.google.colaboratory.intrinsic+json": {
              "type": "string"
            }
          },
          "metadata": {},
          "execution_count": 76
        }
      ]
    },
    {
      "cell_type": "code",
      "source": [
        "C = ['elemento_original',1,2,3.5]"
      ],
      "metadata": {
        "id": "f5pHR7D0tERf"
      },
      "execution_count": 82,
      "outputs": []
    },
    {
      "cell_type": "code",
      "source": [
        "D=C[:]"
      ],
      "metadata": {
        "id": "X8Vx_-iVtIC9"
      },
      "execution_count": 83,
      "outputs": []
    },
    {
      "cell_type": "code",
      "source": [
        "C[0]='LISTA_CON_CAMBIOS'"
      ],
      "metadata": {
        "id": "Nk5PFDAPtJrJ"
      },
      "execution_count": 84,
      "outputs": []
    },
    {
      "cell_type": "code",
      "source": [
        "D[0]"
      ],
      "metadata": {
        "colab": {
          "base_uri": "https://localhost:8080/",
          "height": 35
        },
        "id": "wPkoixsqtOtj",
        "outputId": "8f7d0ec0-4228-4259-e26b-3c84775b13c8"
      },
      "execution_count": 85,
      "outputs": [
        {
          "output_type": "execute_result",
          "data": {
            "text/plain": [
              "'elemento_original'"
            ],
            "application/vnd.google.colaboratory.intrinsic+json": {
              "type": "string"
            }
          },
          "metadata": {},
          "execution_count": 85
        }
      ]
    },
    {
      "cell_type": "code",
      "source": [
        "C[0]"
      ],
      "metadata": {
        "colab": {
          "base_uri": "https://localhost:8080/",
          "height": 35
        },
        "id": "zSsSon6htSoB",
        "outputId": "33c107ca-90d0-41e8-97e6-b5a7e57d9e81"
      },
      "execution_count": 86,
      "outputs": [
        {
          "output_type": "execute_result",
          "data": {
            "text/plain": [
              "'LISTA_CON_CAMBIOS'"
            ],
            "application/vnd.google.colaboratory.intrinsic+json": {
              "type": "string"
            }
          },
          "metadata": {},
          "execution_count": 86
        }
      ]
    },
    {
      "cell_type": "code",
      "source": [
        "lista1 = [1,2,3,4]"
      ],
      "metadata": {
        "id": "Uf04RCQ2tX2R"
      },
      "execution_count": 99,
      "outputs": []
    },
    {
      "cell_type": "code",
      "source": [
        "lista1.extend([5,6])"
      ],
      "metadata": {
        "id": "_n-SzZBKvpav"
      },
      "execution_count": 100,
      "outputs": []
    },
    {
      "cell_type": "code",
      "source": [
        "lista1"
      ],
      "metadata": {
        "colab": {
          "base_uri": "https://localhost:8080/"
        },
        "id": "ifrMOJ5jvr3f",
        "outputId": "3b39749b-3659-49ae-c6d6-5fd0a3acea6e"
      },
      "execution_count": 101,
      "outputs": [
        {
          "output_type": "execute_result",
          "data": {
            "text/plain": [
              "[1, 2, 3, 4, 5, 6]"
            ]
          },
          "metadata": {},
          "execution_count": 101
        }
      ]
    },
    {
      "cell_type": "code",
      "source": [
        "lista2 = [1,2,3]"
      ],
      "metadata": {
        "id": "_QqyafXXvsRc"
      },
      "execution_count": 102,
      "outputs": []
    },
    {
      "cell_type": "code",
      "source": [
        "lista2.append([4,5,6])"
      ],
      "metadata": {
        "id": "pBxdFXOLvu-P"
      },
      "execution_count": 103,
      "outputs": []
    },
    {
      "cell_type": "code",
      "source": [
        "lista2"
      ],
      "metadata": {
        "colab": {
          "base_uri": "https://localhost:8080/"
        },
        "id": "UpwS7_fYvwyT",
        "outputId": "8def7cad-718e-4372-a242-79a9ed035f58"
      },
      "execution_count": 104,
      "outputs": [
        {
          "output_type": "execute_result",
          "data": {
            "text/plain": [
              "[1, 2, 3, [4, 5, 6]]"
            ]
          },
          "metadata": {},
          "execution_count": 104
        }
      ]
    },
    {
      "cell_type": "markdown",
      "source": [
        "##### Sets"
      ],
      "metadata": {
        "id": "xzXkAoAavxQg"
      }
    },
    {
      "cell_type": "markdown",
      "source": [
        "Son arreglos no ordernados\n",
        "Con valores únicos"
      ],
      "metadata": {
        "id": "1VF648b8wQ2E"
      }
    },
    {
      "cell_type": "code",
      "source": [
        "set1 = {'1',45,6,7.8,'hola','HOLA','1'}"
      ],
      "metadata": {
        "id": "eDiNyca3wRP2"
      },
      "execution_count": 105,
      "outputs": []
    },
    {
      "cell_type": "code",
      "source": [
        "set1"
      ],
      "metadata": {
        "colab": {
          "base_uri": "https://localhost:8080/"
        },
        "id": "dvqBVh8CwRUS",
        "outputId": "ca9c0966-bcb7-4b37-8458-f9305f62dfec"
      },
      "execution_count": 106,
      "outputs": [
        {
          "output_type": "execute_result",
          "data": {
            "text/plain": [
              "{'1', 45, 6, 7.8, 'HOLA', 'hola'}"
            ]
          },
          "metadata": {},
          "execution_count": 106
        }
      ]
    },
    {
      "cell_type": "code",
      "source": [
        "lista = [1,2,1,2,1,2]"
      ],
      "metadata": {
        "id": "d2xWFEUWwRYX"
      },
      "execution_count": 107,
      "outputs": []
    },
    {
      "cell_type": "code",
      "source": [
        "set2 = set(lista)"
      ],
      "metadata": {
        "id": "fWjpER65wRb5"
      },
      "execution_count": 108,
      "outputs": []
    },
    {
      "cell_type": "code",
      "source": [
        "set2"
      ],
      "metadata": {
        "colab": {
          "base_uri": "https://localhost:8080/"
        },
        "id": "sjxs0WGUwRfi",
        "outputId": "737b7a4b-b992-4f0e-aa7a-aee7be287776"
      },
      "execution_count": 109,
      "outputs": [
        {
          "output_type": "execute_result",
          "data": {
            "text/plain": [
              "{1, 2}"
            ]
          },
          "metadata": {},
          "execution_count": 109
        }
      ]
    },
    {
      "cell_type": "code",
      "source": [
        "set2.add('algo')"
      ],
      "metadata": {
        "id": "Vd4KTkMxxmHE"
      },
      "execution_count": 110,
      "outputs": []
    },
    {
      "cell_type": "code",
      "source": [
        "set2"
      ],
      "metadata": {
        "colab": {
          "base_uri": "https://localhost:8080/"
        },
        "id": "7JZf33ZJwRi8",
        "outputId": "50c520ec-8c3d-4672-8fea-87edd5a506ff"
      },
      "execution_count": 111,
      "outputs": [
        {
          "output_type": "execute_result",
          "data": {
            "text/plain": [
              "{1, 2, 'algo'}"
            ]
          },
          "metadata": {},
          "execution_count": 111
        }
      ]
    },
    {
      "cell_type": "code",
      "source": [
        "set2.remove(2)"
      ],
      "metadata": {
        "id": "4J5TCrrtxn_t"
      },
      "execution_count": 112,
      "outputs": []
    },
    {
      "cell_type": "code",
      "source": [
        "set2"
      ],
      "metadata": {
        "colab": {
          "base_uri": "https://localhost:8080/"
        },
        "id": "YuGFtrbzxue_",
        "outputId": "2cf4fdbc-2b5f-4a75-a0e5-0d4f6d3d2660"
      },
      "execution_count": 113,
      "outputs": [
        {
          "output_type": "execute_result",
          "data": {
            "text/plain": [
              "{1, 'algo'}"
            ]
          },
          "metadata": {},
          "execution_count": 113
        }
      ]
    },
    {
      "cell_type": "code",
      "source": [
        "1 in set2"
      ],
      "metadata": {
        "colab": {
          "base_uri": "https://localhost:8080/"
        },
        "id": "hFa0XsrlxvQ8",
        "outputId": "b3a46c94-354b-4126-b80a-872233285a87"
      },
      "execution_count": 114,
      "outputs": [
        {
          "output_type": "execute_result",
          "data": {
            "text/plain": [
              "True"
            ]
          },
          "metadata": {},
          "execution_count": 114
        }
      ]
    },
    {
      "cell_type": "code",
      "source": [
        "2 in set2"
      ],
      "metadata": {
        "colab": {
          "base_uri": "https://localhost:8080/"
        },
        "id": "I6kpMtBXx1ud",
        "outputId": "73bfcd83-d384-4430-c6ed-ddab2e9eaf87"
      },
      "execution_count": 115,
      "outputs": [
        {
          "output_type": "execute_result",
          "data": {
            "text/plain": [
              "False"
            ]
          },
          "metadata": {},
          "execution_count": 115
        }
      ]
    },
    {
      "cell_type": "code",
      "source": [
        "set_1 = {1,2,3,4}"
      ],
      "metadata": {
        "id": "VhjWYlrox4ko"
      },
      "execution_count": 116,
      "outputs": []
    },
    {
      "cell_type": "code",
      "source": [
        "set_2 = {3,4,5,6}"
      ],
      "metadata": {
        "id": "kuO2GDDwyc8H"
      },
      "execution_count": 117,
      "outputs": []
    },
    {
      "cell_type": "code",
      "source": [
        "set_1.union(set_2)"
      ],
      "metadata": {
        "colab": {
          "base_uri": "https://localhost:8080/"
        },
        "id": "acqJy6rYye3N",
        "outputId": "ecc31b05-fe76-43e1-8426-97863d7c5fa6"
      },
      "execution_count": 118,
      "outputs": [
        {
          "output_type": "execute_result",
          "data": {
            "text/plain": [
              "{1, 2, 3, 4, 5, 6}"
            ]
          },
          "metadata": {},
          "execution_count": 118
        }
      ]
    },
    {
      "cell_type": "code",
      "source": [
        "set_1 & set_2"
      ],
      "metadata": {
        "colab": {
          "base_uri": "https://localhost:8080/"
        },
        "id": "IbKreQK2yhLw",
        "outputId": "8db3fdf4-8dff-4ab5-fec7-1317c5b1084b"
      },
      "execution_count": 119,
      "outputs": [
        {
          "output_type": "execute_result",
          "data": {
            "text/plain": [
              "{3, 4}"
            ]
          },
          "metadata": {},
          "execution_count": 119
        }
      ]
    },
    {
      "cell_type": "code",
      "source": [
        "set_3 = {2,4}"
      ],
      "metadata": {
        "id": "_eoA69Z_yj5a"
      },
      "execution_count": 120,
      "outputs": []
    },
    {
      "cell_type": "code",
      "source": [
        "set_3.issubset(set_1)"
      ],
      "metadata": {
        "colab": {
          "base_uri": "https://localhost:8080/"
        },
        "id": "nEHuJ5ityoL4",
        "outputId": "f69d3d0c-9bd7-460e-c80b-85415cd87216"
      },
      "execution_count": 122,
      "outputs": [
        {
          "output_type": "execute_result",
          "data": {
            "text/plain": [
              "True"
            ]
          },
          "metadata": {},
          "execution_count": 122
        }
      ]
    },
    {
      "cell_type": "code",
      "source": [
        "set_2.issubset(set_1)"
      ],
      "metadata": {
        "colab": {
          "base_uri": "https://localhost:8080/"
        },
        "id": "yoPYhrATyqKU",
        "outputId": "d654579a-e8dc-421a-83b1-000432f9871c"
      },
      "execution_count": 123,
      "outputs": [
        {
          "output_type": "execute_result",
          "data": {
            "text/plain": [
              "False"
            ]
          },
          "metadata": {},
          "execution_count": 123
        }
      ]
    },
    {
      "cell_type": "code",
      "source": [
        "set_1.difference(set_2)"
      ],
      "metadata": {
        "colab": {
          "base_uri": "https://localhost:8080/"
        },
        "id": "6xW4RwQqyuTe",
        "outputId": "3ef5cbd0-6846-4784-8730-82e0670b0f6c"
      },
      "execution_count": 124,
      "outputs": [
        {
          "output_type": "execute_result",
          "data": {
            "text/plain": [
              "{1, 2}"
            ]
          },
          "metadata": {},
          "execution_count": 124
        }
      ]
    },
    {
      "cell_type": "code",
      "source": [
        "set_1.difference(set_3)"
      ],
      "metadata": {
        "colab": {
          "base_uri": "https://localhost:8080/"
        },
        "id": "-nCATlt5zbsR",
        "outputId": "784ca882-b2b4-4083-ce86-566c36593856"
      },
      "execution_count": 125,
      "outputs": [
        {
          "output_type": "execute_result",
          "data": {
            "text/plain": [
              "{1, 3}"
            ]
          },
          "metadata": {},
          "execution_count": 125
        }
      ]
    },
    {
      "cell_type": "markdown",
      "source": [
        "##### Diccionarios"
      ],
      "metadata": {
        "id": "HANz1T0PzeXu"
      }
    },
    {
      "cell_type": "markdown",
      "source": [
        "Tienen keys y values\n",
        "Keys son inmutables y únicas \n",
        "Los values pueden ser inmutables, mutables y duplicados"
      ],
      "metadata": {
        "id": "9glzpZEB0EPr"
      }
    },
    {
      "cell_type": "code",
      "source": [
        "dicc = {\"k1\":1,\"k2\":2,\"sin_sentido\":'otrovalor','llave':['una','lista']}"
      ],
      "metadata": {
        "id": "ng2g8SUd0TaL"
      },
      "execution_count": 129,
      "outputs": []
    },
    {
      "cell_type": "code",
      "source": [
        "dicc"
      ],
      "metadata": {
        "colab": {
          "base_uri": "https://localhost:8080/"
        },
        "id": "qFxiXCvz01Ri",
        "outputId": "d4a5388a-7b23-4771-998e-28295ac5a97b"
      },
      "execution_count": 130,
      "outputs": [
        {
          "output_type": "execute_result",
          "data": {
            "text/plain": [
              "{'k1': 1, 'k2': 2, 'sin_sentido': 'otrovalor', 'llave': ['una', 'lista']}"
            ]
          },
          "metadata": {},
          "execution_count": 130
        }
      ]
    },
    {
      "cell_type": "code",
      "source": [
        "dicc.keys()"
      ],
      "metadata": {
        "colab": {
          "base_uri": "https://localhost:8080/"
        },
        "id": "ZLh8guZC1DDG",
        "outputId": "43811e0c-6123-4f0a-ba52-da5861fdb10a"
      },
      "execution_count": 131,
      "outputs": [
        {
          "output_type": "execute_result",
          "data": {
            "text/plain": [
              "dict_keys(['k1', 'k2', 'sin_sentido', 'llave'])"
            ]
          },
          "metadata": {},
          "execution_count": 131
        }
      ]
    },
    {
      "cell_type": "code",
      "source": [
        "dicc.values()"
      ],
      "metadata": {
        "colab": {
          "base_uri": "https://localhost:8080/"
        },
        "id": "aCXw0doe1Ev2",
        "outputId": "2a529637-6112-4c0b-ce27-df43223e63de"
      },
      "execution_count": 132,
      "outputs": [
        {
          "output_type": "execute_result",
          "data": {
            "text/plain": [
              "dict_values([1, 2, 'otrovalor', ['una', 'lista']])"
            ]
          },
          "metadata": {},
          "execution_count": 132
        }
      ]
    },
    {
      "cell_type": "code",
      "source": [
        "dicc['nueva_llave']='un nuevo valor'"
      ],
      "metadata": {
        "id": "p_iQjJlm1Fum"
      },
      "execution_count": 133,
      "outputs": []
    },
    {
      "cell_type": "code",
      "source": [
        "dicc"
      ],
      "metadata": {
        "colab": {
          "base_uri": "https://localhost:8080/"
        },
        "id": "rB4uRbnh1Ihh",
        "outputId": "37426065-24e7-4c21-8ec5-900edd68a59f"
      },
      "execution_count": 134,
      "outputs": [
        {
          "output_type": "execute_result",
          "data": {
            "text/plain": [
              "{'k1': 1,\n",
              " 'k2': 2,\n",
              " 'sin_sentido': 'otrovalor',\n",
              " 'llave': ['una', 'lista'],\n",
              " 'nueva_llave': 'un nuevo valor'}"
            ]
          },
          "metadata": {},
          "execution_count": 134
        }
      ]
    },
    {
      "cell_type": "code",
      "source": [
        "dicc['llave']"
      ],
      "metadata": {
        "colab": {
          "base_uri": "https://localhost:8080/"
        },
        "id": "m1p9i8QU1I2a",
        "outputId": "68105081-d4e0-4e95-ede9-a6c1d084352c"
      },
      "execution_count": 135,
      "outputs": [
        {
          "output_type": "execute_result",
          "data": {
            "text/plain": [
              "['una', 'lista']"
            ]
          },
          "metadata": {},
          "execution_count": 135
        }
      ]
    },
    {
      "cell_type": "code",
      "source": [
        "dicc['llave_para_borrar']='algun elemento'"
      ],
      "metadata": {
        "id": "1mtrwb6J1fok"
      },
      "execution_count": 136,
      "outputs": []
    },
    {
      "cell_type": "code",
      "source": [
        "dicc"
      ],
      "metadata": {
        "colab": {
          "base_uri": "https://localhost:8080/"
        },
        "id": "CxzgIiAM1oDP",
        "outputId": "d08e3997-0890-4913-c9fa-4f5ac73a4e86"
      },
      "execution_count": 137,
      "outputs": [
        {
          "output_type": "execute_result",
          "data": {
            "text/plain": [
              "{'k1': 1,\n",
              " 'k2': 2,\n",
              " 'sin_sentido': 'otrovalor',\n",
              " 'llave': ['una', 'lista'],\n",
              " 'nueva_llave': 'un nuevo valor',\n",
              " 'llave_para_borrar': 'algun elemento'}"
            ]
          },
          "metadata": {},
          "execution_count": 137
        }
      ]
    },
    {
      "cell_type": "code",
      "source": [
        "del(dicc['llave_para_borrar'])"
      ],
      "metadata": {
        "id": "5iqiEgOA1oTp"
      },
      "execution_count": 138,
      "outputs": []
    },
    {
      "cell_type": "code",
      "source": [
        "dicc"
      ],
      "metadata": {
        "colab": {
          "base_uri": "https://localhost:8080/"
        },
        "id": "aa_yZNc21sp8",
        "outputId": "202ae655-80f8-4962-b61e-4f7750002afd"
      },
      "execution_count": 139,
      "outputs": [
        {
          "output_type": "execute_result",
          "data": {
            "text/plain": [
              "{'k1': 1,\n",
              " 'k2': 2,\n",
              " 'sin_sentido': 'otrovalor',\n",
              " 'llave': ['una', 'lista'],\n",
              " 'nueva_llave': 'un nuevo valor'}"
            ]
          },
          "metadata": {},
          "execution_count": 139
        }
      ]
    },
    {
      "cell_type": "code",
      "source": [
        "'sin_sentido' in dicc"
      ],
      "metadata": {
        "colab": {
          "base_uri": "https://localhost:8080/"
        },
        "id": "rmPzxX7d1s7H",
        "outputId": "a899c97f-3d0b-4395-d8d6-f8da30935de2"
      },
      "execution_count": 140,
      "outputs": [
        {
          "output_type": "execute_result",
          "data": {
            "text/plain": [
              "True"
            ]
          },
          "metadata": {},
          "execution_count": 140
        }
      ]
    },
    {
      "cell_type": "code",
      "source": [
        "'con_sentido' in dicc"
      ],
      "metadata": {
        "colab": {
          "base_uri": "https://localhost:8080/"
        },
        "id": "7M_F0LpO1w8v",
        "outputId": "382f2969-0b5e-47c6-d96e-ee0f22d0bfb0"
      },
      "execution_count": 141,
      "outputs": [
        {
          "output_type": "execute_result",
          "data": {
            "text/plain": [
              "False"
            ]
          },
          "metadata": {},
          "execution_count": 141
        }
      ]
    },
    {
      "cell_type": "markdown",
      "source": [
        "## Módulo 3"
      ],
      "metadata": {
        "id": "DeOYHdil1zhS"
      }
    },
    {
      "cell_type": "markdown",
      "source": [
        "##### Conditions and branching"
      ],
      "metadata": {
        "id": "eFlwrCCh2zC8"
      }
    },
    {
      "cell_type": "markdown",
      "source": [
        "Conditions"
      ],
      "metadata": {
        "id": "X1t4OtG632hu"
      }
    },
    {
      "cell_type": "code",
      "source": [
        "a = 6"
      ],
      "metadata": {
        "id": "ZMp-G9jg24Hc"
      },
      "execution_count": 142,
      "outputs": []
    },
    {
      "cell_type": "code",
      "source": [
        "a == 7"
      ],
      "metadata": {
        "colab": {
          "base_uri": "https://localhost:8080/"
        },
        "id": "1ZOdD6PJ28lH",
        "outputId": "e69163f1-42f5-4b77-d483-6ab5482c28e4"
      },
      "execution_count": 143,
      "outputs": [
        {
          "output_type": "execute_result",
          "data": {
            "text/plain": [
              "False"
            ]
          },
          "metadata": {},
          "execution_count": 143
        }
      ]
    },
    {
      "cell_type": "code",
      "source": [
        "a == 6"
      ],
      "metadata": {
        "colab": {
          "base_uri": "https://localhost:8080/"
        },
        "id": "xnbHkUC429XR",
        "outputId": "520e67c4-dd12-42ca-bfb1-f045da9ef87d"
      },
      "execution_count": 144,
      "outputs": [
        {
          "output_type": "execute_result",
          "data": {
            "text/plain": [
              "True"
            ]
          },
          "metadata": {},
          "execution_count": 144
        }
      ]
    },
    {
      "cell_type": "code",
      "source": [
        "i = 5"
      ],
      "metadata": {
        "id": "HvH2JQo12__O"
      },
      "execution_count": 145,
      "outputs": []
    },
    {
      "cell_type": "code",
      "source": [
        "i < 2"
      ],
      "metadata": {
        "colab": {
          "base_uri": "https://localhost:8080/"
        },
        "id": "QreXkEoy3hFf",
        "outputId": "db0ca4e7-d9a2-431a-fb3f-56efe853b238"
      },
      "execution_count": 146,
      "outputs": [
        {
          "output_type": "execute_result",
          "data": {
            "text/plain": [
              "False"
            ]
          },
          "metadata": {},
          "execution_count": 146
        }
      ]
    },
    {
      "cell_type": "code",
      "source": [
        "i != 3"
      ],
      "metadata": {
        "colab": {
          "base_uri": "https://localhost:8080/"
        },
        "id": "xA_7QxOn3iRW",
        "outputId": "8ca36be3-366a-4c8d-b40e-f4f847efe7da"
      },
      "execution_count": 147,
      "outputs": [
        {
          "output_type": "execute_result",
          "data": {
            "text/plain": [
              "True"
            ]
          },
          "metadata": {},
          "execution_count": 147
        }
      ]
    },
    {
      "cell_type": "markdown",
      "source": [
        "Branching"
      ],
      "metadata": {
        "id": "hwBGgIeD3lMO"
      }
    },
    {
      "cell_type": "code",
      "source": [
        "age = 32\n",
        "if (age >= 18):\n",
        "  print('entra')\n",
        "print('sigue por otro lado ')"
      ],
      "metadata": {
        "colab": {
          "base_uri": "https://localhost:8080/"
        },
        "id": "MzX6JZbj37h5",
        "outputId": "33220fa1-37c2-4cc1-c375-1a2eb784ee71"
      },
      "execution_count": 150,
      "outputs": [
        {
          "output_type": "stream",
          "name": "stdout",
          "text": [
            "entra\n",
            "sigue por otro lado \n"
          ]
        }
      ]
    },
    {
      "cell_type": "code",
      "source": [
        "age = 12\n",
        "if (age >= 18):\n",
        "  print('entra')\n",
        "else:\n",
        "  print('ve a otro concierto')\n",
        "print('sigue adelante')"
      ],
      "metadata": {
        "colab": {
          "base_uri": "https://localhost:8080/"
        },
        "id": "bWbPBI_84yZ_",
        "outputId": "aaed13c6-464a-4252-b926-9f7d512eb1f4"
      },
      "execution_count": 152,
      "outputs": [
        {
          "output_type": "stream",
          "name": "stdout",
          "text": [
            "ve a otro concierto\n",
            "sigue adelante\n"
          ]
        }
      ]
    },
    {
      "cell_type": "code",
      "source": [
        "age = 18\n",
        "if (age > 18):\n",
        "  print('entra')\n",
        "elif (age==18):\n",
        "  print('ve a donde quieras')\n",
        "else:\n",
        "  print('ve a otro concierto')\n",
        "print('sigue adelante')"
      ],
      "metadata": {
        "colab": {
          "base_uri": "https://localhost:8080/"
        },
        "id": "nlu_oIaw4yjZ",
        "outputId": "46261cc2-89ef-4e76-8364-e641ecf08604"
      },
      "execution_count": 153,
      "outputs": [
        {
          "output_type": "stream",
          "name": "stdout",
          "text": [
            "ve a donde quieras\n",
            "sigue adelante\n"
          ]
        }
      ]
    },
    {
      "cell_type": "markdown",
      "source": [
        "##### Logic operators"
      ],
      "metadata": {
        "id": "KxTU2qYc4bDj"
      }
    },
    {
      "cell_type": "code",
      "source": [
        "album_year = 1980\n",
        "\n",
        "if(album_year > 1979) and (album_year < 1990):\n",
        "    print (\"Album creado entre 1980 & 1989\")\n",
        "    \n",
        "print(\"\")\n",
        "print(\"Sigue..\")"
      ],
      "metadata": {
        "colab": {
          "base_uri": "https://localhost:8080/"
        },
        "id": "67JBTRtL6nDR",
        "outputId": "9594c7a4-4857-42fb-a7a0-f6d79d1eb3c0"
      },
      "execution_count": 155,
      "outputs": [
        {
          "output_type": "stream",
          "name": "stdout",
          "text": [
            "Album creado entre 1980 & 1989\n",
            "\n",
            "Sigue..\n"
          ]
        }
      ]
    },
    {
      "cell_type": "code",
      "source": [
        "album_year = 1990\n",
        "\n",
        "if(album_year < 1980) or (album_year > 1989):\n",
        "    print (\"Album no creado en 1980's\")\n",
        "else:\n",
        "    print(\"Album creado en 1980's \")"
      ],
      "metadata": {
        "colab": {
          "base_uri": "https://localhost:8080/"
        },
        "id": "2eZZC3Sv7dz-",
        "outputId": "366f8741-d978-4153-d993-fe77b4e9f600"
      },
      "execution_count": 156,
      "outputs": [
        {
          "output_type": "stream",
          "name": "stdout",
          "text": [
            "Album no creado en 1980's\n"
          ]
        }
      ]
    },
    {
      "cell_type": "markdown",
      "source": [
        "#### Loops"
      ],
      "metadata": {
        "id": "csQdSFvN7sXf"
      }
    },
    {
      "cell_type": "code",
      "source": [
        "a = range(3)"
      ],
      "metadata": {
        "id": "dNCJdp9f_leM"
      },
      "execution_count": 163,
      "outputs": []
    },
    {
      "cell_type": "code",
      "source": [
        "for i in a: print(i)"
      ],
      "metadata": {
        "colab": {
          "base_uri": "https://localhost:8080/"
        },
        "id": "oSHdy3cp_nJC",
        "outputId": "5e992dca-f004-4574-ef78-34d6be08a1eb"
      },
      "execution_count": 164,
      "outputs": [
        {
          "output_type": "stream",
          "name": "stdout",
          "text": [
            "0\n",
            "1\n",
            "2\n"
          ]
        }
      ]
    },
    {
      "cell_type": "code",
      "source": [
        "cuadrados = ['rojo','amarillo','azul','verde']"
      ],
      "metadata": {
        "id": "y0UkwUn0_tsb"
      },
      "execution_count": 168,
      "outputs": []
    },
    {
      "cell_type": "code",
      "source": [
        "for i in range(4):\n",
        "  cuadrados[i]='blanco'"
      ],
      "metadata": {
        "id": "S5t0XNARAYha"
      },
      "execution_count": 169,
      "outputs": []
    },
    {
      "cell_type": "code",
      "source": [
        "cuadrados"
      ],
      "metadata": {
        "colab": {
          "base_uri": "https://localhost:8080/"
        },
        "id": "OTHjrt5-Afqn",
        "outputId": "5f703ae0-b98d-4a21-aaca-1c117680d828"
      },
      "execution_count": 170,
      "outputs": [
        {
          "output_type": "execute_result",
          "data": {
            "text/plain": [
              "['blanco', 'blanco', 'blanco', 'blanco']"
            ]
          },
          "metadata": {},
          "execution_count": 170
        }
      ]
    },
    {
      "cell_type": "code",
      "source": [
        "cuadrados = ['rojo','amarillo','azul','verde']\n",
        "for i, value in enumerate(cuadrados): \n",
        "  print(i)\n",
        "  print(value)"
      ],
      "metadata": {
        "colab": {
          "base_uri": "https://localhost:8080/"
        },
        "id": "BpG2vdpJAghe",
        "outputId": "4573f171-bd24-4362-9c79-78a8cc58f7cc"
      },
      "execution_count": 171,
      "outputs": [
        {
          "output_type": "stream",
          "name": "stdout",
          "text": [
            "0\n",
            "rojo\n",
            "1\n",
            "amarillo\n",
            "2\n",
            "azul\n",
            "3\n",
            "verde\n"
          ]
        }
      ]
    },
    {
      "cell_type": "code",
      "source": [
        "cd = ['naranja','naranja','morado','naranja','rojo']"
      ],
      "metadata": {
        "id": "zeEqSWFpA149"
      },
      "execution_count": 178,
      "outputs": []
    },
    {
      "cell_type": "code",
      "source": [
        "cd_nuevos = []"
      ],
      "metadata": {
        "id": "ZEHrZppCBOYP"
      },
      "execution_count": 179,
      "outputs": []
    },
    {
      "cell_type": "code",
      "source": [
        "i = 0\n",
        "while (cd[i]=='naranja'):\n",
        "  cd_nuevos.append(cd[i])\n",
        "  i = i+1"
      ],
      "metadata": {
        "id": "0hYTX3p4BQAl"
      },
      "execution_count": 180,
      "outputs": []
    },
    {
      "cell_type": "code",
      "source": [
        "cd_nuevos"
      ],
      "metadata": {
        "colab": {
          "base_uri": "https://localhost:8080/"
        },
        "id": "ErTESZRGBd2g",
        "outputId": "dc6f262d-c027-4b6c-9439-93aa45973354"
      },
      "execution_count": 181,
      "outputs": [
        {
          "output_type": "execute_result",
          "data": {
            "text/plain": [
              "['naranja', 'naranja']"
            ]
          },
          "metadata": {},
          "execution_count": 181
        }
      ]
    },
    {
      "cell_type": "markdown",
      "source": [
        "##### Functions"
      ],
      "metadata": {
        "id": "IjV1AvYGBe5r"
      }
    },
    {
      "cell_type": "markdown",
      "source": [
        "TOma inputs para generar outputs"
      ],
      "metadata": {
        "id": "sAKHr6FhCWBZ"
      }
    },
    {
      "cell_type": "code",
      "source": [
        "list_in = [1,2,3,4]"
      ],
      "metadata": {
        "id": "NpA4c_F4CZqy"
      },
      "execution_count": 184,
      "outputs": []
    },
    {
      "cell_type": "code",
      "source": [
        "sum(list_in)"
      ],
      "metadata": {
        "colab": {
          "base_uri": "https://localhost:8080/"
        },
        "id": "Wqu1JcdLC-MN",
        "outputId": "08af06f6-adee-430c-b31c-58aeeda684a9"
      },
      "execution_count": 185,
      "outputs": [
        {
          "output_type": "execute_result",
          "data": {
            "text/plain": [
              "10"
            ]
          },
          "metadata": {},
          "execution_count": 185
        }
      ]
    },
    {
      "cell_type": "code",
      "source": [
        "\n",
        "len(list_in)"
      ],
      "metadata": {
        "colab": {
          "base_uri": "https://localhost:8080/"
        },
        "id": "c62qhsTDHzUN",
        "outputId": "ff9943ae-0219-4c22-b71b-f2625605686e"
      },
      "execution_count": 206,
      "outputs": [
        {
          "output_type": "execute_result",
          "data": {
            "text/plain": [
              "4"
            ]
          },
          "metadata": {},
          "execution_count": 206
        }
      ]
    },
    {
      "cell_type": "code",
      "source": [
        "calis = [23,4,5,62,36,6,2]"
      ],
      "metadata": {
        "id": "iDq6lPzeC-vV"
      },
      "execution_count": 186,
      "outputs": []
    },
    {
      "cell_type": "code",
      "source": [
        "calis_2 = sorted(calis)"
      ],
      "metadata": {
        "id": "d6AbkMULDUjo"
      },
      "execution_count": 189,
      "outputs": []
    },
    {
      "cell_type": "code",
      "source": [
        "calis_2"
      ],
      "metadata": {
        "colab": {
          "base_uri": "https://localhost:8080/"
        },
        "id": "X0GC0TSRDW_4",
        "outputId": "724deb21-d234-42d3-f2ee-56ace6b85f96"
      },
      "execution_count": 190,
      "outputs": [
        {
          "output_type": "execute_result",
          "data": {
            "text/plain": [
              "[2, 4, 5, 6, 23, 36, 62]"
            ]
          },
          "metadata": {},
          "execution_count": 190
        }
      ]
    },
    {
      "cell_type": "code",
      "source": [
        "calis"
      ],
      "metadata": {
        "colab": {
          "base_uri": "https://localhost:8080/"
        },
        "id": "ZMHRKzyPDX_I",
        "outputId": "f814630d-e255-4807-fd14-74326a880b00"
      },
      "execution_count": 191,
      "outputs": [
        {
          "output_type": "execute_result",
          "data": {
            "text/plain": [
              "[23, 4, 5, 62, 36, 6, 2]"
            ]
          },
          "metadata": {},
          "execution_count": 191
        }
      ]
    },
    {
      "cell_type": "code",
      "source": [
        "calis.sort()"
      ],
      "metadata": {
        "id": "OBxkefApDcGh"
      },
      "execution_count": 192,
      "outputs": []
    },
    {
      "cell_type": "code",
      "source": [
        "calis"
      ],
      "metadata": {
        "colab": {
          "base_uri": "https://localhost:8080/"
        },
        "id": "yoc4U46_DdYc",
        "outputId": "477e3171-8211-4444-aaa5-db5e73f4d36c"
      },
      "execution_count": 193,
      "outputs": [
        {
          "output_type": "execute_result",
          "data": {
            "text/plain": [
              "[2, 4, 5, 6, 23, 36, 62]"
            ]
          },
          "metadata": {},
          "execution_count": 193
        }
      ]
    },
    {
      "cell_type": "code",
      "source": [
        "def add1(a): \n",
        "  \"\"\"\n",
        "  La función suma 1 al valor otorgado en el argumento a\n",
        "  \"\"\"\n",
        "  b = a + 1\n",
        "  return b"
      ],
      "metadata": {
        "id": "pfGA6ROgDeUl"
      },
      "execution_count": 194,
      "outputs": []
    },
    {
      "cell_type": "code",
      "source": [
        "c = add1(24)"
      ],
      "metadata": {
        "id": "NnuEiPYOD813"
      },
      "execution_count": 195,
      "outputs": []
    },
    {
      "cell_type": "code",
      "source": [
        "c"
      ],
      "metadata": {
        "colab": {
          "base_uri": "https://localhost:8080/"
        },
        "id": "PKouUNDeD_Hz",
        "outputId": "38ba80c7-e626-4988-99bd-ee6d65d29b34"
      },
      "execution_count": 196,
      "outputs": [
        {
          "output_type": "execute_result",
          "data": {
            "text/plain": [
              "25"
            ]
          },
          "metadata": {},
          "execution_count": 196
        }
      ]
    },
    {
      "cell_type": "code",
      "source": [
        "def mult(a,b): \n",
        "  c = a*b\n",
        "  return c"
      ],
      "metadata": {
        "id": "1TEj18CxD_aP"
      },
      "execution_count": 197,
      "outputs": []
    },
    {
      "cell_type": "code",
      "source": [
        "d = mult(5,4)\n",
        "d"
      ],
      "metadata": {
        "colab": {
          "base_uri": "https://localhost:8080/"
        },
        "id": "oZ_zB7l1EQri",
        "outputId": "ddb63d91-8c50-462b-9cac-9c287ebde86c"
      },
      "execution_count": 198,
      "outputs": [
        {
          "output_type": "execute_result",
          "data": {
            "text/plain": [
              "20"
            ]
          },
          "metadata": {},
          "execution_count": 198
        }
      ]
    },
    {
      "cell_type": "code",
      "source": [
        "d = mult(5,'hola')\n",
        "d"
      ],
      "metadata": {
        "colab": {
          "base_uri": "https://localhost:8080/",
          "height": 35
        },
        "id": "Yu4mY9GrEUEU",
        "outputId": "e0bf94ec-dcf8-44b6-925d-a792e43f79f5"
      },
      "execution_count": 199,
      "outputs": [
        {
          "output_type": "execute_result",
          "data": {
            "text/plain": [
              "'holaholaholaholahola'"
            ],
            "application/vnd.google.colaboratory.intrinsic+json": {
              "type": "string"
            }
          },
          "metadata": {},
          "execution_count": 199
        }
      ]
    },
    {
      "cell_type": "code",
      "source": [
        "def mj(): \n",
        "  print('mj')"
      ],
      "metadata": {
        "id": "fjstvPJAEdLK"
      },
      "execution_count": 200,
      "outputs": []
    },
    {
      "cell_type": "code",
      "source": [
        "mj()"
      ],
      "metadata": {
        "colab": {
          "base_uri": "https://localhost:8080/"
        },
        "id": "boapchDpEwwQ",
        "outputId": "c9ef2c8f-4342-41dd-9297-20cdfb04e57a"
      },
      "execution_count": 201,
      "outputs": [
        {
          "output_type": "stream",
          "name": "stdout",
          "text": [
            "mj\n"
          ]
        }
      ]
    },
    {
      "cell_type": "code",
      "source": [
        "def no_work(): \n",
        "  pass\n",
        "  return None"
      ],
      "metadata": {
        "id": "K85pTZAdExWW"
      },
      "execution_count": 204,
      "outputs": []
    },
    {
      "cell_type": "code",
      "source": [
        "no_work()"
      ],
      "metadata": {
        "id": "nx2D4D21E03G"
      },
      "execution_count": 205,
      "outputs": []
    },
    {
      "cell_type": "code",
      "source": [
        "# Example for setting param with default value\n",
        "\n",
        "def buena_calificacion(rating=4): \n",
        "    if(rating < 7):\n",
        "        print(\"mal album con calficación de \",rating)\n",
        "        \n",
        "    else:\n",
        "        print(\"buen album con calficación de \",rating)\n"
      ],
      "metadata": {
        "id": "zzOkeR5RE1ty"
      },
      "execution_count": 207,
      "outputs": []
    },
    {
      "cell_type": "code",
      "source": [
        "buena_calificacion(10)"
      ],
      "metadata": {
        "colab": {
          "base_uri": "https://localhost:8080/"
        },
        "id": "_xoSumwdIDZB",
        "outputId": "9725aab4-2440-479e-b6d7-f863e6778090"
      },
      "execution_count": 208,
      "outputs": [
        {
          "output_type": "stream",
          "name": "stdout",
          "text": [
            "buen album con calficación de  10\n"
          ]
        }
      ]
    },
    {
      "cell_type": "code",
      "source": [
        "buena_calificacion(2)"
      ],
      "metadata": {
        "colab": {
          "base_uri": "https://localhost:8080/"
        },
        "id": "qHUENimJIE80",
        "outputId": "764c5c9b-2ecc-46b0-acd4-8889c5a033d0"
      },
      "execution_count": 209,
      "outputs": [
        {
          "output_type": "stream",
          "name": "stdout",
          "text": [
            "mal album con calficación de  2\n"
          ]
        }
      ]
    },
    {
      "cell_type": "code",
      "source": [
        "artist = \"Michael Jackson\"\n",
        "\n",
        "def printer(artist):\n",
        "    global internal_var \n",
        "    internal_var= \"Whitney Houston\"\n",
        "    print(artist,\"is an artist\")"
      ],
      "metadata": {
        "id": "iRU8f2lYIGzf"
      },
      "execution_count": 210,
      "outputs": []
    },
    {
      "cell_type": "code",
      "source": [
        "printer(artist) \n",
        "printer(internal_var)"
      ],
      "metadata": {
        "colab": {
          "base_uri": "https://localhost:8080/"
        },
        "id": "VApBl-JwITDf",
        "outputId": "0a4c45de-3ca8-41e5-8388-1159ad15f964"
      },
      "execution_count": 211,
      "outputs": [
        {
          "output_type": "stream",
          "name": "stdout",
          "text": [
            "Michael Jackson is an artist\n",
            "Whitney Houston is an artist\n"
          ]
        }
      ]
    },
    {
      "cell_type": "code",
      "source": [
        "myFavouriteBand = \"AC/DC\"\n",
        "\n",
        "def getBandRating(bandname):\n",
        "    if bandname == myFavouriteBand:\n",
        "        return 10.0\n",
        "    else:\n",
        "        return 0.0\n"
      ],
      "metadata": {
        "id": "dn7WaDC1ITcV"
      },
      "execution_count": 212,
      "outputs": []
    },
    {
      "cell_type": "code",
      "source": [
        "print(\"AC/DC's rating is:\", getBandRating(\"AC/DC\"))\n",
        "print(\"Deep Purple's rating is:\",getBandRating(\"Deep Purple\"))\n",
        "print(\"My favourite band is:\", myFavouriteBand)"
      ],
      "metadata": {
        "colab": {
          "base_uri": "https://localhost:8080/"
        },
        "id": "xMen8qOCIZi3",
        "outputId": "7eb0388b-17f5-4407-9d06-a31ae2040490"
      },
      "execution_count": 213,
      "outputs": [
        {
          "output_type": "stream",
          "name": "stdout",
          "text": [
            "AC/DC's rating is: 10.0\n",
            "Deep Purple's rating is: 0.0\n",
            "My favourite band is: AC/DC\n"
          ]
        }
      ]
    },
    {
      "cell_type": "markdown",
      "source": [
        "##### Objects and types"
      ],
      "metadata": {
        "id": "lo9caIWwIZ2z"
      }
    },
    {
      "cell_type": "markdown",
      "source": [
        "Puedes crear tus propios tipos de objetos llamados clases"
      ],
      "metadata": {
        "id": "oRD3LXVVT_Il"
      }
    },
    {
      "cell_type": "code",
      "source": [
        "class mi_tipo_objeto(): \n",
        "  def __init__(self,atributo1,atributo2): \n",
        "    self.atributo1 = atributo1;\n",
        "    self.atributo2 = atributo2;"
      ],
      "metadata": {
        "id": "vnHkA_mRVAPB"
      },
      "execution_count": 214,
      "outputs": []
    },
    {
      "cell_type": "code",
      "source": [
        "objeto_creado = mi_tipo_objeto(3,'no es un color')"
      ],
      "metadata": {
        "id": "uHp1bBs-XVhk"
      },
      "execution_count": 215,
      "outputs": []
    },
    {
      "cell_type": "code",
      "source": [
        "objeto_creado.atributo1"
      ],
      "metadata": {
        "colab": {
          "base_uri": "https://localhost:8080/"
        },
        "id": "M4PSecznX0IR",
        "outputId": "a4cbb5f7-f2f3-450c-e460-f93a0bb78a48"
      },
      "execution_count": 216,
      "outputs": [
        {
          "output_type": "execute_result",
          "data": {
            "text/plain": [
              "3"
            ]
          },
          "metadata": {},
          "execution_count": 216
        }
      ]
    },
    {
      "cell_type": "code",
      "source": [
        "objeto_creado.atributo2"
      ],
      "metadata": {
        "colab": {
          "base_uri": "https://localhost:8080/",
          "height": 35
        },
        "id": "XG7KU5uUX1uM",
        "outputId": "9a23a9e0-d3bf-4dc0-b7f0-d64551b7edd1"
      },
      "execution_count": 217,
      "outputs": [
        {
          "output_type": "execute_result",
          "data": {
            "text/plain": [
              "'no es un color'"
            ],
            "application/vnd.google.colaboratory.intrinsic+json": {
              "type": "string"
            }
          },
          "metadata": {},
          "execution_count": 217
        }
      ]
    },
    {
      "cell_type": "code",
      "source": [
        "class objeto_raro(): \n",
        "  def __init__(self,atr1,atr2,atr3, atr4,atr5,atr6): \n",
        "    self.atr1 = atr1;\n",
        "    self.atr2 = atr2;\n",
        "    self.atr3 = atr3;\n",
        "    self.atr4 = atr4;\n",
        "    self.atr5 = atr5;\n",
        "    self.atr6 = atr6;\n",
        "    "
      ],
      "metadata": {
        "id": "xHHcnAQWX3tp"
      },
      "execution_count": 220,
      "outputs": []
    },
    {
      "cell_type": "code",
      "source": [
        "obj = objeto_raro('rojo','perro',22,'sope','tengo_hambre',45)"
      ],
      "metadata": {
        "id": "XNu762ppY7Tq"
      },
      "execution_count": 221,
      "outputs": []
    },
    {
      "cell_type": "code",
      "source": [
        "obj.atr6"
      ],
      "metadata": {
        "colab": {
          "base_uri": "https://localhost:8080/"
        },
        "id": "AJuAcYubZEUe",
        "outputId": "6cea4648-e858-4a1e-9632-66e75c6f6915"
      },
      "execution_count": 222,
      "outputs": [
        {
          "output_type": "execute_result",
          "data": {
            "text/plain": [
              "45"
            ]
          },
          "metadata": {},
          "execution_count": 222
        }
      ]
    },
    {
      "cell_type": "code",
      "source": [
        "obj.atr4"
      ],
      "metadata": {
        "colab": {
          "base_uri": "https://localhost:8080/",
          "height": 35
        },
        "id": "vdu-HfjhZLx9",
        "outputId": "deb9a906-6ba8-4144-e4d1-e958281f9ac2"
      },
      "execution_count": 223,
      "outputs": [
        {
          "output_type": "execute_result",
          "data": {
            "text/plain": [
              "'sope'"
            ],
            "application/vnd.google.colaboratory.intrinsic+json": {
              "type": "string"
            }
          },
          "metadata": {},
          "execution_count": 223
        }
      ]
    },
    {
      "cell_type": "code",
      "source": [
        "obj.atr4 = 'hamburguesa'"
      ],
      "metadata": {
        "id": "-72AdNkaZOVw"
      },
      "execution_count": 224,
      "outputs": []
    },
    {
      "cell_type": "code",
      "source": [
        "obj.atr4"
      ],
      "metadata": {
        "colab": {
          "base_uri": "https://localhost:8080/",
          "height": 35
        },
        "id": "Ut5TPAreZbDk",
        "outputId": "9e8a9232-994b-4d53-b18f-707c91f22e4f"
      },
      "execution_count": 225,
      "outputs": [
        {
          "output_type": "execute_result",
          "data": {
            "text/plain": [
              "'hamburguesa'"
            ],
            "application/vnd.google.colaboratory.intrinsic+json": {
              "type": "string"
            }
          },
          "metadata": {},
          "execution_count": 225
        }
      ]
    },
    {
      "cell_type": "code",
      "source": [
        "class objeto_sencillo(): \n",
        "  def __init__(self,a1,a2):\n",
        "    self.a1=a1;\n",
        "    self.a2=a2;\n",
        "  def add_a1 (self, algo):\n",
        "    self.a1 = self.a1 + algo\n",
        "    return(self.a1)"
      ],
      "metadata": {
        "id": "REOzJNwnZcC7"
      },
      "execution_count": 233,
      "outputs": []
    },
    {
      "cell_type": "code",
      "source": [
        "prueba = objeto_sencillo(1,2)"
      ],
      "metadata": {
        "id": "ZITAguGwZouM"
      },
      "execution_count": 234,
      "outputs": []
    },
    {
      "cell_type": "code",
      "source": [
        "prueba.a1"
      ],
      "metadata": {
        "colab": {
          "base_uri": "https://localhost:8080/"
        },
        "id": "pJdgyl70ZslT",
        "outputId": "52976acf-9f23-45f9-c5a8-2d8eb5c3c358"
      },
      "execution_count": 235,
      "outputs": [
        {
          "output_type": "execute_result",
          "data": {
            "text/plain": [
              "1"
            ]
          },
          "metadata": {},
          "execution_count": 235
        }
      ]
    },
    {
      "cell_type": "code",
      "source": [
        "prueba.add_a1(6)"
      ],
      "metadata": {
        "colab": {
          "base_uri": "https://localhost:8080/"
        },
        "id": "98tEzUg6ZtuC",
        "outputId": "cd05373e-9b06-4f52-a892-7d06677e2c2f"
      },
      "execution_count": 236,
      "outputs": [
        {
          "output_type": "execute_result",
          "data": {
            "text/plain": [
              "7"
            ]
          },
          "metadata": {},
          "execution_count": 236
        }
      ]
    },
    {
      "cell_type": "code",
      "source": [
        "class prueba_circulo(object):\n",
        "    \n",
        "    # Constructor\n",
        "    def __init__(self, radio=3, color='blue'):\n",
        "        self.radio = radio\n",
        "        self.color = color \n",
        "    \n",
        "    # Método\n",
        "    def add_radio(self, r):\n",
        "        self.radio = self.radio + r\n",
        "        return(self.radio)\n",
        "    \n",
        "    # Método\n",
        "    def dibujar_circulo(self):\n",
        "        plt.gca().add_patch(plt.Circle((0, 0), radius=self.radio, fc=self.color))\n",
        "        plt.axis('scaled')\n",
        "        plt.show()  "
      ],
      "metadata": {
        "id": "1OA6upKSbUs3"
      },
      "execution_count": 245,
      "outputs": []
    },
    {
      "cell_type": "code",
      "source": [
        "RedCircle = prueba_circulo(10, 'red')"
      ],
      "metadata": {
        "id": "Wf62Vz4sb14Y"
      },
      "execution_count": 246,
      "outputs": []
    },
    {
      "cell_type": "code",
      "source": [
        "dir(RedCircle)"
      ],
      "metadata": {
        "colab": {
          "base_uri": "https://localhost:8080/"
        },
        "id": "QxgMbsW3b36l",
        "outputId": "10698867-0824-4c8e-a355-14a17f20c9bc"
      },
      "execution_count": 247,
      "outputs": [
        {
          "output_type": "execute_result",
          "data": {
            "text/plain": [
              "['__class__',\n",
              " '__delattr__',\n",
              " '__dict__',\n",
              " '__dir__',\n",
              " '__doc__',\n",
              " '__eq__',\n",
              " '__format__',\n",
              " '__ge__',\n",
              " '__getattribute__',\n",
              " '__gt__',\n",
              " '__hash__',\n",
              " '__init__',\n",
              " '__init_subclass__',\n",
              " '__le__',\n",
              " '__lt__',\n",
              " '__module__',\n",
              " '__ne__',\n",
              " '__new__',\n",
              " '__reduce__',\n",
              " '__reduce_ex__',\n",
              " '__repr__',\n",
              " '__setattr__',\n",
              " '__sizeof__',\n",
              " '__str__',\n",
              " '__subclasshook__',\n",
              " '__weakref__',\n",
              " 'add_radio',\n",
              " 'color',\n",
              " 'dibujar_circulo',\n",
              " 'radio']"
            ]
          },
          "metadata": {},
          "execution_count": 247
        }
      ]
    },
    {
      "cell_type": "code",
      "source": [
        "RedCircle.radio = 1\n",
        "RedCircle.radio"
      ],
      "metadata": {
        "colab": {
          "base_uri": "https://localhost:8080/"
        },
        "id": "25wouiiub5UI",
        "outputId": "45cff153-d6fc-4caf-c385-9c7a0dadf229"
      },
      "execution_count": 248,
      "outputs": [
        {
          "output_type": "execute_result",
          "data": {
            "text/plain": [
              "1"
            ]
          },
          "metadata": {},
          "execution_count": 248
        }
      ]
    },
    {
      "cell_type": "code",
      "source": [
        "# Call the method drawCircle\n",
        "\n",
        "RedCircle.dibujar_circulo()"
      ],
      "metadata": {
        "colab": {
          "base_uri": "https://localhost:8080/",
          "height": 265
        },
        "id": "4kSmHeeGb73h",
        "outputId": "43dc748a-ae8a-45cb-8400-362ca17a13c2"
      },
      "execution_count": 249,
      "outputs": [
        {
          "output_type": "display_data",
          "data": {
            "text/plain": [
              "<Figure size 432x288 with 1 Axes>"
            ],
            "image/png": "[encoded data removed]"
          },
          "metadata": {
            "needs_background": "light"
          }
        }
      ]
    },
    {
      "cell_type": "code",
      "source": [],
      "metadata": {
        "id": "azV3iLCVb9aX"
      },
      "execution_count": null,
      "outputs": []
    }
  ]
}