{
  "nbformat": 4,
  "nbformat_minor": 0,
  "metadata": {
    "colab": {
      "provenance": [],
      "authorship_tag": "ABX9TyOKwtf4kDKHxH5YdduAzgV4",
      "include_colab_link": true
    },
    "kernelspec": {
      "name": "python3",
      "display_name": "Python 3"
    },
    "language_info": {
      "name": "python"
    }
  },
  "cells": [
    {
      "cell_type": "markdown",
      "metadata": {
        "id": "view-in-github",
        "colab_type": "text"
      },
      "source": [
        "<a href=\"https://colab.research.google.com/github/PosgradoMNA/actividades-de-aprendizaje-memowayun/blob/main/A01793695_S6_Visualizacion.ipynb\" target=\"_parent\"><img src=\"https://colab.research.google.com/assets/colab-badge.svg\" alt=\"Open In Colab\"/></a>"
      ]
    },
    {
      "cell_type": "markdown",
      "source": [
        "#**Maestría en Inteligencia Artificial Aplicada**\n",
        "## *Ciencia y Analítica de Datos*\n",
        "\n",
        "### **Semana 6 -- Visualización**\n",
        "\n",
        "\n",
        "####**Curso: Ciencia y analítica de datos (Gpo 10)**\n",
        "\n",
        "####**1 de Noviembre de 2022**\n",
        "\n",
        "\n",
        "Nombre del estudiante: \n",
        "\n",
        "***Miguel Guillermo Galindo Orozco (A01793695)***\n"
      ],
      "metadata": {
        "id": "iCvnUTqhaLvo"
      }
    },
    {
      "cell_type": "markdown",
      "source": [
        "# Visualización de los Datos"
      ],
      "metadata": {
        "id": "giHL_t7FaWIp"
      }
    },
    {
      "cell_type": "markdown",
      "source": [
        "#### Librerías a utilizar"
      ],
      "metadata": {
        "id": "qd1n4nS1aYsH"
      }
    },
    {
      "cell_type": "code",
      "source": [
        "import pandas as pd\n",
        "import numpy as np\n",
        "\n",
        "from sklearn.decomposition import PCA\n",
        "\n",
        "import seaborn as sns\n",
        "import matplotlib as mpl\n",
        "import matplotlib.pyplot as plt"
      ],
      "metadata": {
        "id": "MhFl2U7DaY2I"
      },
      "execution_count": null,
      "outputs": []
    },
    {
      "cell_type": "markdown",
      "source": [
        "## Ejercicio 1"
      ],
      "metadata": {
        "id": "SDGc-2zYbLrJ"
      }
    },
    {
      "cell_type": "markdown",
      "source": [
        "##### Lectura de Data"
      ],
      "metadata": {
        "id": "O9QxrqLQasBH"
      }
    },
    {
      "cell_type": "code",
      "source": [
        "path='https://raw.githubusercontent.com/PosgradoMNA/Actividades_Aprendizaje-/main/default%20of%20credit%20card%20clients.csv'\n",
        "df = pd.read_csv(path) #.iloc[:, 1:] ### Seleccionamos todo menos la primer columna, al ser el índice de la escritura anterior"
      ],
      "metadata": {
        "id": "-KKZsP7Rauc1"
      },
      "execution_count": null,
      "outputs": []
    },
    {
      "cell_type": "markdown",
      "source": [
        "## Ejercicio 2"
      ],
      "metadata": {
        "id": "wIAV_I1abTe2"
      }
    },
    {
      "cell_type": "markdown",
      "source": [
        "Obten la información del DataFrame con los métodos y propiedades: shape, columns, head(), dtypes, info(), isna()"
      ],
      "metadata": {
        "id": "Sh7pzVmmbbkh"
      }
    },
    {
      "cell_type": "code",
      "source": [
        "## Dimensiones de la data\n",
        "df.shape"
      ],
      "metadata": {
        "colab": {
          "base_uri": "https://localhost:8080/"
        },
        "id": "_rm56-b3bd1r",
        "outputId": "01d6f0d3-50f9-4f1a-bafc-671a0a433596"
      },
      "execution_count": null,
      "outputs": [
        {
          "output_type": "execute_result",
          "data": {
            "text/plain": [
              "(30000, 25)"
            ]
          },
          "metadata": {},
          "execution_count": 3
        }
      ]
    },
    {
      "cell_type": "code",
      "source": [
        "## Columnas en la data\n",
        "df.columns"
      ],
      "metadata": {
        "colab": {
          "base_uri": "https://localhost:8080/"
        },
        "id": "uYaL3Opjbf9O",
        "outputId": "1cfc1b96-2f46-4426-d3b8-4a44e9a6ec2f"
      },
      "execution_count": null,
      "outputs": [
        {
          "output_type": "execute_result",
          "data": {
            "text/plain": [
              "Index(['ID', 'X1', 'X2', 'X3', 'X4', 'X5', 'X6', 'X7', 'X8', 'X9', 'X10',\n",
              "       'X11', 'X12', 'X13', 'X14', 'X15', 'X16', 'X17', 'X18', 'X19', 'X20',\n",
              "       'X21', 'X22', 'X23', 'Y'],\n",
              "      dtype='object')"
            ]
          },
          "metadata": {},
          "execution_count": 4
        }
      ]
    },
    {
      "cell_type": "code",
      "source": [
        "## Observa los primeros renglones de la data\n",
        "df.head()"
      ],
      "metadata": {
        "colab": {
          "base_uri": "https://localhost:8080/",
          "height": 236
        },
        "id": "9Rr_cAA9bRHX",
        "outputId": "407029dc-08db-4e80-b81d-218f1da7b263"
      },
      "execution_count": null,
      "outputs": [
        {
          "output_type": "execute_result",
          "data": {
            "text/plain": [
              "   ID      X1   X2   X3   X4    X5   X6   X7   X8   X9  ...      X15      X16  \\\n",
              "0   1   20000  2.0  2.0  1.0  24.0  2.0  2.0 -1.0 -1.0  ...      0.0      0.0   \n",
              "1   2  120000  2.0  2.0  2.0  26.0 -1.0  2.0  0.0  0.0  ...   3272.0   3455.0   \n",
              "2   3   90000  2.0  2.0  2.0  34.0  0.0  0.0  0.0  0.0  ...  14331.0  14948.0   \n",
              "3   4   50000  2.0  2.0  1.0  37.0  0.0  0.0  0.0  0.0  ...  28314.0  28959.0   \n",
              "4   5   50000  1.0  2.0  1.0  57.0 -1.0  0.0 -1.0  0.0  ...  20940.0  19146.0   \n",
              "\n",
              "       X17     X18      X19      X20     X21     X22     X23    Y  \n",
              "0      0.0     0.0    689.0      0.0     0.0     0.0     0.0  1.0  \n",
              "1   3261.0     0.0   1000.0   1000.0  1000.0     0.0  2000.0  1.0  \n",
              "2  15549.0  1518.0   1500.0   1000.0  1000.0  1000.0  5000.0  0.0  \n",
              "3  29547.0  2000.0   2019.0   1200.0  1100.0  1069.0  1000.0  0.0  \n",
              "4  19131.0  2000.0  36681.0  10000.0  9000.0   689.0   679.0  0.0  \n",
              "\n",
              "[5 rows x 25 columns]"
            ],
            "text/html": [
              "\n",
              "  <div id=\"df-5805d9cb-334f-4290-8e1b-a1cd9b14e727\">\n",
              "    <div class=\"colab-df-container\">\n",
              "      <div>\n",
              "<style scoped>\n",
              "    .dataframe tbody tr th:only-of-type {\n",
              "        vertical-align: middle;\n",
              "    }\n",
              "\n",
              "    .dataframe tbody tr th {\n",
              "        vertical-align: top;\n",
              "    }\n",
              "\n",
              "    .dataframe thead th {\n",
              "        text-align: right;\n",
              "    }\n",
              "</style>\n",
              "<table border=\"1\" class=\"dataframe\">\n",
              "  <thead>\n",
              "    <tr style=\"text-align: right;\">\n",
              "      <th></th>\n",
              "      <th>ID</th>\n",
              "      <th>X1</th>\n",
              "      <th>X2</th>\n",
              "      <th>X3</th>\n",
              "      <th>X4</th>\n",
              "      <th>X5</th>\n",
              "      <th>X6</th>\n",
              "      <th>X7</th>\n",
              "      <th>X8</th>\n",
              "      <th>X9</th>\n",
              "      <th>...</th>\n",
              "      <th>X15</th>\n",
              "      <th>X16</th>\n",
              "      <th>X17</th>\n",
              "      <th>X18</th>\n",
              "      <th>X19</th>\n",
              "      <th>X20</th>\n",
              "      <th>X21</th>\n",
              "      <th>X22</th>\n",
              "      <th>X23</th>\n",
              "      <th>Y</th>\n",
              "    </tr>\n",
              "  </thead>\n",
              "  <tbody>\n",
              "    <tr>\n",
              "      <th>0</th>\n",
              "      <td>1</td>\n",
              "      <td>20000</td>\n",
              "      <td>2.0</td>\n",
              "      <td>2.0</td>\n",
              "      <td>1.0</td>\n",
              "      <td>24.0</td>\n",
              "      <td>2.0</td>\n",
              "      <td>2.0</td>\n",
              "      <td>-1.0</td>\n",
              "      <td>-1.0</td>\n",
              "      <td>...</td>\n",
              "      <td>0.0</td>\n",
              "      <td>0.0</td>\n",
              "      <td>0.0</td>\n",
              "      <td>0.0</td>\n",
              "      <td>689.0</td>\n",
              "      <td>0.0</td>\n",
              "      <td>0.0</td>\n",
              "      <td>0.0</td>\n",
              "      <td>0.0</td>\n",
              "      <td>1.0</td>\n",
              "    </tr>\n",
              "    <tr>\n",
              "      <th>1</th>\n",
              "      <td>2</td>\n",
              "      <td>120000</td>\n",
              "      <td>2.0</td>\n",
              "      <td>2.0</td>\n",
              "      <td>2.0</td>\n",
              "      <td>26.0</td>\n",
              "      <td>-1.0</td>\n",
              "      <td>2.0</td>\n",
              "      <td>0.0</td>\n",
              "      <td>0.0</td>\n",
              "      <td>...</td>\n",
              "      <td>3272.0</td>\n",
              "      <td>3455.0</td>\n",
              "      <td>3261.0</td>\n",
              "      <td>0.0</td>\n",
              "      <td>1000.0</td>\n",
              "      <td>1000.0</td>\n",
              "      <td>1000.0</td>\n",
              "      <td>0.0</td>\n",
              "      <td>2000.0</td>\n",
              "      <td>1.0</td>\n",
              "    </tr>\n",
              "    <tr>\n",
              "      <th>2</th>\n",
              "      <td>3</td>\n",
              "      <td>90000</td>\n",
              "      <td>2.0</td>\n",
              "      <td>2.0</td>\n",
              "      <td>2.0</td>\n",
              "      <td>34.0</td>\n",
              "      <td>0.0</td>\n",
              "      <td>0.0</td>\n",
              "      <td>0.0</td>\n",
              "      <td>0.0</td>\n",
              "      <td>...</td>\n",
              "      <td>14331.0</td>\n",
              "      <td>14948.0</td>\n",
              "      <td>15549.0</td>\n",
              "      <td>1518.0</td>\n",
              "      <td>1500.0</td>\n",
              "      <td>1000.0</td>\n",
              "      <td>1000.0</td>\n",
              "      <td>1000.0</td>\n",
              "      <td>5000.0</td>\n",
              "      <td>0.0</td>\n",
              "    </tr>\n",
              "    <tr>\n",
              "      <th>3</th>\n",
              "      <td>4</td>\n",
              "      <td>50000</td>\n",
              "      <td>2.0</td>\n",
              "      <td>2.0</td>\n",
              "      <td>1.0</td>\n",
              "      <td>37.0</td>\n",
              "      <td>0.0</td>\n",
              "      <td>0.0</td>\n",
              "      <td>0.0</td>\n",
              "      <td>0.0</td>\n",
              "      <td>...</td>\n",
              "      <td>28314.0</td>\n",
              "      <td>28959.0</td>\n",
              "      <td>29547.0</td>\n",
              "      <td>2000.0</td>\n",
              "      <td>2019.0</td>\n",
              "      <td>1200.0</td>\n",
              "      <td>1100.0</td>\n",
              "      <td>1069.0</td>\n",
              "      <td>1000.0</td>\n",
              "      <td>0.0</td>\n",
              "    </tr>\n",
              "    <tr>\n",
              "      <th>4</th>\n",
              "      <td>5</td>\n",
              "      <td>50000</td>\n",
              "      <td>1.0</td>\n",
              "      <td>2.0</td>\n",
              "      <td>1.0</td>\n",
              "      <td>57.0</td>\n",
              "      <td>-1.0</td>\n",
              "      <td>0.0</td>\n",
              "      <td>-1.0</td>\n",
              "      <td>0.0</td>\n",
              "      <td>...</td>\n",
              "      <td>20940.0</td>\n",
              "      <td>19146.0</td>\n",
              "      <td>19131.0</td>\n",
              "      <td>2000.0</td>\n",
              "      <td>36681.0</td>\n",
              "      <td>10000.0</td>\n",
              "      <td>9000.0</td>\n",
              "      <td>689.0</td>\n",
              "      <td>679.0</td>\n",
              "      <td>0.0</td>\n",
              "    </tr>\n",
              "  </tbody>\n",
              "</table>\n",
              "<p>5 rows × 25 columns</p>\n",
              "</div>\n",
              "      <button class=\"colab-df-convert\" onclick=\"convertToInteractive('df-5805d9cb-334f-4290-8e1b-a1cd9b14e727')\"\n",
              "              title=\"Convert this dataframe to an interactive table.\"\n",
              "              style=\"display:none;\">\n",
              "        \n",
              "  <svg xmlns=\"http://www.w3.org/2000/svg\" height=\"24px\"viewBox=\"0 0 24 24\"\n",
              "       width=\"24px\">\n",
              "    <path d=\"M0 0h24v24H0V0z\" fill=\"none\"/>\n",
              "    <path d=\"M18.56 5.44l.94 2.06.94-2.06 2.06-.94-2.06-.94-.94-2.06-.94 2.06-2.06.94zm-11 1L8.5 8.5l.94-2.06 2.06-.94-2.06-.94L8.5 2.5l-.94 2.06-2.06.94zm10 10l.94 2.06.94-2.06 2.06-.94-2.06-.94-.94-2.06-.94 2.06-2.06.94z\"/><path d=\"M17.41 7.96l-1.37-1.37c-.4-.4-.92-.59-1.43-.59-.52 0-1.04.2-1.43.59L10.3 9.45l-7.72 7.72c-.78.78-.78 2.05 0 2.83L4 21.41c.39.39.9.59 1.41.59.51 0 1.02-.2 1.41-.59l7.78-7.78 2.81-2.81c.8-.78.8-2.07 0-2.86zM5.41 20L4 18.59l7.72-7.72 1.47 1.35L5.41 20z\"/>\n",
              "  </svg>\n",
              "      </button>\n",
              "      \n",
              "  <style>\n",
              "    .colab-df-container {\n",
              "      display:flex;\n",
              "      flex-wrap:wrap;\n",
              "      gap: 12px;\n",
              "    }\n",
              "\n",
              "    .colab-df-convert {\n",
              "      background-color: #E8F0FE;\n",
              "      border: none;\n",
              "      border-radius: 50%;\n",
              "      cursor: pointer;\n",
              "      display: none;\n",
              "      fill: #1967D2;\n",
              "      height: 32px;\n",
              "      padding: 0 0 0 0;\n",
              "      width: 32px;\n",
              "    }\n",
              "\n",
              "    .colab-df-convert:hover {\n",
              "      background-color: #E2EBFA;\n",
              "      box-shadow: 0px 1px 2px rgba(60, 64, 67, 0.3), 0px 1px 3px 1px rgba(60, 64, 67, 0.15);\n",
              "      fill: #174EA6;\n",
              "    }\n",
              "\n",
              "    [theme=dark] .colab-df-convert {\n",
              "      background-color: #3B4455;\n",
              "      fill: #D2E3FC;\n",
              "    }\n",
              "\n",
              "    [theme=dark] .colab-df-convert:hover {\n",
              "      background-color: #434B5C;\n",
              "      box-shadow: 0px 1px 3px 1px rgba(0, 0, 0, 0.15);\n",
              "      filter: drop-shadow(0px 1px 2px rgba(0, 0, 0, 0.3));\n",
              "      fill: #FFFFFF;\n",
              "    }\n",
              "  </style>\n",
              "\n",
              "      <script>\n",
              "        const buttonEl =\n",
              "          document.querySelector('#df-5805d9cb-334f-4290-8e1b-a1cd9b14e727 button.colab-df-convert');\n",
              "        buttonEl.style.display =\n",
              "          google.colab.kernel.accessAllowed ? 'block' : 'none';\n",
              "\n",
              "        async function convertToInteractive(key) {\n",
              "          const element = document.querySelector('#df-5805d9cb-334f-4290-8e1b-a1cd9b14e727');\n",
              "          const dataTable =\n",
              "            await google.colab.kernel.invokeFunction('convertToInteractive',\n",
              "                                                     [key], {});\n",
              "          if (!dataTable) return;\n",
              "\n",
              "          const docLinkHtml = 'Like what you see? Visit the ' +\n",
              "            '<a target=\"_blank\" href=https://colab.research.google.com/notebooks/data_table.ipynb>data table notebook</a>'\n",
              "            + ' to learn more about interactive tables.';\n",
              "          element.innerHTML = '';\n",
              "          dataTable['output_type'] = 'display_data';\n",
              "          await google.colab.output.renderOutput(dataTable, element);\n",
              "          const docLink = document.createElement('div');\n",
              "          docLink.innerHTML = docLinkHtml;\n",
              "          element.appendChild(docLink);\n",
              "        }\n",
              "      </script>\n",
              "    </div>\n",
              "  </div>\n",
              "  "
            ]
          },
          "metadata": {},
          "execution_count": 5
        }
      ]
    },
    {
      "cell_type": "code",
      "source": [
        "## Los tipos de dato por columna \n",
        "df.dtypes"
      ],
      "metadata": {
        "colab": {
          "base_uri": "https://localhost:8080/"
        },
        "id": "PMUM12w_bpLl",
        "outputId": "e5328676-5ad9-48b8-e432-53b6516036b7"
      },
      "execution_count": null,
      "outputs": [
        {
          "output_type": "execute_result",
          "data": {
            "text/plain": [
              "ID       int64\n",
              "X1       int64\n",
              "X2     float64\n",
              "X3     float64\n",
              "X4     float64\n",
              "X5     float64\n",
              "X6     float64\n",
              "X7     float64\n",
              "X8     float64\n",
              "X9     float64\n",
              "X10    float64\n",
              "X11    float64\n",
              "X12    float64\n",
              "X13    float64\n",
              "X14    float64\n",
              "X15    float64\n",
              "X16    float64\n",
              "X17    float64\n",
              "X18    float64\n",
              "X19    float64\n",
              "X20    float64\n",
              "X21    float64\n",
              "X22    float64\n",
              "X23    float64\n",
              "Y      float64\n",
              "dtype: object"
            ]
          },
          "metadata": {},
          "execution_count": 6
        }
      ]
    },
    {
      "cell_type": "code",
      "source": [
        "## Información acerca del df\n",
        "df.info"
      ],
      "metadata": {
        "colab": {
          "base_uri": "https://localhost:8080/"
        },
        "id": "MvBmvyFnb3Jj",
        "outputId": "d80e9eac-c23c-43cf-dc4f-baf0f836f769"
      },
      "execution_count": null,
      "outputs": [
        {
          "output_type": "execute_result",
          "data": {
            "text/plain": [
              "<bound method DataFrame.info of           ID      X1   X2   X3   X4    X5   X6   X7   X8   X9  ...      X15  \\\n",
              "0          1   20000  2.0  2.0  1.0  24.0  2.0  2.0 -1.0 -1.0  ...      0.0   \n",
              "1          2  120000  2.0  2.0  2.0  26.0 -1.0  2.0  0.0  0.0  ...   3272.0   \n",
              "2          3   90000  2.0  2.0  2.0  34.0  0.0  0.0  0.0  0.0  ...  14331.0   \n",
              "3          4   50000  2.0  2.0  1.0  37.0  0.0  0.0  0.0  0.0  ...  28314.0   \n",
              "4          5   50000  1.0  2.0  1.0  57.0 -1.0  0.0 -1.0  0.0  ...  20940.0   \n",
              "...      ...     ...  ...  ...  ...   ...  ...  ...  ...  ...  ...      ...   \n",
              "29995  29996  220000  1.0  3.0  1.0  39.0  0.0  0.0  0.0  0.0  ...  88004.0   \n",
              "29996  29997  150000  1.0  3.0  2.0  43.0 -1.0 -1.0 -1.0 -1.0  ...   8979.0   \n",
              "29997  29998   30000  1.0  2.0  2.0  37.0  4.0  3.0  2.0 -1.0  ...  20878.0   \n",
              "29998  29999   80000  1.0  3.0  1.0  41.0  1.0 -1.0  0.0  0.0  ...  52774.0   \n",
              "29999  30000   50000  1.0  2.0  1.0  46.0  0.0  0.0  0.0  0.0  ...  36535.0   \n",
              "\n",
              "           X16      X17      X18      X19      X20     X21      X22     X23  \\\n",
              "0          0.0      0.0      0.0    689.0      0.0     0.0      0.0     0.0   \n",
              "1       3455.0   3261.0      0.0   1000.0   1000.0  1000.0      0.0  2000.0   \n",
              "2      14948.0  15549.0   1518.0   1500.0   1000.0  1000.0   1000.0  5000.0   \n",
              "3      28959.0  29547.0   2000.0   2019.0   1200.0  1100.0   1069.0  1000.0   \n",
              "4      19146.0  19131.0   2000.0  36681.0  10000.0  9000.0    689.0   679.0   \n",
              "...        ...      ...      ...      ...      ...     ...      ...     ...   \n",
              "29995  31237.0  15980.0   8500.0  20000.0   5003.0  3047.0   5000.0  1000.0   \n",
              "29996   5190.0      0.0   1837.0   3526.0   8998.0   129.0      0.0     0.0   \n",
              "29997  20582.0  19357.0      0.0      0.0  22000.0  4200.0   2000.0  3100.0   \n",
              "29998  11855.0  48944.0  85900.0   3409.0   1178.0  1926.0  52964.0  1804.0   \n",
              "29999  32428.0  15313.0   2078.0   1800.0   1430.0  1000.0   1000.0  1000.0   \n",
              "\n",
              "         Y  \n",
              "0      1.0  \n",
              "1      1.0  \n",
              "2      0.0  \n",
              "3      0.0  \n",
              "4      0.0  \n",
              "...    ...  \n",
              "29995  0.0  \n",
              "29996  0.0  \n",
              "29997  1.0  \n",
              "29998  1.0  \n",
              "29999  1.0  \n",
              "\n",
              "[30000 rows x 25 columns]>"
            ]
          },
          "metadata": {},
          "execution_count": 7
        }
      ]
    },
    {
      "cell_type": "code",
      "source": [
        "## valores nulos en la data\n",
        "df.isna()"
      ],
      "metadata": {
        "colab": {
          "base_uri": "https://localhost:8080/",
          "height": 424
        },
        "id": "wKOj5kiCb6Mj",
        "outputId": "f1737d40-710c-4bec-e7e7-a0c1d54143b5"
      },
      "execution_count": null,
      "outputs": [
        {
          "output_type": "execute_result",
          "data": {
            "text/plain": [
              "          ID     X1     X2     X3     X4     X5     X6     X7     X8     X9  \\\n",
              "0      False  False  False  False  False  False  False  False  False  False   \n",
              "1      False  False  False  False  False  False  False  False  False  False   \n",
              "2      False  False  False  False  False  False  False  False  False  False   \n",
              "3      False  False  False  False  False  False  False  False  False  False   \n",
              "4      False  False  False  False  False  False  False  False  False  False   \n",
              "...      ...    ...    ...    ...    ...    ...    ...    ...    ...    ...   \n",
              "29995  False  False  False  False  False  False  False  False  False  False   \n",
              "29996  False  False  False  False  False  False  False  False  False  False   \n",
              "29997  False  False  False  False  False  False  False  False  False  False   \n",
              "29998  False  False  False  False  False  False  False  False  False  False   \n",
              "29999  False  False  False  False  False  False  False  False  False  False   \n",
              "\n",
              "       ...    X15    X16    X17    X18    X19    X20    X21    X22    X23  \\\n",
              "0      ...  False  False  False  False  False  False  False  False  False   \n",
              "1      ...  False  False  False  False  False  False  False  False  False   \n",
              "2      ...  False  False  False  False  False  False  False  False  False   \n",
              "3      ...  False  False  False  False  False  False  False  False  False   \n",
              "4      ...  False  False  False  False  False  False  False  False  False   \n",
              "...    ...    ...    ...    ...    ...    ...    ...    ...    ...    ...   \n",
              "29995  ...  False  False  False  False  False  False  False  False  False   \n",
              "29996  ...  False  False  False  False  False  False  False  False  False   \n",
              "29997  ...  False  False  False  False  False  False  False  False  False   \n",
              "29998  ...  False  False  False  False  False  False  False  False  False   \n",
              "29999  ...  False  False  False  False  False  False  False  False  False   \n",
              "\n",
              "           Y  \n",
              "0      False  \n",
              "1      False  \n",
              "2      False  \n",
              "3      False  \n",
              "4      False  \n",
              "...      ...  \n",
              "29995  False  \n",
              "29996  False  \n",
              "29997  False  \n",
              "29998  False  \n",
              "29999  False  \n",
              "\n",
              "[30000 rows x 25 columns]"
            ],
            "text/html": [
              "\n",
              "  <div id=\"df-906f1f8d-d8c7-474e-8ecf-a29f668e48f2\">\n",
              "    <div class=\"colab-df-container\">\n",
              "      <div>\n",
              "<style scoped>\n",
              "    .dataframe tbody tr th:only-of-type {\n",
              "        vertical-align: middle;\n",
              "    }\n",
              "\n",
              "    .dataframe tbody tr th {\n",
              "        vertical-align: top;\n",
              "    }\n",
              "\n",
              "    .dataframe thead th {\n",
              "        text-align: right;\n",
              "    }\n",
              "</style>\n",
              "<table border=\"1\" class=\"dataframe\">\n",
              "  <thead>\n",
              "    <tr style=\"text-align: right;\">\n",
              "      <th></th>\n",
              "      <th>ID</th>\n",
              "      <th>X1</th>\n",
              "      <th>X2</th>\n",
              "      <th>X3</th>\n",
              "      <th>X4</th>\n",
              "      <th>X5</th>\n",
              "      <th>X6</th>\n",
              "      <th>X7</th>\n",
              "      <th>X8</th>\n",
              "      <th>X9</th>\n",
              "      <th>...</th>\n",
              "      <th>X15</th>\n",
              "      <th>X16</th>\n",
              "      <th>X17</th>\n",
              "      <th>X18</th>\n",
              "      <th>X19</th>\n",
              "      <th>X20</th>\n",
              "      <th>X21</th>\n",
              "      <th>X22</th>\n",
              "      <th>X23</th>\n",
              "      <th>Y</th>\n",
              "    </tr>\n",
              "  </thead>\n",
              "  <tbody>\n",
              "    <tr>\n",
              "      <th>0</th>\n",
              "      <td>False</td>\n",
              "      <td>False</td>\n",
              "      <td>False</td>\n",
              "      <td>False</td>\n",
              "      <td>False</td>\n",
              "      <td>False</td>\n",
              "      <td>False</td>\n",
              "      <td>False</td>\n",
              "      <td>False</td>\n",
              "      <td>False</td>\n",
              "      <td>...</td>\n",
              "      <td>False</td>\n",
              "      <td>False</td>\n",
              "      <td>False</td>\n",
              "      <td>False</td>\n",
              "      <td>False</td>\n",
              "      <td>False</td>\n",
              "      <td>False</td>\n",
              "      <td>False</td>\n",
              "      <td>False</td>\n",
              "      <td>False</td>\n",
              "    </tr>\n",
              "    <tr>\n",
              "      <th>1</th>\n",
              "      <td>False</td>\n",
              "      <td>False</td>\n",
              "      <td>False</td>\n",
              "      <td>False</td>\n",
              "      <td>False</td>\n",
              "      <td>False</td>\n",
              "      <td>False</td>\n",
              "      <td>False</td>\n",
              "      <td>False</td>\n",
              "      <td>False</td>\n",
              "      <td>...</td>\n",
              "      <td>False</td>\n",
              "      <td>False</td>\n",
              "      <td>False</td>\n",
              "      <td>False</td>\n",
              "      <td>False</td>\n",
              "      <td>False</td>\n",
              "      <td>False</td>\n",
              "      <td>False</td>\n",
              "      <td>False</td>\n",
              "      <td>False</td>\n",
              "    </tr>\n",
              "    <tr>\n",
              "      <th>2</th>\n",
              "      <td>False</td>\n",
              "      <td>False</td>\n",
              "      <td>False</td>\n",
              "      <td>False</td>\n",
              "      <td>False</td>\n",
              "      <td>False</td>\n",
              "      <td>False</td>\n",
              "      <td>False</td>\n",
              "      <td>False</td>\n",
              "      <td>False</td>\n",
              "      <td>...</td>\n",
              "      <td>False</td>\n",
              "      <td>False</td>\n",
              "      <td>False</td>\n",
              "      <td>False</td>\n",
              "      <td>False</td>\n",
              "      <td>False</td>\n",
              "      <td>False</td>\n",
              "      <td>False</td>\n",
              "      <td>False</td>\n",
              "      <td>False</td>\n",
              "    </tr>\n",
              "    <tr>\n",
              "      <th>3</th>\n",
              "      <td>False</td>\n",
              "      <td>False</td>\n",
              "      <td>False</td>\n",
              "      <td>False</td>\n",
              "      <td>False</td>\n",
              "      <td>False</td>\n",
              "      <td>False</td>\n",
              "      <td>False</td>\n",
              "      <td>False</td>\n",
              "      <td>False</td>\n",
              "      <td>...</td>\n",
              "      <td>False</td>\n",
              "      <td>False</td>\n",
              "      <td>False</td>\n",
              "      <td>False</td>\n",
              "      <td>False</td>\n",
              "      <td>False</td>\n",
              "      <td>False</td>\n",
              "      <td>False</td>\n",
              "      <td>False</td>\n",
              "      <td>False</td>\n",
              "    </tr>\n",
              "    <tr>\n",
              "      <th>4</th>\n",
              "      <td>False</td>\n",
              "      <td>False</td>\n",
              "      <td>False</td>\n",
              "      <td>False</td>\n",
              "      <td>False</td>\n",
              "      <td>False</td>\n",
              "      <td>False</td>\n",
              "      <td>False</td>\n",
              "      <td>False</td>\n",
              "      <td>False</td>\n",
              "      <td>...</td>\n",
              "      <td>False</td>\n",
              "      <td>False</td>\n",
              "      <td>False</td>\n",
              "      <td>False</td>\n",
              "      <td>False</td>\n",
              "      <td>False</td>\n",
              "      <td>False</td>\n",
              "      <td>False</td>\n",
              "      <td>False</td>\n",
              "      <td>False</td>\n",
              "    </tr>\n",
              "    <tr>\n",
              "      <th>...</th>\n",
              "      <td>...</td>\n",
              "      <td>...</td>\n",
              "      <td>...</td>\n",
              "      <td>...</td>\n",
              "      <td>...</td>\n",
              "      <td>...</td>\n",
              "      <td>...</td>\n",
              "      <td>...</td>\n",
              "      <td>...</td>\n",
              "      <td>...</td>\n",
              "      <td>...</td>\n",
              "      <td>...</td>\n",
              "      <td>...</td>\n",
              "      <td>...</td>\n",
              "      <td>...</td>\n",
              "      <td>...</td>\n",
              "      <td>...</td>\n",
              "      <td>...</td>\n",
              "      <td>...</td>\n",
              "      <td>...</td>\n",
              "      <td>...</td>\n",
              "    </tr>\n",
              "    <tr>\n",
              "      <th>29995</th>\n",
              "      <td>False</td>\n",
              "      <td>False</td>\n",
              "      <td>False</td>\n",
              "      <td>False</td>\n",
              "      <td>False</td>\n",
              "      <td>False</td>\n",
              "      <td>False</td>\n",
              "      <td>False</td>\n",
              "      <td>False</td>\n",
              "      <td>False</td>\n",
              "      <td>...</td>\n",
              "      <td>False</td>\n",
              "      <td>False</td>\n",
              "      <td>False</td>\n",
              "      <td>False</td>\n",
              "      <td>False</td>\n",
              "      <td>False</td>\n",
              "      <td>False</td>\n",
              "      <td>False</td>\n",
              "      <td>False</td>\n",
              "      <td>False</td>\n",
              "    </tr>\n",
              "    <tr>\n",
              "      <th>29996</th>\n",
              "      <td>False</td>\n",
              "      <td>False</td>\n",
              "      <td>False</td>\n",
              "      <td>False</td>\n",
              "      <td>False</td>\n",
              "      <td>False</td>\n",
              "      <td>False</td>\n",
              "      <td>False</td>\n",
              "      <td>False</td>\n",
              "      <td>False</td>\n",
              "      <td>...</td>\n",
              "      <td>False</td>\n",
              "      <td>False</td>\n",
              "      <td>False</td>\n",
              "      <td>False</td>\n",
              "      <td>False</td>\n",
              "      <td>False</td>\n",
              "      <td>False</td>\n",
              "      <td>False</td>\n",
              "      <td>False</td>\n",
              "      <td>False</td>\n",
              "    </tr>\n",
              "    <tr>\n",
              "      <th>29997</th>\n",
              "      <td>False</td>\n",
              "      <td>False</td>\n",
              "      <td>False</td>\n",
              "      <td>False</td>\n",
              "      <td>False</td>\n",
              "      <td>False</td>\n",
              "      <td>False</td>\n",
              "      <td>False</td>\n",
              "      <td>False</td>\n",
              "      <td>False</td>\n",
              "      <td>...</td>\n",
              "      <td>False</td>\n",
              "      <td>False</td>\n",
              "      <td>False</td>\n",
              "      <td>False</td>\n",
              "      <td>False</td>\n",
              "      <td>False</td>\n",
              "      <td>False</td>\n",
              "      <td>False</td>\n",
              "      <td>False</td>\n",
              "      <td>False</td>\n",
              "    </tr>\n",
              "    <tr>\n",
              "      <th>29998</th>\n",
              "      <td>False</td>\n",
              "      <td>False</td>\n",
              "      <td>False</td>\n",
              "      <td>False</td>\n",
              "      <td>False</td>\n",
              "      <td>False</td>\n",
              "      <td>False</td>\n",
              "      <td>False</td>\n",
              "      <td>False</td>\n",
              "      <td>False</td>\n",
              "      <td>...</td>\n",
              "      <td>False</td>\n",
              "      <td>False</td>\n",
              "      <td>False</td>\n",
              "      <td>False</td>\n",
              "      <td>False</td>\n",
              "      <td>False</td>\n",
              "      <td>False</td>\n",
              "      <td>False</td>\n",
              "      <td>False</td>\n",
              "      <td>False</td>\n",
              "    </tr>\n",
              "    <tr>\n",
              "      <th>29999</th>\n",
              "      <td>False</td>\n",
              "      <td>False</td>\n",
              "      <td>False</td>\n",
              "      <td>False</td>\n",
              "      <td>False</td>\n",
              "      <td>False</td>\n",
              "      <td>False</td>\n",
              "      <td>False</td>\n",
              "      <td>False</td>\n",
              "      <td>False</td>\n",
              "      <td>...</td>\n",
              "      <td>False</td>\n",
              "      <td>False</td>\n",
              "      <td>False</td>\n",
              "      <td>False</td>\n",
              "      <td>False</td>\n",
              "      <td>False</td>\n",
              "      <td>False</td>\n",
              "      <td>False</td>\n",
              "      <td>False</td>\n",
              "      <td>False</td>\n",
              "    </tr>\n",
              "  </tbody>\n",
              "</table>\n",
              "<p>30000 rows × 25 columns</p>\n",
              "</div>\n",
              "      <button class=\"colab-df-convert\" onclick=\"convertToInteractive('df-906f1f8d-d8c7-474e-8ecf-a29f668e48f2')\"\n",
              "              title=\"Convert this dataframe to an interactive table.\"\n",
              "              style=\"display:none;\">\n",
              "        \n",
              "  <svg xmlns=\"http://www.w3.org/2000/svg\" height=\"24px\"viewBox=\"0 0 24 24\"\n",
              "       width=\"24px\">\n",
              "    <path d=\"M0 0h24v24H0V0z\" fill=\"none\"/>\n",
              "    <path d=\"M18.56 5.44l.94 2.06.94-2.06 2.06-.94-2.06-.94-.94-2.06-.94 2.06-2.06.94zm-11 1L8.5 8.5l.94-2.06 2.06-.94-2.06-.94L8.5 2.5l-.94 2.06-2.06.94zm10 10l.94 2.06.94-2.06 2.06-.94-2.06-.94-.94-2.06-.94 2.06-2.06.94z\"/><path d=\"M17.41 7.96l-1.37-1.37c-.4-.4-.92-.59-1.43-.59-.52 0-1.04.2-1.43.59L10.3 9.45l-7.72 7.72c-.78.78-.78 2.05 0 2.83L4 21.41c.39.39.9.59 1.41.59.51 0 1.02-.2 1.41-.59l7.78-7.78 2.81-2.81c.8-.78.8-2.07 0-2.86zM5.41 20L4 18.59l7.72-7.72 1.47 1.35L5.41 20z\"/>\n",
              "  </svg>\n",
              "      </button>\n",
              "      \n",
              "  <style>\n",
              "    .colab-df-container {\n",
              "      display:flex;\n",
              "      flex-wrap:wrap;\n",
              "      gap: 12px;\n",
              "    }\n",
              "\n",
              "    .colab-df-convert {\n",
              "      background-color: #E8F0FE;\n",
              "      border: none;\n",
              "      border-radius: 50%;\n",
              "      cursor: pointer;\n",
              "      display: none;\n",
              "      fill: #1967D2;\n",
              "      height: 32px;\n",
              "      padding: 0 0 0 0;\n",
              "      width: 32px;\n",
              "    }\n",
              "\n",
              "    .colab-df-convert:hover {\n",
              "      background-color: #E2EBFA;\n",
              "      box-shadow: 0px 1px 2px rgba(60, 64, 67, 0.3), 0px 1px 3px 1px rgba(60, 64, 67, 0.15);\n",
              "      fill: #174EA6;\n",
              "    }\n",
              "\n",
              "    [theme=dark] .colab-df-convert {\n",
              "      background-color: #3B4455;\n",
              "      fill: #D2E3FC;\n",
              "    }\n",
              "\n",
              "    [theme=dark] .colab-df-convert:hover {\n",
              "      background-color: #434B5C;\n",
              "      box-shadow: 0px 1px 3px 1px rgba(0, 0, 0, 0.15);\n",
              "      filter: drop-shadow(0px 1px 2px rgba(0, 0, 0, 0.3));\n",
              "      fill: #FFFFFF;\n",
              "    }\n",
              "  </style>\n",
              "\n",
              "      <script>\n",
              "        const buttonEl =\n",
              "          document.querySelector('#df-906f1f8d-d8c7-474e-8ecf-a29f668e48f2 button.colab-df-convert');\n",
              "        buttonEl.style.display =\n",
              "          google.colab.kernel.accessAllowed ? 'block' : 'none';\n",
              "\n",
              "        async function convertToInteractive(key) {\n",
              "          const element = document.querySelector('#df-906f1f8d-d8c7-474e-8ecf-a29f668e48f2');\n",
              "          const dataTable =\n",
              "            await google.colab.kernel.invokeFunction('convertToInteractive',\n",
              "                                                     [key], {});\n",
              "          if (!dataTable) return;\n",
              "\n",
              "          const docLinkHtml = 'Like what you see? Visit the ' +\n",
              "            '<a target=\"_blank\" href=https://colab.research.google.com/notebooks/data_table.ipynb>data table notebook</a>'\n",
              "            + ' to learn more about interactive tables.';\n",
              "          element.innerHTML = '';\n",
              "          dataTable['output_type'] = 'display_data';\n",
              "          await google.colab.output.renderOutput(dataTable, element);\n",
              "          const docLink = document.createElement('div');\n",
              "          docLink.innerHTML = docLinkHtml;\n",
              "          element.appendChild(docLink);\n",
              "        }\n",
              "      </script>\n",
              "    </div>\n",
              "  </div>\n",
              "  "
            ]
          },
          "metadata": {},
          "execution_count": 8
        }
      ]
    },
    {
      "cell_type": "code",
      "source": [
        "### Iteración por columna para conocer el total de missing values\n",
        "for i in df.columns: \n",
        "  print('Columna ' + str(i) + ' tiene ' +  str(df[i].isna().sum()) +' valores nulos, que representa ' + str(round((df[i].isna().sum()/df[i].count())*100,2)) +'% del total' )"
      ],
      "metadata": {
        "colab": {
          "base_uri": "https://localhost:8080/"
        },
        "id": "EeYl-iJOcSfd",
        "outputId": "2e1fa243-764a-4913-c066-d6d4d4290938"
      },
      "execution_count": null,
      "outputs": [
        {
          "output_type": "stream",
          "name": "stdout",
          "text": [
            "Columna ID tiene 0 valores nulos, que representa 0.0% del total\n",
            "Columna X1 tiene 0 valores nulos, que representa 0.0% del total\n",
            "Columna X2 tiene 1 valores nulos, que representa 0.0% del total\n",
            "Columna X3 tiene 2 valores nulos, que representa 0.01% del total\n",
            "Columna X4 tiene 2 valores nulos, que representa 0.01% del total\n",
            "Columna X5 tiene 5 valores nulos, que representa 0.02% del total\n",
            "Columna X6 tiene 3 valores nulos, que representa 0.01% del total\n",
            "Columna X7 tiene 5 valores nulos, que representa 0.02% del total\n",
            "Columna X8 tiene 7 valores nulos, que representa 0.02% del total\n",
            "Columna X9 tiene 9 valores nulos, que representa 0.03% del total\n",
            "Columna X10 tiene 16 valores nulos, que representa 0.05% del total\n",
            "Columna X11 tiene 14 valores nulos, que representa 0.05% del total\n",
            "Columna X12 tiene 11 valores nulos, que representa 0.04% del total\n",
            "Columna X13 tiene 11 valores nulos, que representa 0.04% del total\n",
            "Columna X14 tiene 13 valores nulos, que representa 0.04% del total\n",
            "Columna X15 tiene 15 valores nulos, que representa 0.05% del total\n",
            "Columna X16 tiene 17 valores nulos, que representa 0.06% del total\n",
            "Columna X17 tiene 10 valores nulos, que representa 0.03% del total\n",
            "Columna X18 tiene 8 valores nulos, que representa 0.03% del total\n",
            "Columna X19 tiene 9 valores nulos, que representa 0.03% del total\n",
            "Columna X20 tiene 8 valores nulos, que representa 0.03% del total\n",
            "Columna X21 tiene 11 valores nulos, que representa 0.04% del total\n",
            "Columna X22 tiene 11 valores nulos, que representa 0.04% del total\n",
            "Columna X23 tiene 5 valores nulos, que representa 0.02% del total\n",
            "Columna Y tiene 3 valores nulos, que representa 0.01% del total\n"
          ]
        }
      ]
    },
    {
      "cell_type": "markdown",
      "source": [
        "## Ejercicio 3"
      ],
      "metadata": {
        "id": "V11AwB1ZcfLQ"
      }
    },
    {
      "cell_type": "markdown",
      "source": [
        "Limpia los datos eliminando los registros nulos o rellena con la media de la columna"
      ],
      "metadata": {
        "id": "ScyXxRx9c-1B"
      }
    },
    {
      "cell_type": "markdown",
      "source": [
        "Con lo observado en el ejercicio 2 (Missing Values por columna), dónde se muestra que el máximo de Missing Values en una variable es 0.06% de los registros, se decide eliminar todos los registros con missing values (valores nulos) ya que solo se elimina el 0.06% de la información (o 17 registros de 30,000) eliminando el ruido que estos puedan causar si imputamos algún valor con los métodos de asignación conocido (media, mediana, moda, regresión, etc) "
      ],
      "metadata": {
        "id": "hPaGr_LxdByv"
      }
    },
    {
      "cell_type": "code",
      "source": [
        "df.dropna(inplace=True)"
      ],
      "metadata": {
        "id": "CAf0NmLkeJj3"
      },
      "execution_count": null,
      "outputs": []
    },
    {
      "cell_type": "markdown",
      "source": [
        "## Ejercicio 4"
      ],
      "metadata": {
        "id": "iqib81B1eSmM"
      }
    },
    {
      "cell_type": "markdown",
      "source": [
        "Calcula la estadística descriptiva con describe() y explica las medidas de tendencia central y dispersión"
      ],
      "metadata": {
        "id": "80SEWHK9eaHy"
      }
    },
    {
      "cell_type": "code",
      "source": [
        "with pd.option_context('display.max_columns', 40):  ## Necesario para visualizar cada columna\n",
        "    print(df.describe(include='all'))"
      ],
      "metadata": {
        "colab": {
          "base_uri": "https://localhost:8080/"
        },
        "id": "e2LTQSU5eccW",
        "outputId": "1b1e299f-61d4-484b-888f-f4c2d7b4b4eb"
      },
      "execution_count": null,
      "outputs": [
        {
          "output_type": "stream",
          "name": "stdout",
          "text": [
            "                 ID              X1            X2            X3            X4  \\\n",
            "count  29958.000000    29958.000000  29958.000000  29958.000000  29958.000000   \n",
            "mean   15005.550504   167555.900928      1.604012      1.853094      1.551739   \n",
            "std     8654.547473   129737.299088      0.489070      0.790471      0.521952   \n",
            "min        1.000000    10000.000000      1.000000      0.000000      0.000000   \n",
            "25%     7516.250000    50000.000000      1.000000      1.000000      1.000000   \n",
            "50%    15005.500000   140000.000000      2.000000      2.000000      2.000000   \n",
            "75%    22497.750000   240000.000000      2.000000      2.000000      2.000000   \n",
            "max    30000.000000  1000000.000000      2.000000      6.000000      3.000000   \n",
            "\n",
            "                 X5            X6            X7            X8            X9  \\\n",
            "count  29958.000000  29958.000000  29958.000000  29958.000000  29958.000000   \n",
            "mean      35.483443     -0.017124     -0.134021     -0.166767     -0.221110   \n",
            "std        9.214319      1.123989      1.197171      1.196026      1.168419   \n",
            "min       21.000000     -2.000000     -2.000000     -2.000000     -2.000000   \n",
            "25%       28.000000     -1.000000     -1.000000     -1.000000     -1.000000   \n",
            "50%       34.000000      0.000000      0.000000      0.000000      0.000000   \n",
            "75%       41.000000      0.000000      0.000000      0.000000      0.000000   \n",
            "max       79.000000      8.000000      8.000000      8.000000      8.000000   \n",
            "\n",
            "                X10           X11            X12            X13           X14  \\\n",
            "count  29958.000000  29958.000000   29958.000000   29958.000000  2.995800e+04   \n",
            "mean      -0.266807     -0.291575   51248.119901   49200.493825  4.703239e+04   \n",
            "std        1.132307      1.149303   73674.949943   71211.232744  6.938524e+04   \n",
            "min       -2.000000     -2.000000 -165580.000000  -69777.000000 -1.572640e+05   \n",
            "25%       -1.000000     -1.000000    3559.250000    2984.000000  2.664750e+03   \n",
            "50%        0.000000      0.000000   22379.000000   21194.500000  2.008550e+04   \n",
            "75%        0.000000      0.000000   67190.000000   64027.750000  6.018300e+04   \n",
            "max        8.000000      8.000000  964511.000000  983931.000000  1.664089e+06   \n",
            "\n",
            "                 X15            X16            X17            X18  \\\n",
            "count   29958.000000   29958.000000   29958.000000   29958.000000   \n",
            "mean    43279.335370   40328.984578   38889.925763    5664.614460   \n",
            "std     64364.684347   60826.219326   59582.883301   16568.823518   \n",
            "min   -170000.000000  -81334.000000 -339603.000000       0.000000   \n",
            "25%      2327.500000    1762.250000    1256.000000    1000.000000   \n",
            "50%     19037.500000   18104.500000   17067.500000    2100.000000   \n",
            "75%     54551.250000   50220.750000   49234.750000    5007.000000   \n",
            "max    891586.000000  927171.000000  961664.000000  873552.000000   \n",
            "\n",
            "                X19            X20            X21            X22  \\\n",
            "count  2.995800e+04   29958.000000   29958.000000   29958.000000   \n",
            "mean   5.925715e+03    5228.429969    4829.873556    4801.481574   \n",
            "std    2.305598e+04   17617.338167   15676.205514   15285.552652   \n",
            "min    0.000000e+00       0.000000       0.000000       0.000000   \n",
            "25%    8.352500e+02     390.000000     296.250000     253.250000   \n",
            "50%    2.009000e+03    1800.000000    1500.000000    1500.000000   \n",
            "75%    5.000000e+03    4511.500000    4014.750000    4040.000000   \n",
            "max    1.684259e+06  896040.000000  621000.000000  426529.000000   \n",
            "\n",
            "                 X23             Y  \n",
            "count   29958.000000  29958.000000  \n",
            "mean     5220.708025      0.221143  \n",
            "std     17788.983767      0.415023  \n",
            "min         0.000000      0.000000  \n",
            "25%       118.000000      0.000000  \n",
            "50%      1500.000000      0.000000  \n",
            "75%      4000.000000      0.000000  \n",
            "max    528666.000000      1.000000  \n"
          ]
        }
      ]
    },
    {
      "cell_type": "markdown",
      "source": [
        "Explicación medidas de tendencia central: \n",
        "\n",
        "\n",
        "\n",
        "1.   **ID** - identificador: No aplica\n",
        "2.   **X1 - CreditAmount**: La mediana está en 14,000 dólares. El 75% de la población se acumula por debajo de los 240,000 dólares, con un mínimo de 10,000 dólares y un máximo de 1,000,000 dólares. \n",
        "3.   **x2 - Gender**: No es la mejor forma de analizarla al ser una variable categórica, pero al tener un valor en la media de 1.60 podemos observar que hay una ligera mayoría de mujeres (valor =2) que de hombres (valor=1)\n",
        "4.   **x3 - Education**: Variable categórica, la información brindada por el método describe() no es la mejor para analizarla. Sin embargo observamos que al menos el 25% tiene Graduate School (valor = 1) al tener el mínimo y el acumulado en 25% en valor 1. Por otro lado, observamos que existen categorías no definidas como es el caso del valor número 6. \n",
        "5.   **x4 - MaritalStatus**:  Variable categórica, la información brindada por el método describe() no es la mejor para analizarla. Pero se puede ver que en el mínimo toma el valor de cero (0) que es una categoría no definida.\n",
        "6.   **x5 - Age**: El registro con menos edad es de 21 años, y el de mayor edad es de 79. El 50% de la población se acumula por debajo de los 34 años, con una media muy similar en 35. El 75% de la población se acumula por debajo de los 41 años. \n",
        "7.   **x6 - Status_Sep**: Se observa que a septiembre el 75% de la población está al corriente de sus pagos, sin embargo se observa una fuerte presencia del valor 0 y valor -2 en los datos (categorías que no son definidas en la descripción. El máximo atraso observado es de 8 meses.\n",
        "8.   **x7 - Status_Ago**. Se observa que a Agosto el 75% de la población está al corriente de sus pagos, sin embargo se observa una fuerte presencia del valor 0 y valor -2 en los datos (categorías que no son definidas en la descripción. El máximo atraso observado es de 8 meses.\n",
        "9.   **x8 - Status_Jul**:Se observa que a Julio el 75% de la población está al corriente de sus pagos, sin embargo se observa una fuerte presencia del valor 0 y valor -2 en los datos (categorías que no son definidas en la descripción. El máximo atraso observado es de 8 meses.\n",
        "10.  **x9 - Status_Jun**: Se observa que a Junio el 75% de la población está al corriente de sus pagos, sin embargo se observa una fuerte presencia del valor 0 y valor -2 en los datos (categorías que no son definidas en la descripción. El máximo atraso observado es de 8 meses.\n",
        "11.  **x10 - Status_May**: Se observa que a Mayo el 75% de la población está al corriente de sus pagos, sin embargo se observa una fuerte presencia del valor 0 y valor -2 en los datos (categorías que no son definidas en la descripción. El máximo atraso observado es de 8 meses.\n",
        "12. **x11 - Status_Abr**: Se observa que a Abril el 75% de la población está al corriente de sus pagos, sin embargo se observa una fuerte presencia del valor 0 y valor -2 en los datos (categorías que no son definidas en la descripción. El máximo atraso observado es de 8 meses.\n",
        "13. **x12 - Saldo_Sep**: En Septiembre el saldo promedio es de 51,200 dólares, sin emabrgo el 50% de la población se acumula por debajo de 22,379, y el 75% por debajo de 67,190. El máximo observado son 964,511, y el mínimo en -165,580.\n",
        "14. **x13 - Saldo_Ago**: En Agosto el saldo promedio es de 49,200 dólares, sin emabrgo el 50% de la población se acumula por debajo de 21,194, y el 75% por debajo de 64,027. El máximo observado son 983,900, y el mínimo en -69,777.\n",
        "15. **x14 - Saldo_Jul**:En Julio el saldo promedio es de 47,000 dólares, sin emabrgo el 50% de la población se acumula por debajo de 20,000 , y el 75% por debajo de 60,000. \n",
        "16. **x15 - Saldo_Jun**:En Junio el saldo promedio es de 43,000 dólares, sin emabrgo el 50% de la población se acumula por debajo de 19,000 , y el 75% por debajo de 54,000. El máximo observado son 891,000, y el mínimo en -170,000.\n",
        "17. **x16 - Saldo_May**:En Mayo el saldo promedio es de 40,000 dólares, sin emabrgo el 50% de la población se acumula por debajo de 18,000 , y el 75% por debajo de 50,000. \n",
        "18. **x17 - Saldo_Abr**:En Abril el saldo promedio es de 39,000 dólares, sin emabrgo el 50% de la población se acumula por debajo de 17,000 , y el 75% por debajo de 49,000. El máximo observado son 961,000, y el mínimo en -339,000.\n",
        "19. **x18 - Pagos_Sep**:En Septiembre el promedio de lo pagado al mes anterior fue de 5,600 dólares, sin embargo la mediana se encuentra en 2,100.\n",
        "20. **x19 - Pagos_Ago**: En Agosto el promedio de lo pagado al mes anterior fue de 5,900 dólares , sin embargo la mediana se encuentra en 2,000.\n",
        "21. **x20 - Pagos_Jul**: En Julio el promedio de lo pagado al mes anterior fue de 5,200 dls, sin embargo la mediana se encuentra en 1,800 .\n",
        "22. **x21 - Pagos_Jun**: En Junio el promedio de lo pagado al mes anterior fue de 4,800 dls, sin embargo la mediana se encuentra en 1,500 .\n",
        "23. **x22 - Pagos_May**: En Mayo el promedio de lo pagado al mes anterior fue de 4,800 dls , sin embargo la mediana se encuentra en 1,500.\n",
        "24. **x23 - Pagos_Abr**: En Abril el promedio de lo pagado al mes anterior fue de 5,200 dls, sin embargo la mediana se encuentra en 1,500.\n",
        "25. **Y - Default**: El 22% de la población se encuentra en Default\n"
      ],
      "metadata": {
        "id": "9ShiEB8geevu"
      }
    },
    {
      "cell_type": "markdown",
      "source": [
        "## Ejercicio 5"
      ],
      "metadata": {
        "id": "cvm_wwVBkEAv"
      }
    },
    {
      "cell_type": "markdown",
      "source": [
        "Realiza el conteo de las variables categóricas"
      ],
      "metadata": {
        "id": "E6GN6wUFout0"
      }
    },
    {
      "cell_type": "markdown",
      "source": [
        "Variables categóricas: \n",
        "\n",
        "**x2 - Gender**\n",
        "\n",
        "**x3 - Education:**\n",
        "\n",
        "**x4 - MaritalStatus**\n",
        "\n",
        "**x6 - Status Sep, x7, x8, x9, x10, x11-  Status Abril** \n",
        "\n",
        "**Y Default**"
      ],
      "metadata": {
        "id": "hcExEDwQoveU"
      }
    },
    {
      "cell_type": "code",
      "source": [
        "df[['X2']].groupby('X2').size().sort_values(ascending=False) ### Conteo variable Gender"
      ],
      "metadata": {
        "colab": {
          "base_uri": "https://localhost:8080/"
        },
        "id": "aBsR3UJjo__m",
        "outputId": "f9e862a8-2223-432f-828b-d16fee898e5e"
      },
      "execution_count": null,
      "outputs": [
        {
          "output_type": "execute_result",
          "data": {
            "text/plain": [
              "X2\n",
              "2.0    18095\n",
              "1.0    11863\n",
              "dtype: int64"
            ]
          },
          "metadata": {},
          "execution_count": 12
        }
      ]
    },
    {
      "cell_type": "code",
      "source": [
        "df[['X3']].groupby('X3').size().sort_values(ascending=False) ### Conteo variable Education"
      ],
      "metadata": {
        "colab": {
          "base_uri": "https://localhost:8080/"
        },
        "id": "3pSDVkGapjAk",
        "outputId": "9eb6dd2a-d439-4f74-e34a-26ebf55c5fef"
      },
      "execution_count": null,
      "outputs": [
        {
          "output_type": "execute_result",
          "data": {
            "text/plain": [
              "X3\n",
              "2.0    14009\n",
              "1.0    10572\n",
              "3.0     4909\n",
              "5.0      280\n",
              "4.0      123\n",
              "6.0       51\n",
              "0.0       14\n",
              "dtype: int64"
            ]
          },
          "metadata": {},
          "execution_count": 13
        }
      ]
    },
    {
      "cell_type": "code",
      "source": [
        "df[['X4']].groupby('X4').size().sort_values(ascending=False) ### Conteo variable Marital Status"
      ],
      "metadata": {
        "colab": {
          "base_uri": "https://localhost:8080/"
        },
        "id": "-ug4r0zJplEq",
        "outputId": "796ded6f-0032-44be-f474-f9aa1a27d658"
      },
      "execution_count": null,
      "outputs": [
        {
          "output_type": "execute_result",
          "data": {
            "text/plain": [
              "X4\n",
              "2.0    15939\n",
              "1.0    13643\n",
              "3.0      322\n",
              "0.0       54\n",
              "dtype: int64"
            ]
          },
          "metadata": {},
          "execution_count": 14
        }
      ]
    },
    {
      "cell_type": "code",
      "source": [
        "df[['X6']].groupby('X6').size().sort_values(ascending=False) ### Conteo variable Status Sep"
      ],
      "metadata": {
        "colab": {
          "base_uri": "https://localhost:8080/"
        },
        "id": "n-n694NIpl4K",
        "outputId": "af273b78-557f-4b7e-a436-c6af2485500b"
      },
      "execution_count": null,
      "outputs": [
        {
          "output_type": "execute_result",
          "data": {
            "text/plain": [
              "X6\n",
              " 0.0    14717\n",
              "-1.0     5680\n",
              " 1.0     3678\n",
              "-2.0     2758\n",
              " 2.0     2662\n",
              " 3.0      322\n",
              " 4.0       76\n",
              " 5.0       26\n",
              " 8.0       19\n",
              " 6.0       11\n",
              " 7.0        9\n",
              "dtype: int64"
            ]
          },
          "metadata": {},
          "execution_count": 15
        }
      ]
    },
    {
      "cell_type": "code",
      "source": [
        "df[['X7']].groupby('X7').size().sort_values(ascending=False) ### Conteo variable Status Ago"
      ],
      "metadata": {
        "colab": {
          "base_uri": "https://localhost:8080/"
        },
        "id": "1PS3WcappnC6",
        "outputId": "a0d0cea6-4ae3-43d5-a52d-5f023779cbd2"
      },
      "execution_count": null,
      "outputs": [
        {
          "output_type": "execute_result",
          "data": {
            "text/plain": [
              "X7\n",
              " 0.0    15709\n",
              "-1.0     6042\n",
              " 2.0     3918\n",
              "-2.0     3778\n",
              " 3.0      326\n",
              " 4.0       99\n",
              " 1.0       28\n",
              " 5.0       25\n",
              " 7.0       20\n",
              " 6.0       12\n",
              " 8.0        1\n",
              "dtype: int64"
            ]
          },
          "metadata": {},
          "execution_count": 16
        }
      ]
    },
    {
      "cell_type": "code",
      "source": [
        "df[['X8']].groupby('X8').size().sort_values(ascending=False) ### Conteo variable Status Jul"
      ],
      "metadata": {
        "colab": {
          "base_uri": "https://localhost:8080/"
        },
        "id": "0IASg89vpndW",
        "outputId": "5f384381-fae6-416b-923e-e7b5a6d11b4e"
      },
      "execution_count": null,
      "outputs": [
        {
          "output_type": "execute_result",
          "data": {
            "text/plain": [
              "X8\n",
              " 0.0    15742\n",
              "-1.0     5930\n",
              "-2.0     4082\n",
              " 2.0     3811\n",
              " 3.0      240\n",
              " 4.0       76\n",
              " 7.0       27\n",
              " 6.0       23\n",
              " 5.0       21\n",
              " 1.0        4\n",
              " 8.0        2\n",
              "dtype: int64"
            ]
          },
          "metadata": {},
          "execution_count": 17
        }
      ]
    },
    {
      "cell_type": "code",
      "source": [
        "df[['X9']].groupby('X9').size().sort_values(ascending=False) ### Conteo variable Status Jun "
      ],
      "metadata": {
        "colab": {
          "base_uri": "https://localhost:8080/"
        },
        "id": "ho1uX54WpoBz",
        "outputId": "480b645e-49eb-4439-b718-d2b33ab5d6a1"
      },
      "execution_count": null,
      "outputs": [
        {
          "output_type": "execute_result",
          "data": {
            "text/plain": [
              "X9\n",
              " 0.0    16431\n",
              "-1.0     5681\n",
              "-2.0     4343\n",
              " 2.0     3154\n",
              " 3.0      179\n",
              " 4.0       69\n",
              " 7.0       57\n",
              " 5.0       35\n",
              " 6.0        5\n",
              " 1.0        2\n",
              " 8.0        2\n",
              "dtype: int64"
            ]
          },
          "metadata": {},
          "execution_count": 18
        }
      ]
    },
    {
      "cell_type": "code",
      "source": [
        "df[['X10']].groupby('X10').size().sort_values(ascending=False) ### Conteo variable Status May"
      ],
      "metadata": {
        "colab": {
          "base_uri": "https://localhost:8080/"
        },
        "id": "OLmMaPzwpoX1",
        "outputId": "db8c8f48-13f5-4d10-f948-09d8e95954f9"
      },
      "execution_count": null,
      "outputs": [
        {
          "output_type": "execute_result",
          "data": {
            "text/plain": [
              "X10\n",
              " 0.0    16925\n",
              "-1.0     5533\n",
              "-2.0     4541\n",
              " 2.0     2618\n",
              " 3.0      178\n",
              " 4.0       84\n",
              " 7.0       57\n",
              " 5.0       17\n",
              " 6.0        4\n",
              " 8.0        1\n",
              "dtype: int64"
            ]
          },
          "metadata": {},
          "execution_count": 19
        }
      ]
    },
    {
      "cell_type": "code",
      "source": [
        "df[['X11']].groupby('X11').size().sort_values(ascending=False) ### Conteo variable Status Abr"
      ],
      "metadata": {
        "colab": {
          "base_uri": "https://localhost:8080/"
        },
        "id": "rXNb_Q4Ppo0i",
        "outputId": "9fe1b5df-418e-43b7-a660-5cfa2ea044bd"
      },
      "execution_count": null,
      "outputs": [
        {
          "output_type": "execute_result",
          "data": {
            "text/plain": [
              "X11\n",
              " 0.0    16266\n",
              "-1.0     5731\n",
              "-2.0     4890\n",
              " 2.0     2760\n",
              " 3.0      183\n",
              " 4.0       49\n",
              " 7.0       46\n",
              " 6.0       18\n",
              " 5.0       13\n",
              " 8.0        2\n",
              "dtype: int64"
            ]
          },
          "metadata": {},
          "execution_count": 20
        }
      ]
    },
    {
      "cell_type": "code",
      "source": [
        "df[['Y']].groupby('Y').size().sort_values(ascending=False) ### Conteo variable Default Variable"
      ],
      "metadata": {
        "colab": {
          "base_uri": "https://localhost:8080/"
        },
        "id": "IwvIPqf8ppVK",
        "outputId": "288484f5-d612-4095-c414-94d1724aaf9c"
      },
      "execution_count": null,
      "outputs": [
        {
          "output_type": "execute_result",
          "data": {
            "text/plain": [
              "Y\n",
              "0.0    23333\n",
              "1.0     6625\n",
              "dtype: int64"
            ]
          },
          "metadata": {},
          "execution_count": 21
        }
      ]
    },
    {
      "cell_type": "markdown",
      "source": [
        "## Ejercicio 6"
      ],
      "metadata": {
        "id": "yCDMcT64qMJA"
      }
    },
    {
      "cell_type": "markdown",
      "source": [
        "Escala los datos, si consideras necesario"
      ],
      "metadata": {
        "id": "_aUNy-jxqcG6"
      }
    },
    {
      "cell_type": "markdown",
      "source": [
        "Se decide escalar los datos de las variables numéricas para tener todas las variables en la misma escala, y no generar ruido por diferencias en dimensiones. \n",
        "Por otro lado, es importante escalar para los puntos siguientes, donde se realizará PCA"
      ],
      "metadata": {
        "id": "moCeRUsMqd2E"
      }
    },
    {
      "cell_type": "markdown",
      "source": [
        "Primero Re nombramos variables:"
      ],
      "metadata": {
        "id": "cdgcro_8rBQ1"
      }
    },
    {
      "cell_type": "code",
      "source": [
        "df.columns = ['ID','CreditAmount','Gender','Education','MaritalStatus','Age','Status_Sep','Status_Ago','Status_Jul','Status_Jun','Status_May','Status_Abr','Saldo_Sep','Saldo_Ago','Saldo_Jul','Saldo_Jun','Saldo_May','Saldo_Abr','Pagos_Sep','Pagos_Ago','Pagos_Jul','Pagos_Jun','Pagos_May','Pagos_Abr','Y']"
      ],
      "metadata": {
        "id": "llCwSyiyrNWA"
      },
      "execution_count": null,
      "outputs": []
    },
    {
      "cell_type": "markdown",
      "source": [
        "Tomamos sólo las variables numéricas"
      ],
      "metadata": {
        "id": "GxOLmdfnrVO_"
      }
    },
    {
      "cell_type": "code",
      "source": [
        "n_df = df.drop(columns=['ID','Y','Gender','Education','MaritalStatus', 'Status_Sep', 'Status_Ago', 'Status_Jul', 'Status_Jun', 'Status_May', 'Status_Abr'])"
      ],
      "metadata": {
        "id": "RNaPIQPprPtI"
      },
      "execution_count": null,
      "outputs": []
    },
    {
      "cell_type": "code",
      "source": [
        "## Librería necesaria\n",
        "from sklearn import preprocessing"
      ],
      "metadata": {
        "id": "o5gkE2Y9qtJj"
      },
      "execution_count": null,
      "outputs": []
    },
    {
      "cell_type": "markdown",
      "source": [
        "Escalamos los datos con estandarización normal con media 0 y desviación estándar en 0"
      ],
      "metadata": {
        "id": "g7aoM9R1rxWT"
      }
    },
    {
      "cell_type": "code",
      "source": [
        "sc_n_df = preprocessing.scale(n_df) ## Estandarizamos las variables para tenerlos en las mismas unidades, y centramos en la media\n",
        "sc_n_df = pd.DataFrame(sc_n_df, columns = n_df.columns)"
      ],
      "metadata": {
        "id": "6oDSWAn9q3N1"
      },
      "execution_count": null,
      "outputs": []
    },
    {
      "cell_type": "code",
      "source": [
        "columnas_n_df = sc_n_df.columns # esta lista de columans la utilizaremos más adelante para mostrar los resultados del PCA"
      ],
      "metadata": {
        "id": "dy3ABZk0q7yE"
      },
      "execution_count": null,
      "outputs": []
    },
    {
      "cell_type": "code",
      "source": [
        "sc_n_df.head()"
      ],
      "metadata": {
        "colab": {
          "base_uri": "https://localhost:8080/",
          "height": 206
        },
        "id": "edEJDMOQrkgL",
        "outputId": "2142fbbd-3da0-4a13-b407-55a250be3421"
      },
      "execution_count": null,
      "outputs": [
        {
          "output_type": "execute_result",
          "data": {
            "text/plain": [
              "   CreditAmount       Age  Saldo_Sep  Saldo_Ago  Saldo_Jul  Saldo_Jun  \\\n",
              "0     -1.137363 -1.246282  -0.642497  -0.647359  -0.667925  -0.672419   \n",
              "1     -0.366561 -1.029224  -0.659205  -0.666697  -0.639201  -0.621583   \n",
              "2     -0.597802 -0.160996  -0.298738  -0.493940  -0.482436  -0.449762   \n",
              "3     -0.906122  0.164590  -0.057797  -0.013586   0.032552  -0.232512   \n",
              "4     -0.906122  2.335161  -0.578648  -0.611297  -0.161383  -0.347080   \n",
              "\n",
              "   Saldo_May  Saldo_Abr  Pagos_Sep  Pagos_Ago  Pagos_Jul  Pagos_Jun  \\\n",
              "0  -0.663031  -0.652714  -0.341890  -0.227134  -0.296782  -0.308107   \n",
              "1  -0.606229  -0.597982  -0.341890  -0.213645  -0.240019  -0.244315   \n",
              "2  -0.417277  -0.391745  -0.250270  -0.191958  -0.240019  -0.244315   \n",
              "3  -0.186929  -0.156808  -0.221179  -0.169448  -0.228667  -0.237936   \n",
              "4  -0.348260  -0.331626  -0.221179   1.333962   0.270850   0.266021   \n",
              "\n",
              "   Pagos_May  Pagos_Abr  \n",
              "0  -0.314124  -0.293485  \n",
              "1  -0.314124  -0.181054  \n",
              "2  -0.248702  -0.012407  \n",
              "3  -0.244188  -0.237269  \n",
              "4  -0.269048  -0.255314  "
            ],
            "text/html": [
              "\n",
              "  <div id=\"df-90cf7a9b-2370-40aa-bd9b-d39d060e525f\">\n",
              "    <div class=\"colab-df-container\">\n",
              "      <div>\n",
              "<style scoped>\n",
              "    .dataframe tbody tr th:only-of-type {\n",
              "        vertical-align: middle;\n",
              "    }\n",
              "\n",
              "    .dataframe tbody tr th {\n",
              "        vertical-align: top;\n",
              "    }\n",
              "\n",
              "    .dataframe thead th {\n",
              "        text-align: right;\n",
              "    }\n",
              "</style>\n",
              "<table border=\"1\" class=\"dataframe\">\n",
              "  <thead>\n",
              "    <tr style=\"text-align: right;\">\n",
              "      <th></th>\n",
              "      <th>CreditAmount</th>\n",
              "      <th>Age</th>\n",
              "      <th>Saldo_Sep</th>\n",
              "      <th>Saldo_Ago</th>\n",
              "      <th>Saldo_Jul</th>\n",
              "      <th>Saldo_Jun</th>\n",
              "      <th>Saldo_May</th>\n",
              "      <th>Saldo_Abr</th>\n",
              "      <th>Pagos_Sep</th>\n",
              "      <th>Pagos_Ago</th>\n",
              "      <th>Pagos_Jul</th>\n",
              "      <th>Pagos_Jun</th>\n",
              "      <th>Pagos_May</th>\n",
              "      <th>Pagos_Abr</th>\n",
              "    </tr>\n",
              "  </thead>\n",
              "  <tbody>\n",
              "    <tr>\n",
              "      <th>0</th>\n",
              "      <td>-1.137363</td>\n",
              "      <td>-1.246282</td>\n",
              "      <td>-0.642497</td>\n",
              "      <td>-0.647359</td>\n",
              "      <td>-0.667925</td>\n",
              "      <td>-0.672419</td>\n",
              "      <td>-0.663031</td>\n",
              "      <td>-0.652714</td>\n",
              "      <td>-0.341890</td>\n",
              "      <td>-0.227134</td>\n",
              "      <td>-0.296782</td>\n",
              "      <td>-0.308107</td>\n",
              "      <td>-0.314124</td>\n",
              "      <td>-0.293485</td>\n",
              "    </tr>\n",
              "    <tr>\n",
              "      <th>1</th>\n",
              "      <td>-0.366561</td>\n",
              "      <td>-1.029224</td>\n",
              "      <td>-0.659205</td>\n",
              "      <td>-0.666697</td>\n",
              "      <td>-0.639201</td>\n",
              "      <td>-0.621583</td>\n",
              "      <td>-0.606229</td>\n",
              "      <td>-0.597982</td>\n",
              "      <td>-0.341890</td>\n",
              "      <td>-0.213645</td>\n",
              "      <td>-0.240019</td>\n",
              "      <td>-0.244315</td>\n",
              "      <td>-0.314124</td>\n",
              "      <td>-0.181054</td>\n",
              "    </tr>\n",
              "    <tr>\n",
              "      <th>2</th>\n",
              "      <td>-0.597802</td>\n",
              "      <td>-0.160996</td>\n",
              "      <td>-0.298738</td>\n",
              "      <td>-0.493940</td>\n",
              "      <td>-0.482436</td>\n",
              "      <td>-0.449762</td>\n",
              "      <td>-0.417277</td>\n",
              "      <td>-0.391745</td>\n",
              "      <td>-0.250270</td>\n",
              "      <td>-0.191958</td>\n",
              "      <td>-0.240019</td>\n",
              "      <td>-0.244315</td>\n",
              "      <td>-0.248702</td>\n",
              "      <td>-0.012407</td>\n",
              "    </tr>\n",
              "    <tr>\n",
              "      <th>3</th>\n",
              "      <td>-0.906122</td>\n",
              "      <td>0.164590</td>\n",
              "      <td>-0.057797</td>\n",
              "      <td>-0.013586</td>\n",
              "      <td>0.032552</td>\n",
              "      <td>-0.232512</td>\n",
              "      <td>-0.186929</td>\n",
              "      <td>-0.156808</td>\n",
              "      <td>-0.221179</td>\n",
              "      <td>-0.169448</td>\n",
              "      <td>-0.228667</td>\n",
              "      <td>-0.237936</td>\n",
              "      <td>-0.244188</td>\n",
              "      <td>-0.237269</td>\n",
              "    </tr>\n",
              "    <tr>\n",
              "      <th>4</th>\n",
              "      <td>-0.906122</td>\n",
              "      <td>2.335161</td>\n",
              "      <td>-0.578648</td>\n",
              "      <td>-0.611297</td>\n",
              "      <td>-0.161383</td>\n",
              "      <td>-0.347080</td>\n",
              "      <td>-0.348260</td>\n",
              "      <td>-0.331626</td>\n",
              "      <td>-0.221179</td>\n",
              "      <td>1.333962</td>\n",
              "      <td>0.270850</td>\n",
              "      <td>0.266021</td>\n",
              "      <td>-0.269048</td>\n",
              "      <td>-0.255314</td>\n",
              "    </tr>\n",
              "  </tbody>\n",
              "</table>\n",
              "</div>\n",
              "      <button class=\"colab-df-convert\" onclick=\"convertToInteractive('df-90cf7a9b-2370-40aa-bd9b-d39d060e525f')\"\n",
              "              title=\"Convert this dataframe to an interactive table.\"\n",
              "              style=\"display:none;\">\n",
              "        \n",
              "  <svg xmlns=\"http://www.w3.org/2000/svg\" height=\"24px\"viewBox=\"0 0 24 24\"\n",
              "       width=\"24px\">\n",
              "    <path d=\"M0 0h24v24H0V0z\" fill=\"none\"/>\n",
              "    <path d=\"M18.56 5.44l.94 2.06.94-2.06 2.06-.94-2.06-.94-.94-2.06-.94 2.06-2.06.94zm-11 1L8.5 8.5l.94-2.06 2.06-.94-2.06-.94L8.5 2.5l-.94 2.06-2.06.94zm10 10l.94 2.06.94-2.06 2.06-.94-2.06-.94-.94-2.06-.94 2.06-2.06.94z\"/><path d=\"M17.41 7.96l-1.37-1.37c-.4-.4-.92-.59-1.43-.59-.52 0-1.04.2-1.43.59L10.3 9.45l-7.72 7.72c-.78.78-.78 2.05 0 2.83L4 21.41c.39.39.9.59 1.41.59.51 0 1.02-.2 1.41-.59l7.78-7.78 2.81-2.81c.8-.78.8-2.07 0-2.86zM5.41 20L4 18.59l7.72-7.72 1.47 1.35L5.41 20z\"/>\n",
              "  </svg>\n",
              "      </button>\n",
              "      \n",
              "  <style>\n",
              "    .colab-df-container {\n",
              "      display:flex;\n",
              "      flex-wrap:wrap;\n",
              "      gap: 12px;\n",
              "    }\n",
              "\n",
              "    .colab-df-convert {\n",
              "      background-color: #E8F0FE;\n",
              "      border: none;\n",
              "      border-radius: 50%;\n",
              "      cursor: pointer;\n",
              "      display: none;\n",
              "      fill: #1967D2;\n",
              "      height: 32px;\n",
              "      padding: 0 0 0 0;\n",
              "      width: 32px;\n",
              "    }\n",
              "\n",
              "    .colab-df-convert:hover {\n",
              "      background-color: #E2EBFA;\n",
              "      box-shadow: 0px 1px 2px rgba(60, 64, 67, 0.3), 0px 1px 3px 1px rgba(60, 64, 67, 0.15);\n",
              "      fill: #174EA6;\n",
              "    }\n",
              "\n",
              "    [theme=dark] .colab-df-convert {\n",
              "      background-color: #3B4455;\n",
              "      fill: #D2E3FC;\n",
              "    }\n",
              "\n",
              "    [theme=dark] .colab-df-convert:hover {\n",
              "      background-color: #434B5C;\n",
              "      box-shadow: 0px 1px 3px 1px rgba(0, 0, 0, 0.15);\n",
              "      filter: drop-shadow(0px 1px 2px rgba(0, 0, 0, 0.3));\n",
              "      fill: #FFFFFF;\n",
              "    }\n",
              "  </style>\n",
              "\n",
              "      <script>\n",
              "        const buttonEl =\n",
              "          document.querySelector('#df-90cf7a9b-2370-40aa-bd9b-d39d060e525f button.colab-df-convert');\n",
              "        buttonEl.style.display =\n",
              "          google.colab.kernel.accessAllowed ? 'block' : 'none';\n",
              "\n",
              "        async function convertToInteractive(key) {\n",
              "          const element = document.querySelector('#df-90cf7a9b-2370-40aa-bd9b-d39d060e525f');\n",
              "          const dataTable =\n",
              "            await google.colab.kernel.invokeFunction('convertToInteractive',\n",
              "                                                     [key], {});\n",
              "          if (!dataTable) return;\n",
              "\n",
              "          const docLinkHtml = 'Like what you see? Visit the ' +\n",
              "            '<a target=\"_blank\" href=https://colab.research.google.com/notebooks/data_table.ipynb>data table notebook</a>'\n",
              "            + ' to learn more about interactive tables.';\n",
              "          element.innerHTML = '';\n",
              "          dataTable['output_type'] = 'display_data';\n",
              "          await google.colab.output.renderOutput(dataTable, element);\n",
              "          const docLink = document.createElement('div');\n",
              "          docLink.innerHTML = docLinkHtml;\n",
              "          element.appendChild(docLink);\n",
              "        }\n",
              "      </script>\n",
              "    </div>\n",
              "  </div>\n",
              "  "
            ]
          },
          "metadata": {},
          "execution_count": 27
        }
      ]
    },
    {
      "cell_type": "code",
      "source": [
        "sc_n_df.describe()"
      ],
      "metadata": {
        "colab": {
          "base_uri": "https://localhost:8080/",
          "height": 451
        },
        "id": "8WmW4jQerm30",
        "outputId": "f0c45c17-26a6-4f16-d452-7001e9ee25c8"
      },
      "execution_count": null,
      "outputs": [
        {
          "output_type": "execute_result",
          "data": {
            "text/plain": [
              "       CreditAmount           Age     Saldo_Sep     Saldo_Ago     Saldo_Jul  \\\n",
              "count  2.995800e+04  2.995800e+04  2.995800e+04  2.995800e+04  2.995800e+04   \n",
              "mean  -3.794874e-18 -2.201027e-16 -1.612821e-17  4.743593e-19  5.217952e-17   \n",
              "std    1.000017e+00  1.000017e+00  1.000017e+00  1.000017e+00  1.000017e+00   \n",
              "min   -1.214443e+00 -1.571867e+00 -2.943086e+00 -1.670797e+00 -2.944427e+00   \n",
              "25%   -9.061223e-01 -8.121673e-01 -6.472982e-01 -6.490165e-01 -6.394497e-01   \n",
              "50%   -2.124012e-01 -1.609960e-01 -3.918510e-01 -3.932871e-01 -3.883727e-01   \n",
              "75%    5.584000e-01  5.987039e-01  2.163849e-01  2.082186e-01  1.895336e-01   \n",
              "max    6.416489e+00  4.722789e+00  1.239605e+01  1.312639e+01  2.330587e+01   \n",
              "\n",
              "          Saldo_Jun     Saldo_May     Saldo_Abr     Pagos_Sep     Pagos_Ago  \\\n",
              "count  2.995800e+04  2.995800e+04  2.995800e+04  2.995800e+04  2.995800e+04   \n",
              "mean   3.984618e-17  5.217952e-17  3.462823e-17  1.423078e-17 -1.043590e-17   \n",
              "std    1.000017e+00  1.000017e+00  1.000017e+00  1.000017e+00  1.000017e+00   \n",
              "min   -3.313663e+00 -2.000207e+00 -6.352483e+00 -3.418896e-01 -2.570185e-01   \n",
              "25%   -6.362576e-01 -6.340584e-01 -6.316336e-01 -2.815343e-01 -2.207909e-01   \n",
              "50%   -3.766388e-01 -3.653828e-01 -3.662594e-01 -2.151435e-01 -1.698813e-01   \n",
              "75%    1.751287e-01  1.626261e-01  1.736236e-01 -3.969053e-02 -4.015144e-02   \n",
              "max    1.317991e+01  1.458017e+01  1.548749e+01  5.238162e+01  7.279504e+01   \n",
              "\n",
              "          Pagos_Jul     Pagos_Jun     Pagos_May     Pagos_Abr  \n",
              "count  2.995800e+04  2.995800e+04  2.995800e+04  2.995800e+04  \n",
              "mean  -1.897437e-17  2.182053e-17 -3.794874e-18  9.605775e-18  \n",
              "std    1.000017e+00  1.000017e+00  1.000017e+00  1.000017e+00  \n",
              "min   -2.967825e-01 -3.081074e-01 -3.141242e-01 -2.934847e-01  \n",
              "25%   -2.746448e-01 -2.892090e-01 -2.975560e-01 -2.868513e-01  \n",
              "50%   -1.946087e-01 -2.124193e-01 -2.159907e-01 -2.091615e-01  \n",
              "75%   -4.069525e-02 -5.199837e-02 -4.981791e-02 -6.862272e-02  \n",
              "max    5.056533e+01  3.930673e+01  2.759040e+01  2.942574e+01  "
            ],
            "text/html": [
              "\n",
              "  <div id=\"df-a131c839-549b-4b2f-a667-20cce832a02e\">\n",
              "    <div class=\"colab-df-container\">\n",
              "      <div>\n",
              "<style scoped>\n",
              "    .dataframe tbody tr th:only-of-type {\n",
              "        vertical-align: middle;\n",
              "    }\n",
              "\n",
              "    .dataframe tbody tr th {\n",
              "        vertical-align: top;\n",
              "    }\n",
              "\n",
              "    .dataframe thead th {\n",
              "        text-align: right;\n",
              "    }\n",
              "</style>\n",
              "<table border=\"1\" class=\"dataframe\">\n",
              "  <thead>\n",
              "    <tr style=\"text-align: right;\">\n",
              "      <th></th>\n",
              "      <th>CreditAmount</th>\n",
              "      <th>Age</th>\n",
              "      <th>Saldo_Sep</th>\n",
              "      <th>Saldo_Ago</th>\n",
              "      <th>Saldo_Jul</th>\n",
              "      <th>Saldo_Jun</th>\n",
              "      <th>Saldo_May</th>\n",
              "      <th>Saldo_Abr</th>\n",
              "      <th>Pagos_Sep</th>\n",
              "      <th>Pagos_Ago</th>\n",
              "      <th>Pagos_Jul</th>\n",
              "      <th>Pagos_Jun</th>\n",
              "      <th>Pagos_May</th>\n",
              "      <th>Pagos_Abr</th>\n",
              "    </tr>\n",
              "  </thead>\n",
              "  <tbody>\n",
              "    <tr>\n",
              "      <th>count</th>\n",
              "      <td>2.995800e+04</td>\n",
              "      <td>2.995800e+04</td>\n",
              "      <td>2.995800e+04</td>\n",
              "      <td>2.995800e+04</td>\n",
              "      <td>2.995800e+04</td>\n",
              "      <td>2.995800e+04</td>\n",
              "      <td>2.995800e+04</td>\n",
              "      <td>2.995800e+04</td>\n",
              "      <td>2.995800e+04</td>\n",
              "      <td>2.995800e+04</td>\n",
              "      <td>2.995800e+04</td>\n",
              "      <td>2.995800e+04</td>\n",
              "      <td>2.995800e+04</td>\n",
              "      <td>2.995800e+04</td>\n",
              "    </tr>\n",
              "    <tr>\n",
              "      <th>mean</th>\n",
              "      <td>-3.794874e-18</td>\n",
              "      <td>-2.201027e-16</td>\n",
              "      <td>-1.612821e-17</td>\n",
              "      <td>4.743593e-19</td>\n",
              "      <td>5.217952e-17</td>\n",
              "      <td>3.984618e-17</td>\n",
              "      <td>5.217952e-17</td>\n",
              "      <td>3.462823e-17</td>\n",
              "      <td>1.423078e-17</td>\n",
              "      <td>-1.043590e-17</td>\n",
              "      <td>-1.897437e-17</td>\n",
              "      <td>2.182053e-17</td>\n",
              "      <td>-3.794874e-18</td>\n",
              "      <td>9.605775e-18</td>\n",
              "    </tr>\n",
              "    <tr>\n",
              "      <th>std</th>\n",
              "      <td>1.000017e+00</td>\n",
              "      <td>1.000017e+00</td>\n",
              "      <td>1.000017e+00</td>\n",
              "      <td>1.000017e+00</td>\n",
              "      <td>1.000017e+00</td>\n",
              "      <td>1.000017e+00</td>\n",
              "      <td>1.000017e+00</td>\n",
              "      <td>1.000017e+00</td>\n",
              "      <td>1.000017e+00</td>\n",
              "      <td>1.000017e+00</td>\n",
              "      <td>1.000017e+00</td>\n",
              "      <td>1.000017e+00</td>\n",
              "      <td>1.000017e+00</td>\n",
              "      <td>1.000017e+00</td>\n",
              "    </tr>\n",
              "    <tr>\n",
              "      <th>min</th>\n",
              "      <td>-1.214443e+00</td>\n",
              "      <td>-1.571867e+00</td>\n",
              "      <td>-2.943086e+00</td>\n",
              "      <td>-1.670797e+00</td>\n",
              "      <td>-2.944427e+00</td>\n",
              "      <td>-3.313663e+00</td>\n",
              "      <td>-2.000207e+00</td>\n",
              "      <td>-6.352483e+00</td>\n",
              "      <td>-3.418896e-01</td>\n",
              "      <td>-2.570185e-01</td>\n",
              "      <td>-2.967825e-01</td>\n",
              "      <td>-3.081074e-01</td>\n",
              "      <td>-3.141242e-01</td>\n",
              "      <td>-2.934847e-01</td>\n",
              "    </tr>\n",
              "    <tr>\n",
              "      <th>25%</th>\n",
              "      <td>-9.061223e-01</td>\n",
              "      <td>-8.121673e-01</td>\n",
              "      <td>-6.472982e-01</td>\n",
              "      <td>-6.490165e-01</td>\n",
              "      <td>-6.394497e-01</td>\n",
              "      <td>-6.362576e-01</td>\n",
              "      <td>-6.340584e-01</td>\n",
              "      <td>-6.316336e-01</td>\n",
              "      <td>-2.815343e-01</td>\n",
              "      <td>-2.207909e-01</td>\n",
              "      <td>-2.746448e-01</td>\n",
              "      <td>-2.892090e-01</td>\n",
              "      <td>-2.975560e-01</td>\n",
              "      <td>-2.868513e-01</td>\n",
              "    </tr>\n",
              "    <tr>\n",
              "      <th>50%</th>\n",
              "      <td>-2.124012e-01</td>\n",
              "      <td>-1.609960e-01</td>\n",
              "      <td>-3.918510e-01</td>\n",
              "      <td>-3.932871e-01</td>\n",
              "      <td>-3.883727e-01</td>\n",
              "      <td>-3.766388e-01</td>\n",
              "      <td>-3.653828e-01</td>\n",
              "      <td>-3.662594e-01</td>\n",
              "      <td>-2.151435e-01</td>\n",
              "      <td>-1.698813e-01</td>\n",
              "      <td>-1.946087e-01</td>\n",
              "      <td>-2.124193e-01</td>\n",
              "      <td>-2.159907e-01</td>\n",
              "      <td>-2.091615e-01</td>\n",
              "    </tr>\n",
              "    <tr>\n",
              "      <th>75%</th>\n",
              "      <td>5.584000e-01</td>\n",
              "      <td>5.987039e-01</td>\n",
              "      <td>2.163849e-01</td>\n",
              "      <td>2.082186e-01</td>\n",
              "      <td>1.895336e-01</td>\n",
              "      <td>1.751287e-01</td>\n",
              "      <td>1.626261e-01</td>\n",
              "      <td>1.736236e-01</td>\n",
              "      <td>-3.969053e-02</td>\n",
              "      <td>-4.015144e-02</td>\n",
              "      <td>-4.069525e-02</td>\n",
              "      <td>-5.199837e-02</td>\n",
              "      <td>-4.981791e-02</td>\n",
              "      <td>-6.862272e-02</td>\n",
              "    </tr>\n",
              "    <tr>\n",
              "      <th>max</th>\n",
              "      <td>6.416489e+00</td>\n",
              "      <td>4.722789e+00</td>\n",
              "      <td>1.239605e+01</td>\n",
              "      <td>1.312639e+01</td>\n",
              "      <td>2.330587e+01</td>\n",
              "      <td>1.317991e+01</td>\n",
              "      <td>1.458017e+01</td>\n",
              "      <td>1.548749e+01</td>\n",
              "      <td>5.238162e+01</td>\n",
              "      <td>7.279504e+01</td>\n",
              "      <td>5.056533e+01</td>\n",
              "      <td>3.930673e+01</td>\n",
              "      <td>2.759040e+01</td>\n",
              "      <td>2.942574e+01</td>\n",
              "    </tr>\n",
              "  </tbody>\n",
              "</table>\n",
              "</div>\n",
              "      <button class=\"colab-df-convert\" onclick=\"convertToInteractive('df-a131c839-549b-4b2f-a667-20cce832a02e')\"\n",
              "              title=\"Convert this dataframe to an interactive table.\"\n",
              "              style=\"display:none;\">\n",
              "        \n",
              "  <svg xmlns=\"http://www.w3.org/2000/svg\" height=\"24px\"viewBox=\"0 0 24 24\"\n",
              "       width=\"24px\">\n",
              "    <path d=\"M0 0h24v24H0V0z\" fill=\"none\"/>\n",
              "    <path d=\"M18.56 5.44l.94 2.06.94-2.06 2.06-.94-2.06-.94-.94-2.06-.94 2.06-2.06.94zm-11 1L8.5 8.5l.94-2.06 2.06-.94-2.06-.94L8.5 2.5l-.94 2.06-2.06.94zm10 10l.94 2.06.94-2.06 2.06-.94-2.06-.94-.94-2.06-.94 2.06-2.06.94z\"/><path d=\"M17.41 7.96l-1.37-1.37c-.4-.4-.92-.59-1.43-.59-.52 0-1.04.2-1.43.59L10.3 9.45l-7.72 7.72c-.78.78-.78 2.05 0 2.83L4 21.41c.39.39.9.59 1.41.59.51 0 1.02-.2 1.41-.59l7.78-7.78 2.81-2.81c.8-.78.8-2.07 0-2.86zM5.41 20L4 18.59l7.72-7.72 1.47 1.35L5.41 20z\"/>\n",
              "  </svg>\n",
              "      </button>\n",
              "      \n",
              "  <style>\n",
              "    .colab-df-container {\n",
              "      display:flex;\n",
              "      flex-wrap:wrap;\n",
              "      gap: 12px;\n",
              "    }\n",
              "\n",
              "    .colab-df-convert {\n",
              "      background-color: #E8F0FE;\n",
              "      border: none;\n",
              "      border-radius: 50%;\n",
              "      cursor: pointer;\n",
              "      display: none;\n",
              "      fill: #1967D2;\n",
              "      height: 32px;\n",
              "      padding: 0 0 0 0;\n",
              "      width: 32px;\n",
              "    }\n",
              "\n",
              "    .colab-df-convert:hover {\n",
              "      background-color: #E2EBFA;\n",
              "      box-shadow: 0px 1px 2px rgba(60, 64, 67, 0.3), 0px 1px 3px 1px rgba(60, 64, 67, 0.15);\n",
              "      fill: #174EA6;\n",
              "    }\n",
              "\n",
              "    [theme=dark] .colab-df-convert {\n",
              "      background-color: #3B4455;\n",
              "      fill: #D2E3FC;\n",
              "    }\n",
              "\n",
              "    [theme=dark] .colab-df-convert:hover {\n",
              "      background-color: #434B5C;\n",
              "      box-shadow: 0px 1px 3px 1px rgba(0, 0, 0, 0.15);\n",
              "      filter: drop-shadow(0px 1px 2px rgba(0, 0, 0, 0.3));\n",
              "      fill: #FFFFFF;\n",
              "    }\n",
              "  </style>\n",
              "\n",
              "      <script>\n",
              "        const buttonEl =\n",
              "          document.querySelector('#df-a131c839-549b-4b2f-a667-20cce832a02e button.colab-df-convert');\n",
              "        buttonEl.style.display =\n",
              "          google.colab.kernel.accessAllowed ? 'block' : 'none';\n",
              "\n",
              "        async function convertToInteractive(key) {\n",
              "          const element = document.querySelector('#df-a131c839-549b-4b2f-a667-20cce832a02e');\n",
              "          const dataTable =\n",
              "            await google.colab.kernel.invokeFunction('convertToInteractive',\n",
              "                                                     [key], {});\n",
              "          if (!dataTable) return;\n",
              "\n",
              "          const docLinkHtml = 'Like what you see? Visit the ' +\n",
              "            '<a target=\"_blank\" href=https://colab.research.google.com/notebooks/data_table.ipynb>data table notebook</a>'\n",
              "            + ' to learn more about interactive tables.';\n",
              "          element.innerHTML = '';\n",
              "          dataTable['output_type'] = 'display_data';\n",
              "          await google.colab.output.renderOutput(dataTable, element);\n",
              "          const docLink = document.createElement('div');\n",
              "          docLink.innerHTML = docLinkHtml;\n",
              "          element.appendChild(docLink);\n",
              "        }\n",
              "      </script>\n",
              "    </div>\n",
              "  </div>\n",
              "  "
            ]
          },
          "metadata": {},
          "execution_count": 28
        }
      ]
    },
    {
      "cell_type": "markdown",
      "source": [
        "## Ejercicio 7"
      ],
      "metadata": {
        "id": "lcruqJkkrq2K"
      }
    },
    {
      "cell_type": "markdown",
      "source": [
        "Reduce las dimensiones con PCA, si consideras necesario."
      ],
      "metadata": {
        "id": "9QO6Su13sALH"
      }
    },
    {
      "cell_type": "code",
      "source": [
        "pcanalisis = PCA(n_components=13) ## Son 13 componentes al ser sólo 14 variables, el máximo número de componentes principales posibles que reduzcan la dimensionalidad sería 13."
      ],
      "metadata": {
        "id": "nMYv7wALsDsE"
      },
      "execution_count": null,
      "outputs": []
    },
    {
      "cell_type": "markdown",
      "source": [
        "Se decidió calcular todos los componentes principales para después realizar el análisis y sólo quedarnos con los adecuados"
      ],
      "metadata": {
        "id": "IAk2tXgPsT7w"
      }
    },
    {
      "cell_type": "code",
      "source": [
        "pcanalisis.fit(sc_n_df) ## Ajuste del PCA con información numérica disponible"
      ],
      "metadata": {
        "colab": {
          "base_uri": "https://localhost:8080/"
        },
        "id": "QWfyabqzsXcZ",
        "outputId": "babbd261-0813-491d-fb8b-f8e3c000e547"
      },
      "execution_count": null,
      "outputs": [
        {
          "output_type": "execute_result",
          "data": {
            "text/plain": [
              "PCA(n_components=13)"
            ]
          },
          "metadata": {},
          "execution_count": 30
        }
      ]
    },
    {
      "cell_type": "markdown",
      "source": [
        "1. Indica la varianza de los datos explicada por cada componente seleccionado. Para actividades de exploración de los datos la varianza > 70%"
      ],
      "metadata": {
        "id": "JboDw9TIsD-V"
      }
    },
    {
      "cell_type": "code",
      "source": [
        "pca_resumen = pd.DataFrame({'Desviación_Estándar': np.sqrt(pcanalisis.explained_variance_), \n",
        "                          'Prop_Varianza_explicada': pcanalisis.explained_variance_ratio_,\n",
        "                          'Acum_Prop_Varianza_explicada': np.cumsum(pcanalisis.explained_variance_ratio_)\n",
        "                          })\n",
        "pca_resumen = pca_resumen.transpose()\n",
        "pca_resumen.columns = ['PC1', 'PC2','PC3','PC4','PC5','PC6','PC7','PC8','PC9','PC10','PC11','PC12','PC13']\n",
        "pca_resumen.round(2)"
      ],
      "metadata": {
        "colab": {
          "base_uri": "https://localhost:8080/",
          "height": 143
        },
        "id": "0GwdmdqYsGll",
        "outputId": "7bc40126-58f3-4728-8169-03cf4bd29a42"
      },
      "execution_count": null,
      "outputs": [
        {
          "output_type": "execute_result",
          "data": {
            "text/plain": [
              "                               PC1   PC2   PC3   PC4   PC5   PC6   PC7   PC8  \\\n",
              "Desviación_Estándar           2.43  1.31  1.02  0.96  0.94  0.93  0.88  0.85   \n",
              "Prop_Varianza_explicada       0.42  0.12  0.07  0.07  0.06  0.06  0.06  0.05   \n",
              "Acum_Prop_Varianza_explicada  0.42  0.55  0.62  0.69  0.75  0.81  0.87  0.92   \n",
              "\n",
              "                               PC9  PC10  PC11  PC12  PC13  \n",
              "Desviación_Estándar           0.84  0.51  0.27   0.2  0.16  \n",
              "Prop_Varianza_explicada       0.05  0.02  0.01   0.0  0.00  \n",
              "Acum_Prop_Varianza_explicada  0.97  0.99  0.99   1.0  1.00  "
            ],
            "text/html": [
              "\n",
              "  <div id=\"df-37eb0e5f-a5f8-402d-b24f-3b41ea33457f\">\n",
              "    <div class=\"colab-df-container\">\n",
              "      <div>\n",
              "<style scoped>\n",
              "    .dataframe tbody tr th:only-of-type {\n",
              "        vertical-align: middle;\n",
              "    }\n",
              "\n",
              "    .dataframe tbody tr th {\n",
              "        vertical-align: top;\n",
              "    }\n",
              "\n",
              "    .dataframe thead th {\n",
              "        text-align: right;\n",
              "    }\n",
              "</style>\n",
              "<table border=\"1\" class=\"dataframe\">\n",
              "  <thead>\n",
              "    <tr style=\"text-align: right;\">\n",
              "      <th></th>\n",
              "      <th>PC1</th>\n",
              "      <th>PC2</th>\n",
              "      <th>PC3</th>\n",
              "      <th>PC4</th>\n",
              "      <th>PC5</th>\n",
              "      <th>PC6</th>\n",
              "      <th>PC7</th>\n",
              "      <th>PC8</th>\n",
              "      <th>PC9</th>\n",
              "      <th>PC10</th>\n",
              "      <th>PC11</th>\n",
              "      <th>PC12</th>\n",
              "      <th>PC13</th>\n",
              "    </tr>\n",
              "  </thead>\n",
              "  <tbody>\n",
              "    <tr>\n",
              "      <th>Desviación_Estándar</th>\n",
              "      <td>2.43</td>\n",
              "      <td>1.31</td>\n",
              "      <td>1.02</td>\n",
              "      <td>0.96</td>\n",
              "      <td>0.94</td>\n",
              "      <td>0.93</td>\n",
              "      <td>0.88</td>\n",
              "      <td>0.85</td>\n",
              "      <td>0.84</td>\n",
              "      <td>0.51</td>\n",
              "      <td>0.27</td>\n",
              "      <td>0.2</td>\n",
              "      <td>0.16</td>\n",
              "    </tr>\n",
              "    <tr>\n",
              "      <th>Prop_Varianza_explicada</th>\n",
              "      <td>0.42</td>\n",
              "      <td>0.12</td>\n",
              "      <td>0.07</td>\n",
              "      <td>0.07</td>\n",
              "      <td>0.06</td>\n",
              "      <td>0.06</td>\n",
              "      <td>0.06</td>\n",
              "      <td>0.05</td>\n",
              "      <td>0.05</td>\n",
              "      <td>0.02</td>\n",
              "      <td>0.01</td>\n",
              "      <td>0.0</td>\n",
              "      <td>0.00</td>\n",
              "    </tr>\n",
              "    <tr>\n",
              "      <th>Acum_Prop_Varianza_explicada</th>\n",
              "      <td>0.42</td>\n",
              "      <td>0.55</td>\n",
              "      <td>0.62</td>\n",
              "      <td>0.69</td>\n",
              "      <td>0.75</td>\n",
              "      <td>0.81</td>\n",
              "      <td>0.87</td>\n",
              "      <td>0.92</td>\n",
              "      <td>0.97</td>\n",
              "      <td>0.99</td>\n",
              "      <td>0.99</td>\n",
              "      <td>1.0</td>\n",
              "      <td>1.00</td>\n",
              "    </tr>\n",
              "  </tbody>\n",
              "</table>\n",
              "</div>\n",
              "      <button class=\"colab-df-convert\" onclick=\"convertToInteractive('df-37eb0e5f-a5f8-402d-b24f-3b41ea33457f')\"\n",
              "              title=\"Convert this dataframe to an interactive table.\"\n",
              "              style=\"display:none;\">\n",
              "        \n",
              "  <svg xmlns=\"http://www.w3.org/2000/svg\" height=\"24px\"viewBox=\"0 0 24 24\"\n",
              "       width=\"24px\">\n",
              "    <path d=\"M0 0h24v24H0V0z\" fill=\"none\"/>\n",
              "    <path d=\"M18.56 5.44l.94 2.06.94-2.06 2.06-.94-2.06-.94-.94-2.06-.94 2.06-2.06.94zm-11 1L8.5 8.5l.94-2.06 2.06-.94-2.06-.94L8.5 2.5l-.94 2.06-2.06.94zm10 10l.94 2.06.94-2.06 2.06-.94-2.06-.94-.94-2.06-.94 2.06-2.06.94z\"/><path d=\"M17.41 7.96l-1.37-1.37c-.4-.4-.92-.59-1.43-.59-.52 0-1.04.2-1.43.59L10.3 9.45l-7.72 7.72c-.78.78-.78 2.05 0 2.83L4 21.41c.39.39.9.59 1.41.59.51 0 1.02-.2 1.41-.59l7.78-7.78 2.81-2.81c.8-.78.8-2.07 0-2.86zM5.41 20L4 18.59l7.72-7.72 1.47 1.35L5.41 20z\"/>\n",
              "  </svg>\n",
              "      </button>\n",
              "      \n",
              "  <style>\n",
              "    .colab-df-container {\n",
              "      display:flex;\n",
              "      flex-wrap:wrap;\n",
              "      gap: 12px;\n",
              "    }\n",
              "\n",
              "    .colab-df-convert {\n",
              "      background-color: #E8F0FE;\n",
              "      border: none;\n",
              "      border-radius: 50%;\n",
              "      cursor: pointer;\n",
              "      display: none;\n",
              "      fill: #1967D2;\n",
              "      height: 32px;\n",
              "      padding: 0 0 0 0;\n",
              "      width: 32px;\n",
              "    }\n",
              "\n",
              "    .colab-df-convert:hover {\n",
              "      background-color: #E2EBFA;\n",
              "      box-shadow: 0px 1px 2px rgba(60, 64, 67, 0.3), 0px 1px 3px 1px rgba(60, 64, 67, 0.15);\n",
              "      fill: #174EA6;\n",
              "    }\n",
              "\n",
              "    [theme=dark] .colab-df-convert {\n",
              "      background-color: #3B4455;\n",
              "      fill: #D2E3FC;\n",
              "    }\n",
              "\n",
              "    [theme=dark] .colab-df-convert:hover {\n",
              "      background-color: #434B5C;\n",
              "      box-shadow: 0px 1px 3px 1px rgba(0, 0, 0, 0.15);\n",
              "      filter: drop-shadow(0px 1px 2px rgba(0, 0, 0, 0.3));\n",
              "      fill: #FFFFFF;\n",
              "    }\n",
              "  </style>\n",
              "\n",
              "      <script>\n",
              "        const buttonEl =\n",
              "          document.querySelector('#df-37eb0e5f-a5f8-402d-b24f-3b41ea33457f button.colab-df-convert');\n",
              "        buttonEl.style.display =\n",
              "          google.colab.kernel.accessAllowed ? 'block' : 'none';\n",
              "\n",
              "        async function convertToInteractive(key) {\n",
              "          const element = document.querySelector('#df-37eb0e5f-a5f8-402d-b24f-3b41ea33457f');\n",
              "          const dataTable =\n",
              "            await google.colab.kernel.invokeFunction('convertToInteractive',\n",
              "                                                     [key], {});\n",
              "          if (!dataTable) return;\n",
              "\n",
              "          const docLinkHtml = 'Like what you see? Visit the ' +\n",
              "            '<a target=\"_blank\" href=https://colab.research.google.com/notebooks/data_table.ipynb>data table notebook</a>'\n",
              "            + ' to learn more about interactive tables.';\n",
              "          element.innerHTML = '';\n",
              "          dataTable['output_type'] = 'display_data';\n",
              "          await google.colab.output.renderOutput(dataTable, element);\n",
              "          const docLink = document.createElement('div');\n",
              "          docLink.innerHTML = docLinkHtml;\n",
              "          element.appendChild(docLink);\n",
              "        }\n",
              "      </script>\n",
              "    </div>\n",
              "  </div>\n",
              "  "
            ]
          },
          "metadata": {},
          "execution_count": 31
        }
      ]
    },
    {
      "cell_type": "markdown",
      "source": [
        "Con lo anterior observamos que para obtener más del 70% de la varianza acumulada, debemos conservar los primeros 5 componentes (quedandonos con el 75% de la varianza/información)"
      ],
      "metadata": {
        "id": "TPfz8Fq6soDx"
      }
    },
    {
      "cell_type": "markdown",
      "source": [
        "Para observar gráficamente lo anterior:"
      ],
      "metadata": {
        "id": "63nlZdg-tho5"
      }
    },
    {
      "cell_type": "code",
      "source": [
        "## Se utilizó las siguientes líneas de código aprendidas y replicadas en clase\n",
        "\n",
        "PC_components = np.arange(pcanalisis.n_components_) + 1\n",
        "#PC_components\n",
        "\n",
        "_ = sns.set(style = 'whitegrid', \n",
        "            font_scale = 1.2\n",
        "            )\n",
        "\n",
        "fig, ax = plt.subplots(figsize=(10, 7))\n",
        "\n",
        "_ = sns.barplot(x = PC_components, \n",
        "                y = pcanalisis.explained_variance_ratio_, \n",
        "                color = 'b',\n",
        "                label='Varianza explicada',\n",
        "                )\n",
        "\n",
        "_ = sns.lineplot(x = PC_components-1, \n",
        "                 y = np.cumsum(pcanalisis.explained_variance_ratio_), \n",
        "                 color = 'black', \n",
        "                 linestyle = '-', \n",
        "                 linewidth = 2, \n",
        "                 marker = 'o', \n",
        "                 markersize = 8, \n",
        "                 label = 'Varianza Acumulada'\n",
        "                 )\n",
        "\n",
        "plt.title('Scree Plot')\n",
        "plt.xlabel('N-th Principal Component')\n",
        "plt.ylabel('Variance Explained')\n",
        "plt.legend(loc='lower right')\n",
        "plt.ylim(0, 1)\n",
        "\n",
        "plt.show()"
      ],
      "metadata": {
        "colab": {
          "base_uri": "https://localhost:8080/",
          "height": 469
        },
        "id": "ezGiN0b8tkol",
        "outputId": "06bef73b-a014-48fd-f6cf-f06fd86d8df1"
      },
      "execution_count": null,
      "outputs": [
        {
          "output_type": "display_data",
          "data": {
            "text/plain": [
              "<Figure size 720x504 with 1 Axes>"
            ],
            "image/png": "[encoded data removed]"
          },
          "metadata": {}
        }
      ]
    },
    {
      "cell_type": "markdown",
      "source": [
        "2. Indica la importancia de las variables en cada componente"
      ],
      "metadata": {
        "id": "fA3C-fflsG7W"
      }
    },
    {
      "cell_type": "markdown",
      "source": [
        "Sólo tomé los primeros 5 componentes, ya que acumulan más del 70% de la varianza"
      ],
      "metadata": {
        "id": "cSJ-Ri9Dtr79"
      }
    },
    {
      "cell_type": "code",
      "source": [
        "pcaComponentes_df = pd.DataFrame(pcanalisis.components_.round(4).transpose(), \n",
        "                                columns=['PC1', 'PC2','PC3','PC4','PC5','PC6','PC7','PC8','PC9','PC10','PC11','PC12','PC13'],\n",
        "                                index= columnas_n_df\n",
        "                                )\n",
        "pcaComponentes_df = pcaComponentes_df.drop(columns=['PC6','PC7','PC8','PC9','PC10','PC11','PC12','PC13'])\n",
        "pcaComponentes_df"
      ],
      "metadata": {
        "colab": {
          "base_uri": "https://localhost:8080/",
          "height": 488
        },
        "id": "MlffD0rGt9QI",
        "outputId": "6e27278d-e377-419e-b4c6-e76a22b7eed3"
      },
      "execution_count": null,
      "outputs": [
        {
          "output_type": "execute_result",
          "data": {
            "text/plain": [
              "                 PC1     PC2     PC3     PC4     PC5\n",
              "CreditAmount  0.1655  0.3007 -0.3786 -0.2001  0.0353\n",
              "Age           0.0328  0.0719 -0.8695  0.3390 -0.0398\n",
              "Saldo_Sep     0.3724 -0.1908 -0.0342 -0.0639  0.0414\n",
              "Saldo_Ago     0.3833 -0.1746 -0.0018  0.0076  0.0832\n",
              "Saldo_Jul     0.3883 -0.1269  0.0347  0.0605  0.1138\n",
              "Saldo_Jun     0.3916 -0.1204  0.0341  0.0748  0.0284\n",
              "Saldo_May     0.3885 -0.1059  0.0339  0.0396 -0.1068\n",
              "Saldo_Abr     0.3807 -0.0942  0.0185 -0.0706 -0.1650\n",
              "Pagos_Sep     0.1351  0.3832  0.1738  0.3621  0.2257\n",
              "Pagos_Ago     0.1168  0.4084  0.2009  0.3457  0.1487\n",
              "Pagos_Jul     0.1281  0.3923  0.1221  0.2447 -0.2396\n",
              "Pagos_Jun     0.1169  0.3496  0.0623 -0.0947 -0.5778\n",
              "Pagos_May     0.1137  0.3039 -0.0609 -0.6098 -0.1934\n",
              "Pagos_Abr     0.1055  0.3235 -0.0509 -0.3657  0.6592"
            ],
            "text/html": [
              "\n",
              "  <div id=\"df-e180822e-3e4a-4ccb-a18d-b6911d7e338f\">\n",
              "    <div class=\"colab-df-container\">\n",
              "      <div>\n",
              "<style scoped>\n",
              "    .dataframe tbody tr th:only-of-type {\n",
              "        vertical-align: middle;\n",
              "    }\n",
              "\n",
              "    .dataframe tbody tr th {\n",
              "        vertical-align: top;\n",
              "    }\n",
              "\n",
              "    .dataframe thead th {\n",
              "        text-align: right;\n",
              "    }\n",
              "</style>\n",
              "<table border=\"1\" class=\"dataframe\">\n",
              "  <thead>\n",
              "    <tr style=\"text-align: right;\">\n",
              "      <th></th>\n",
              "      <th>PC1</th>\n",
              "      <th>PC2</th>\n",
              "      <th>PC3</th>\n",
              "      <th>PC4</th>\n",
              "      <th>PC5</th>\n",
              "    </tr>\n",
              "  </thead>\n",
              "  <tbody>\n",
              "    <tr>\n",
              "      <th>CreditAmount</th>\n",
              "      <td>0.1655</td>\n",
              "      <td>0.3007</td>\n",
              "      <td>-0.3786</td>\n",
              "      <td>-0.2001</td>\n",
              "      <td>0.0353</td>\n",
              "    </tr>\n",
              "    <tr>\n",
              "      <th>Age</th>\n",
              "      <td>0.0328</td>\n",
              "      <td>0.0719</td>\n",
              "      <td>-0.8695</td>\n",
              "      <td>0.3390</td>\n",
              "      <td>-0.0398</td>\n",
              "    </tr>\n",
              "    <tr>\n",
              "      <th>Saldo_Sep</th>\n",
              "      <td>0.3724</td>\n",
              "      <td>-0.1908</td>\n",
              "      <td>-0.0342</td>\n",
              "      <td>-0.0639</td>\n",
              "      <td>0.0414</td>\n",
              "    </tr>\n",
              "    <tr>\n",
              "      <th>Saldo_Ago</th>\n",
              "      <td>0.3833</td>\n",
              "      <td>-0.1746</td>\n",
              "      <td>-0.0018</td>\n",
              "      <td>0.0076</td>\n",
              "      <td>0.0832</td>\n",
              "    </tr>\n",
              "    <tr>\n",
              "      <th>Saldo_Jul</th>\n",
              "      <td>0.3883</td>\n",
              "      <td>-0.1269</td>\n",
              "      <td>0.0347</td>\n",
              "      <td>0.0605</td>\n",
              "      <td>0.1138</td>\n",
              "    </tr>\n",
              "    <tr>\n",
              "      <th>Saldo_Jun</th>\n",
              "      <td>0.3916</td>\n",
              "      <td>-0.1204</td>\n",
              "      <td>0.0341</td>\n",
              "      <td>0.0748</td>\n",
              "      <td>0.0284</td>\n",
              "    </tr>\n",
              "    <tr>\n",
              "      <th>Saldo_May</th>\n",
              "      <td>0.3885</td>\n",
              "      <td>-0.1059</td>\n",
              "      <td>0.0339</td>\n",
              "      <td>0.0396</td>\n",
              "      <td>-0.1068</td>\n",
              "    </tr>\n",
              "    <tr>\n",
              "      <th>Saldo_Abr</th>\n",
              "      <td>0.3807</td>\n",
              "      <td>-0.0942</td>\n",
              "      <td>0.0185</td>\n",
              "      <td>-0.0706</td>\n",
              "      <td>-0.1650</td>\n",
              "    </tr>\n",
              "    <tr>\n",
              "      <th>Pagos_Sep</th>\n",
              "      <td>0.1351</td>\n",
              "      <td>0.3832</td>\n",
              "      <td>0.1738</td>\n",
              "      <td>0.3621</td>\n",
              "      <td>0.2257</td>\n",
              "    </tr>\n",
              "    <tr>\n",
              "      <th>Pagos_Ago</th>\n",
              "      <td>0.1168</td>\n",
              "      <td>0.4084</td>\n",
              "      <td>0.2009</td>\n",
              "      <td>0.3457</td>\n",
              "      <td>0.1487</td>\n",
              "    </tr>\n",
              "    <tr>\n",
              "      <th>Pagos_Jul</th>\n",
              "      <td>0.1281</td>\n",
              "      <td>0.3923</td>\n",
              "      <td>0.1221</td>\n",
              "      <td>0.2447</td>\n",
              "      <td>-0.2396</td>\n",
              "    </tr>\n",
              "    <tr>\n",
              "      <th>Pagos_Jun</th>\n",
              "      <td>0.1169</td>\n",
              "      <td>0.3496</td>\n",
              "      <td>0.0623</td>\n",
              "      <td>-0.0947</td>\n",
              "      <td>-0.5778</td>\n",
              "    </tr>\n",
              "    <tr>\n",
              "      <th>Pagos_May</th>\n",
              "      <td>0.1137</td>\n",
              "      <td>0.3039</td>\n",
              "      <td>-0.0609</td>\n",
              "      <td>-0.6098</td>\n",
              "      <td>-0.1934</td>\n",
              "    </tr>\n",
              "    <tr>\n",
              "      <th>Pagos_Abr</th>\n",
              "      <td>0.1055</td>\n",
              "      <td>0.3235</td>\n",
              "      <td>-0.0509</td>\n",
              "      <td>-0.3657</td>\n",
              "      <td>0.6592</td>\n",
              "    </tr>\n",
              "  </tbody>\n",
              "</table>\n",
              "</div>\n",
              "      <button class=\"colab-df-convert\" onclick=\"convertToInteractive('df-e180822e-3e4a-4ccb-a18d-b6911d7e338f')\"\n",
              "              title=\"Convert this dataframe to an interactive table.\"\n",
              "              style=\"display:none;\">\n",
              "        \n",
              "  <svg xmlns=\"http://www.w3.org/2000/svg\" height=\"24px\"viewBox=\"0 0 24 24\"\n",
              "       width=\"24px\">\n",
              "    <path d=\"M0 0h24v24H0V0z\" fill=\"none\"/>\n",
              "    <path d=\"M18.56 5.44l.94 2.06.94-2.06 2.06-.94-2.06-.94-.94-2.06-.94 2.06-2.06.94zm-11 1L8.5 8.5l.94-2.06 2.06-.94-2.06-.94L8.5 2.5l-.94 2.06-2.06.94zm10 10l.94 2.06.94-2.06 2.06-.94-2.06-.94-.94-2.06-.94 2.06-2.06.94z\"/><path d=\"M17.41 7.96l-1.37-1.37c-.4-.4-.92-.59-1.43-.59-.52 0-1.04.2-1.43.59L10.3 9.45l-7.72 7.72c-.78.78-.78 2.05 0 2.83L4 21.41c.39.39.9.59 1.41.59.51 0 1.02-.2 1.41-.59l7.78-7.78 2.81-2.81c.8-.78.8-2.07 0-2.86zM5.41 20L4 18.59l7.72-7.72 1.47 1.35L5.41 20z\"/>\n",
              "  </svg>\n",
              "      </button>\n",
              "      \n",
              "  <style>\n",
              "    .colab-df-container {\n",
              "      display:flex;\n",
              "      flex-wrap:wrap;\n",
              "      gap: 12px;\n",
              "    }\n",
              "\n",
              "    .colab-df-convert {\n",
              "      background-color: #E8F0FE;\n",
              "      border: none;\n",
              "      border-radius: 50%;\n",
              "      cursor: pointer;\n",
              "      display: none;\n",
              "      fill: #1967D2;\n",
              "      height: 32px;\n",
              "      padding: 0 0 0 0;\n",
              "      width: 32px;\n",
              "    }\n",
              "\n",
              "    .colab-df-convert:hover {\n",
              "      background-color: #E2EBFA;\n",
              "      box-shadow: 0px 1px 2px rgba(60, 64, 67, 0.3), 0px 1px 3px 1px rgba(60, 64, 67, 0.15);\n",
              "      fill: #174EA6;\n",
              "    }\n",
              "\n",
              "    [theme=dark] .colab-df-convert {\n",
              "      background-color: #3B4455;\n",
              "      fill: #D2E3FC;\n",
              "    }\n",
              "\n",
              "    [theme=dark] .colab-df-convert:hover {\n",
              "      background-color: #434B5C;\n",
              "      box-shadow: 0px 1px 3px 1px rgba(0, 0, 0, 0.15);\n",
              "      filter: drop-shadow(0px 1px 2px rgba(0, 0, 0, 0.3));\n",
              "      fill: #FFFFFF;\n",
              "    }\n",
              "  </style>\n",
              "\n",
              "      <script>\n",
              "        const buttonEl =\n",
              "          document.querySelector('#df-e180822e-3e4a-4ccb-a18d-b6911d7e338f button.colab-df-convert');\n",
              "        buttonEl.style.display =\n",
              "          google.colab.kernel.accessAllowed ? 'block' : 'none';\n",
              "\n",
              "        async function convertToInteractive(key) {\n",
              "          const element = document.querySelector('#df-e180822e-3e4a-4ccb-a18d-b6911d7e338f');\n",
              "          const dataTable =\n",
              "            await google.colab.kernel.invokeFunction('convertToInteractive',\n",
              "                                                     [key], {});\n",
              "          if (!dataTable) return;\n",
              "\n",
              "          const docLinkHtml = 'Like what you see? Visit the ' +\n",
              "            '<a target=\"_blank\" href=https://colab.research.google.com/notebooks/data_table.ipynb>data table notebook</a>'\n",
              "            + ' to learn more about interactive tables.';\n",
              "          element.innerHTML = '';\n",
              "          dataTable['output_type'] = 'display_data';\n",
              "          await google.colab.output.renderOutput(dataTable, element);\n",
              "          const docLink = document.createElement('div');\n",
              "          docLink.innerHTML = docLinkHtml;\n",
              "          element.appendChild(docLink);\n",
              "        }\n",
              "      </script>\n",
              "    </div>\n",
              "  </div>\n",
              "  "
            ]
          },
          "metadata": {},
          "execution_count": 33
        }
      ]
    },
    {
      "cell_type": "markdown",
      "source": [
        "**PCA 1**"
      ],
      "metadata": {
        "id": "JA7Db6AAt0HH"
      }
    },
    {
      "cell_type": "code",
      "source": [
        "print('Variables MÁS importantes, y su coeficiente para el componente Principal 1:')\n",
        "print('\\n')\n",
        "print(pcaComponentes_df.PC1.nlargest(1))\n",
        "print('\\n')\n",
        "print('Variables MENOS importantes, y su coeficiente para el componente Principal 1:')\n",
        "print('\\n')\n",
        "print(pcaComponentes_df.PC1.nsmallest(1))"
      ],
      "metadata": {
        "colab": {
          "base_uri": "https://localhost:8080/"
        },
        "id": "teY_29qxsIyl",
        "outputId": "0d979a22-9390-4ed6-d907-e30594a39c59"
      },
      "execution_count": null,
      "outputs": [
        {
          "output_type": "stream",
          "name": "stdout",
          "text": [
            "Variables MÁS importantes, y su coeficiente para el componente Principal 1:\n",
            "\n",
            "\n",
            "Saldo_Jun    0.3916\n",
            "Name: PC1, dtype: float64\n",
            "\n",
            "\n",
            "Variables MENOS importantes, y su coeficiente para el componente Principal 1:\n",
            "\n",
            "\n",
            "Age    0.0328\n",
            "Name: PC1, dtype: float64\n"
          ]
        }
      ]
    },
    {
      "cell_type": "markdown",
      "source": [
        "Observamos el primer componente está explicando las variaciones en el Saldo en Junio"
      ],
      "metadata": {
        "id": "wGukbxR3uQWb"
      }
    },
    {
      "cell_type": "markdown",
      "source": [
        "**PCA 2**"
      ],
      "metadata": {
        "id": "0apnvRXwubO-"
      }
    },
    {
      "cell_type": "code",
      "source": [
        "print('Variables MÁS importantes, y su coeficiente para el componente Principal 2:')\n",
        "print('\\n')\n",
        "print(pcaComponentes_df.PC2.nlargest(1))\n",
        "print('\\n')\n",
        "print('Variables MENOS importantes, y su coeficiente para el componente Principal 2:')\n",
        "print('\\n')\n",
        "print(pcaComponentes_df.PC2.nsmallest(1))"
      ],
      "metadata": {
        "colab": {
          "base_uri": "https://localhost:8080/"
        },
        "id": "skcG2GJRueT2",
        "outputId": "eed49b48-69ff-4423-be93-8659965feeb5"
      },
      "execution_count": null,
      "outputs": [
        {
          "output_type": "stream",
          "name": "stdout",
          "text": [
            "Variables MÁS importantes, y su coeficiente para el componente Principal 2:\n",
            "\n",
            "\n",
            "Pagos_Ago    0.4084\n",
            "Name: PC2, dtype: float64\n",
            "\n",
            "\n",
            "Variables MENOS importantes, y su coeficiente para el componente Principal 2:\n",
            "\n",
            "\n",
            "Saldo_Sep   -0.1908\n",
            "Name: PC2, dtype: float64\n"
          ]
        }
      ]
    },
    {
      "cell_type": "markdown",
      "source": [
        "El componente 2, captura información principalmente de la cantidad pagada en Agosto"
      ],
      "metadata": {
        "id": "DKfrXf3WufTe"
      }
    },
    {
      "cell_type": "markdown",
      "source": [
        "**PCA 3**"
      ],
      "metadata": {
        "id": "t_NhNE3auffc"
      }
    },
    {
      "cell_type": "code",
      "source": [
        "print('Variables MÁS importantes, y su coeficiente para el componente Principal 3:')\n",
        "print('\\n')\n",
        "print(pcaComponentes_df.PC3.nlargest(1))\n",
        "print('\\n')\n",
        "print('Variables MENOS importantes, y su coeficiente para el componente Principal 3:')\n",
        "print('\\n')\n",
        "print(pcaComponentes_df.PC3.nsmallest(1))"
      ],
      "metadata": {
        "colab": {
          "base_uri": "https://localhost:8080/"
        },
        "id": "7gVNW_n2ug2N",
        "outputId": "cf96cb08-a43c-4d5e-dfd3-d442fdd841f5"
      },
      "execution_count": null,
      "outputs": [
        {
          "output_type": "stream",
          "name": "stdout",
          "text": [
            "Variables MÁS importantes, y su coeficiente para el componente Principal 3:\n",
            "\n",
            "\n",
            "Pagos_Ago    0.2009\n",
            "Name: PC3, dtype: float64\n",
            "\n",
            "\n",
            "Variables MENOS importantes, y su coeficiente para el componente Principal 3:\n",
            "\n",
            "\n",
            "Age   -0.8695\n",
            "Name: PC3, dtype: float64\n"
          ]
        }
      ]
    },
    {
      "cell_type": "markdown",
      "source": [
        "El componente 3, tiene más peso sobre la información que explica los pagos realizados en Agosto"
      ],
      "metadata": {
        "id": "tNPTs2TFwLs6"
      }
    },
    {
      "cell_type": "markdown",
      "source": [
        "**PCA 4**"
      ],
      "metadata": {
        "id": "ZGn2G9jZuhht"
      }
    },
    {
      "cell_type": "code",
      "source": [
        "print('Variables MÁS importantes, y su coeficiente para el componente Principal 4:')\n",
        "print('\\n')\n",
        "print(pcaComponentes_df.PC4.nlargest(1))\n",
        "print('\\n')\n",
        "print('Variables MENOS importantes, y su coeficiente para el componente Principal 4:')\n",
        "print('\\n')\n",
        "print(pcaComponentes_df.PC4.nsmallest(1))"
      ],
      "metadata": {
        "colab": {
          "base_uri": "https://localhost:8080/"
        },
        "id": "3mMjoY7xuh0F",
        "outputId": "77a54530-6487-4d39-b13e-b4a31e19b861"
      },
      "execution_count": null,
      "outputs": [
        {
          "output_type": "stream",
          "name": "stdout",
          "text": [
            "Variables MÁS importantes, y su coeficiente para el componente Principal 4:\n",
            "\n",
            "\n",
            "Pagos_Sep    0.3621\n",
            "Name: PC4, dtype: float64\n",
            "\n",
            "\n",
            "Variables MENOS importantes, y su coeficiente para el componente Principal 4:\n",
            "\n",
            "\n",
            "Pagos_May   -0.6098\n",
            "Name: PC4, dtype: float64\n"
          ]
        }
      ]
    },
    {
      "cell_type": "markdown",
      "source": [
        "El componente 4, captura principalmente la información con respecto a los pagos en Septiembre"
      ],
      "metadata": {
        "id": "xOfuPfasuifk"
      }
    },
    {
      "cell_type": "markdown",
      "source": [
        "**PCA 5**"
      ],
      "metadata": {
        "id": "8veuHoEWujdF"
      }
    },
    {
      "cell_type": "code",
      "source": [
        "print('Variables MÁS importantes, y su coeficiente para el componente Principal 5:')\n",
        "print('\\n')\n",
        "print(pcaComponentes_df.PC5.nlargest(1))\n",
        "print('\\n')\n",
        "print('Variables MENOS importantes, y su coeficiente para el componente Principal 5:')\n",
        "print('\\n')\n",
        "print(pcaComponentes_df.PC5.nsmallest(1))"
      ],
      "metadata": {
        "colab": {
          "base_uri": "https://localhost:8080/"
        },
        "id": "nonyDOyJujmt",
        "outputId": "4a9c6a3b-99e5-4c6d-e989-8b5cf2e3fa1d"
      },
      "execution_count": null,
      "outputs": [
        {
          "output_type": "stream",
          "name": "stdout",
          "text": [
            "Variables MÁS importantes, y su coeficiente para el componente Principal 5:\n",
            "\n",
            "\n",
            "Pagos_Abr    0.6592\n",
            "Name: PC5, dtype: float64\n",
            "\n",
            "\n",
            "Variables MENOS importantes, y su coeficiente para el componente Principal 5:\n",
            "\n",
            "\n",
            "Pagos_Jun   -0.5778\n",
            "Name: PC5, dtype: float64\n"
          ]
        }
      ]
    },
    {
      "cell_type": "markdown",
      "source": [
        "El componente 5, captura en su mayoría información con respecto al total de pago realizado en Abril, y contrasta que la información que menos peso tiene en dicho componente es la cantidad de pagada en Junio."
      ],
      "metadata": {
        "id": "sNmegIc3uj71"
      }
    },
    {
      "cell_type": "markdown",
      "source": [
        "## Ejercicio 8"
      ],
      "metadata": {
        "id": "AuCayCnawtJE"
      }
    },
    {
      "cell_type": "markdown",
      "source": [
        "Elabora los histogramas de los atributos para visualizar su distribución"
      ],
      "metadata": {
        "id": "6q1oAB4_wxGO"
      }
    },
    {
      "cell_type": "code",
      "source": [
        "sns.set(rc={'figure.figsize':(6,6)})\n",
        "for i in df.drop(columns=['ID']).columns:\n",
        "  df[[i]].plot.hist()\n",
        "plt.show()"
      ],
      "metadata": {
        "colab": {
          "base_uri": "https://localhost:8080/",
          "height": 1000
        },
        "id": "2iQFM8_ZyUqA",
        "outputId": "2260a829-3058-46e1-cfc2-993a6a91d4af"
      },
      "execution_count": null,
      "outputs": [
        {
          "output_type": "stream",
          "name": "stderr",
          "text": [
            "/usr/local/lib/python3.7/dist-packages/pandas/plotting/_matplotlib/core.py:345: RuntimeWarning: More than 20 figures have been opened. Figures created through the pyplot interface (`matplotlib.pyplot.figure`) are retained until explicitly closed and may consume too much memory. (To control this warning, see the rcParam `figure.max_open_warning`).\n",
            "  fig = self.plt.figure(figsize=self.figsize)\n"
          ]
        },
        {
          "output_type": "display_data",
          "data": {
            "text/plain": [
              "<Figure size 432x432 with 1 Axes>"
            ],
            "image/png": "[encoded data removed]"
          },
          "metadata": {}
        },
        {
          "output_type": "display_data",
          "data": {
            "text/plain": [
              "<Figure size 432x432 with 1 Axes>"
            ],
            "image/png": "[encoded data removed]"
          },
          "metadata": {}
        },
        {
          "output_type": "display_data",
          "data": {
            "text/plain": [
              "<Figure size 432x432 with 1 Axes>"
            ],
            "image/png": "[encoded data removed]"
          },
          "metadata": {}
        },
        {
          "output_type": "display_data",
          "data": {
            "text/plain": [
              "<Figure size 432x432 with 1 Axes>"
            ],
            "image/png": "[encoded data removed]"
          },
          "metadata": {}
        },
        {
          "output_type": "display_data",
          "data": {
            "text/plain": [
              "<Figure size 432x432 with 1 Axes>"
            ],
            "image/png": "[encoded data removed]"
          },
          "metadata": {}
        },
        {
          "output_type": "display_data",
          "data": {
            "text/plain": [
              "<Figure size 432x432 with 1 Axes>"
            ],
            "image/png": "[encoded data removed]"
          },
          "metadata": {}
        },
        {
          "output_type": "display_data",
          "data": {
            "text/plain": [
              "<Figure size 432x432 with 1 Axes>"
            ],
            "image/png": "[encoded data removed]"
          },
          "metadata": {}
        },
        {
          "output_type": "display_data",
          "data": {
            "text/plain": [
              "<Figure size 432x432 with 1 Axes>"
            ],
            "image/png": "[encoded data removed]"
          },
          "metadata": {}
        },
        {
          "output_type": "display_data",
          "data": {
            "text/plain": [
              "<Figure size 432x432 with 1 Axes>"
            ],
            "image/png": "[encoded data removed]"
          },
          "metadata": {}
        },
        {
          "output_type": "display_data",
          "data": {
            "text/plain": [
              "<Figure size 432x432 with 1 Axes>"
            ],
            "image/png": "[encoded data removed]"
          },
          "metadata": {}
        },
        {
          "output_type": "display_data",
          "data": {
            "text/plain": [
              "<Figure size 432x432 with 1 Axes>"
            ],
            "image/png": "[encoded data removed]"
          },
          "metadata": {}
        },
        {
          "output_type": "display_data",
          "data": {
            "text/plain": [
              "<Figure size 432x432 with 1 Axes>"
            ],
            "image/png": "[encoded data removed]"
          },
          "metadata": {}
        },
        {
          "output_type": "display_data",
          "data": {
            "text/plain": [
              "<Figure size 432x432 with 1 Axes>"
            ],
            "image/png": "[encoded data removed]"
          },
          "metadata": {}
        },
        {
          "output_type": "display_data",
          "data": {
            "text/plain": [
              "<Figure size 432x432 with 1 Axes>"
            ],
            "image/png": "[encoded data removed]"
          },
          "metadata": {}
        },
        {
          "output_type": "display_data",
          "data": {
            "text/plain": [
              "<Figure size 432x432 with 1 Axes>"
            ],
            "image/png": "[encoded data removed]"
          },
          "metadata": {}
        },
        {
          "output_type": "display_data",
          "data": {
            "text/plain": [
              "<Figure size 432x432 with 1 Axes>"
            ],
            "image/png": "[encoded data removed]"
          },
          "metadata": {}
        },
        {
          "output_type": "display_data",
          "data": {
            "text/plain": [
              "<Figure size 432x432 with 1 Axes>"
            ],
            "image/png": "[encoded data removed]"
          },
          "metadata": {}
        },
        {
          "output_type": "display_data",
          "data": {
            "text/plain": [
              "<Figure size 432x432 with 1 Axes>"
            ],
            "image/png": "[encoded data removed]"
          },
          "metadata": {}
        },
        {
          "output_type": "display_data",
          "data": {
            "text/plain": [
              "<Figure size 432x432 with 1 Axes>"
            ],
            "image/png": "[encoded data removed]"
          },
          "metadata": {}
        },
        {
          "output_type": "display_data",
          "data": {
            "text/plain": [
              "<Figure size 432x432 with 1 Axes>"
            ],
            "image/png": "[encoded data removed]"
          },
          "metadata": {}
        },
        {
          "output_type": "display_data",
          "data": {
            "text/plain": [
              "<Figure size 432x432 with 1 Axes>"
            ],
            "image/png": "[encoded data removed]"
          },
          "metadata": {}
        },
        {
          "output_type": "display_data",
          "data": {
            "text/plain": [
              "<Figure size 432x432 with 1 Axes>"
            ],
            "image/png": "[encoded data removed]"
          },
          "metadata": {}
        },
        {
          "output_type": "display_data",
          "data": {
            "text/plain": [
              "<Figure size 432x432 with 1 Axes>"
            ],
            "image/png": "[encoded data removed]"
          },
          "metadata": {}
        },
        {
          "output_type": "display_data",
          "data": {
            "text/plain": [
              "<Figure size 432x432 with 1 Axes>"
            ],
            "image/png": "[encoded data removed]"
          },
          "metadata": {}
        }
      ]
    },
    {
      "cell_type": "markdown",
      "source": [
        "## Ejercicio 9"
      ],
      "metadata": {
        "id": "_lqP4KIYxcH7"
      }
    },
    {
      "cell_type": "markdown",
      "source": [
        "Realiza la visualización de los datos usando por lo menos 3 gráficos que consideres adecuados: plot, scatter, jointplot, boxplot, areaplot, pie chart, pairplot, bar chart, etc.\n"
      ],
      "metadata": {
        "id": "xjr0YycB1H-O"
      }
    },
    {
      "cell_type": "code",
      "source": [
        "## Scatter plot para relación entre la cantidad de crédito y la edad\n",
        "\n",
        "plt.scatter(df[['Age']],df[['CreditAmount']])\n",
        "plt.xlabel('Edad')\n",
        "plt.ylabel('Cantidad del Crédito')"
      ],
      "metadata": {
        "colab": {
          "base_uri": "https://localhost:8080/",
          "height": 422
        },
        "id": "hYO330y71cKZ",
        "outputId": "f369898b-7337-432d-a8bf-59cc8a904cc8"
      },
      "execution_count": null,
      "outputs": [
        {
          "output_type": "execute_result",
          "data": {
            "text/plain": [
              "Text(0, 0.5, 'Cantidad del Crédito')"
            ]
          },
          "metadata": {},
          "execution_count": 40
        },
        {
          "output_type": "display_data",
          "data": {
            "text/plain": [
              "<Figure size 432x432 with 1 Axes>"
            ],
            "image/png": "[encoded data removed]"
          },
          "metadata": {}
        }
      ]
    },
    {
      "cell_type": "code",
      "source": [
        "## Joint plot para ver la relación de Saldo y cantidad pagada en Septiembre, por tipo de Educación \n",
        "sns.jointplot(data=df, x=\"Saldo_Sep\", y=\"Pagos_Sep\", hue=\"Education\")"
      ],
      "metadata": {
        "colab": {
          "base_uri": "https://localhost:8080/",
          "height": 465
        },
        "id": "WlejrUkF1cQ5",
        "outputId": "cc0ec8ed-4b9b-4f91-90e3-cc1aee014da7"
      },
      "execution_count": null,
      "outputs": [
        {
          "output_type": "execute_result",
          "data": {
            "text/plain": [
              "<seaborn.axisgrid.JointGrid at 0x7fc813698d50>"
            ]
          },
          "metadata": {},
          "execution_count": 41
        },
        {
          "output_type": "display_data",
          "data": {
            "text/plain": [
              "<Figure size 432x432 with 3 Axes>"
            ],
            "image/png": "[encoded data removed]"
          },
          "metadata": {}
        }
      ]
    },
    {
      "cell_type": "code",
      "source": [
        "## Distribución del tamaño del crédito\n",
        "\n",
        "sns.boxplot(data=df, x='Age', saturation=1)"
      ],
      "metadata": {
        "colab": {
          "base_uri": "https://localhost:8080/",
          "height": 411
        },
        "id": "ho6UkfnO1cY5",
        "outputId": "371bbb92-2886-438a-ae18-db0699c8d493"
      },
      "execution_count": null,
      "outputs": [
        {
          "output_type": "execute_result",
          "data": {
            "text/plain": [
              "<matplotlib.axes._subplots.AxesSubplot at 0x7fc813524110>"
            ]
          },
          "metadata": {},
          "execution_count": 42
        },
        {
          "output_type": "display_data",
          "data": {
            "text/plain": [
              "<Figure size 432x432 with 1 Axes>"
            ],
            "image/png": "[encoded data removed]"
          },
          "metadata": {}
        }
      ]
    },
    {
      "cell_type": "markdown",
      "source": [
        "## Ejercicio 10"
      ],
      "metadata": {
        "id": "IYGZaq4V1UTR"
      }
    },
    {
      "cell_type": "markdown",
      "source": [
        "Interpreta y explica cada uno de los gráficos indicando cuál es la información más relevante que podría ayudar en el proceso de toma de decisiones.\n"
      ],
      "metadata": {
        "id": "8bvWxLO31WGq"
      }
    },
    {
      "cell_type": "markdown",
      "source": [
        "**Scatter plot para relación entre la cantidad de crédito y la edad**"
      ],
      "metadata": {
        "id": "zTcpKRTx1X1J"
      }
    },
    {
      "cell_type": "markdown",
      "source": [
        "No se observa una relación clara entre la edad y la cantidad de crédito, sin embargo observamos que la mayoría de los créditos se acumulan por debajo de los 500,000 dls. \n",
        "Y que aquellos que superan esta cifra son personas entre 30 y 50 años.\n",
        "Lo anterior ayuda a la toma de decisiones para identificar aquellos registros outliers de personas mayores a 50 y con solicitudes de crédito mayores a 500,000 dls las cuales pueden ser fraude."
      ],
      "metadata": {
        "id": "BbUK0Jmk7foA"
      }
    },
    {
      "cell_type": "markdown",
      "source": [
        "**Joint plot para ver la relación de Saldo y cantidad pagada en Septiembre, por tipo de Educación**"
      ],
      "metadata": {
        "id": "DwasmP6r1YbC"
      }
    },
    {
      "cell_type": "markdown",
      "source": [
        "Las personas con grado de educación de Universidad tienen saldos más altos, y pagos más altos, aunque entre estas dos últimas variables no se encuentre una relación clara, ya que existen créditos con saldos altos en Septiembre y pagos bajos, y viceversa.\n",
        "\n",
        "Lo anterior nos permite tomar decisiones de brindar mayores créditos que implican mayor cantidad en los pagos, para las personas con grado de educación universitario"
      ],
      "metadata": {
        "id": "hZrYWZsN7gYv"
      }
    },
    {
      "cell_type": "markdown",
      "source": [
        "**Distribución de la edad en las personas**"
      ],
      "metadata": {
        "id": "XfgihGrb1YlZ"
      }
    },
    {
      "cell_type": "markdown",
      "source": [
        "Se observa que la mediana está en 35, y la mayoría (75%) de la población se acumula entre 20 y 60 años. \n",
        "Los valores atípicos se presentan después de los 60 años.\n",
        "Nos sirve en el negocio para identificar la población objetivo, y de entrenarse un modelo, saber dónde actua de manera correcta porque fue entrenado con dichos datos. Es decir, si llega una persona mayor a 60 años o menor a 20, podemos esperar que el modelo no tenga las mismas métricas de desempeño dado que son registros outliers."
      ],
      "metadata": {
        "id": "ciktOAB17grf"
      }
    },
    {
      "cell_type": "markdown",
      "source": [
        "-- FIN ACTIVIDAD --"
      ],
      "metadata": {
        "id": "Xq5KZLUv1YwH"
      }
    }
  ]
}